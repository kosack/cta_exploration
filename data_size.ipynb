{
 "cells": [
  {
   "cell_type": "markdown",
   "metadata": {
    "extensions": {
     "jupyter_dashboards": {
      "version": 1,
      "views": {
       "grid_default": {
        "col": 0,
        "height": 9,
        "hidden": true,
        "row": 8,
        "width": 12
       },
       "report_default": {}
      }
     }
    }
   },
   "source": [
    "# Raw Data Size Calculator\n",
    "\n",
    "The following notebook provides a model to calculates the data volume from R1.TEL.EVT and DL0.TEL.EVT data produced on site, and compares it to the limitations of the off-site data link.\n",
    "\n",
    "* This notebook has interactive elements that do not work in a static NBViewer (like GitHub), so it's best to download a local copy and run it with `jupyter notebook <filename>` or use the on-line interactive instance \n",
    "* An [interactive version of this notebook](https://mybinder.org/v2/gh/kosack/cta_exploration/master): \n",
    "[![Binder](https://mybinder.org/badge.svg)](https://mybinder.org/v2/gh/kosack/cta_exploration/master)\n",
    "\n",
    "\n",
    "* Author: Karl Kosack <karl.kosack@cea.fr>"
   ]
  },
  {
   "cell_type": "code",
   "execution_count": 1,
   "metadata": {
    "extensions": {
     "jupyter_dashboards": {
      "version": 1,
      "views": {
       "grid_default": {
        "col": 0,
        "height": 4,
        "hidden": true,
        "row": 0,
        "width": 4
       },
       "report_default": {}
      }
     }
    }
   },
   "outputs": [
    {
     "name": "stdout",
     "output_type": "stream",
     "text": [
      "Populating the interactive namespace from numpy and matplotlib\n"
     ]
    }
   ],
   "source": [
    "%pylab inline\n",
    "from astropy import units as u\n",
    "import pandas as pd\n",
    "from ipywidgets import interact, Layout\n",
    "from copy import copy"
   ]
  },
  {
   "cell_type": "markdown",
   "metadata": {
    "extensions": {
     "jupyter_dashboards": {
      "version": 1,
      "views": {
       "grid_default": {
        "col": 0,
        "height": 17,
        "hidden": true,
        "row": 4,
        "width": 12
       },
       "report_default": {}
      }
     }
    }
   },
   "source": [
    "## Assumptions \n",
    "\n",
    "Camera Data:\n",
    "* average trigger rates per subarray are from https://jama.cta-observatory.org/perspective.req#/items/27987?projectId=6\n",
    "\n",
    "* the array is the *full* CTA-South array, without any staging\n",
    "\n",
    "* The data sizes are based on the **R1/DL0 interface document** (in prep), where the estimate includes for each subarray type:\n",
    "  * The DL0.TEL.EVT.IMAGE data (camera readout) with integral readout + a fraction of pixels with pulse readout\n",
    "  * a single timestamp per camera per event\n",
    "  * a pixel-wise flag per pixel that can encode e.g. the gain channel selected, as well as pixel trigger info\n",
    "  * a trigger type flag\n",
    "* The volume of technical data (MON and SVC) is set as a fixed-value per year.\n",
    "\n",
    "Off-site link:\n",
    "* we only transfer data when data are not being taken (maybe this is not needed, but the difference is small)\n",
    "* we should only use at most 75% of the off-site link \n",
    "\n",
    "Transfer Rates:\n",
    "* the *mean transfer rate* assumes an average over all non-data-taking time in a year\n",
    "* the *peak transfer rate* is calculated for a single long night of 12h of observations, and assumes continuous copying (even during data taking) for 24 hours\n",
    "* the *mean transfer rate* should be between 50%-75% of the total link speed, and the *peak transfer rate* should not greatly exceed the full link speed (since it is only at peak occasionally during the year).  \n"
   ]
  },
  {
   "cell_type": "code",
   "execution_count": 2,
   "metadata": {
    "extensions": {
     "jupyter_dashboards": {
      "version": 1,
      "views": {
       "grid_default": {
        "col": 0,
        "height": 5,
        "hidden": true,
        "row": 0,
        "width": 4
       },
       "report_default": {}
      }
     }
    }
   },
   "outputs": [
    {
     "data": {
      "text/html": [
       "<div>\n",
       "<style scoped>\n",
       "    .dataframe tbody tr th:only-of-type {\n",
       "        vertical-align: middle;\n",
       "    }\n",
       "\n",
       "    .dataframe tbody tr th {\n",
       "        vertical-align: top;\n",
       "    }\n",
       "\n",
       "    .dataframe thead th {\n",
       "        text-align: right;\n",
       "    }\n",
       "</style>\n",
       "<table border=\"1\" class=\"dataframe\">\n",
       "  <thead>\n",
       "    <tr style=\"text-align: right;\">\n",
       "      <th></th>\n",
       "      <th>LST</th>\n",
       "      <th>MST</th>\n",
       "      <th>SST</th>\n",
       "    </tr>\n",
       "  </thead>\n",
       "  <tbody>\n",
       "    <tr>\n",
       "      <th>mean_tels_triggered</th>\n",
       "      <td>2</td>\n",
       "      <td>7</td>\n",
       "      <td>7</td>\n",
       "    </tr>\n",
       "    <tr>\n",
       "      <th>n_pix</th>\n",
       "      <td>1855</td>\n",
       "      <td>1855</td>\n",
       "      <td>2048</td>\n",
       "    </tr>\n",
       "    <tr>\n",
       "      <th>rate</th>\n",
       "      <td>15000.0 Hz</td>\n",
       "      <td>7000.0 Hz</td>\n",
       "      <td>600.0 Hz</td>\n",
       "    </tr>\n",
       "  </tbody>\n",
       "</table>\n",
       "</div>"
      ],
      "text/plain": [
       "                            LST        MST       SST\n",
       "mean_tels_triggered           2          7         7\n",
       "n_pix                      1855       1855      2048\n",
       "rate                 15000.0 Hz  7000.0 Hz  600.0 Hz"
      ]
     },
     "execution_count": 2,
     "metadata": {},
     "output_type": "execute_result"
    }
   ],
   "source": [
    "subarrays = {}\n",
    "\n",
    "subarrays['LST'] = dict(\n",
    "    n_pix = 1855,\n",
    "    rate = 15000 * u.Hz,\n",
    "    mean_tels_triggered = 2,\n",
    ")\n",
    "\n",
    "subarrays['MST'] = dict(\n",
    "    n_pix = 1855,\n",
    "    rate = 7000 * u.Hz,\n",
    "    mean_tels_triggered = 7,\n",
    ")\n",
    "\n",
    "subarrays['SST'] = dict(\n",
    "    n_pix = 2048,\n",
    "    rate = 600 * u.Hz,\n",
    "    mean_tels_triggered = 7,\n",
    ")\n",
    "\n",
    "obs_per_year = 1314 * u.h\n",
    "obs_per_night_peak = 12*u.h\n",
    "\n",
    "mon_data_per_year = 100 *u.TB # from CTA Off-site IC infrastructure costs estimate, V3.3\n",
    "\n",
    "off_site_link_speed = 1 *u.Gbit/u.s\n",
    "\n",
    "pd.DataFrame(subarrays)"
   ]
  },
  {
   "cell_type": "markdown",
   "metadata": {
    "extensions": {
     "jupyter_dashboards": {
      "version": 1,
      "views": {
       "grid_default": {
        "col": 4,
        "height": 4,
        "hidden": true,
        "row": 4,
        "width": 4
       },
       "report_default": {}
      }
     }
    }
   },
   "source": [
    "## Calculation"
   ]
  },
  {
   "cell_type": "code",
   "execution_count": 3,
   "metadata": {
    "extensions": {
     "jupyter_dashboards": {
      "version": 1,
      "views": {
       "grid_default": {
        "hidden": true
       },
       "report_default": {}
      }
     }
    }
   },
   "outputs": [],
   "source": [
    "def subarray_rate(subarray, \n",
    "                  event_id_size=64*u.bit, \n",
    "                  timestamp_size=2*32*u.bit, \n",
    "                  trig_type_size=8*u.bit, \n",
    "                  pix_status_size=8*u.bit, \n",
    "                  dvr_percent=3.0,\n",
    "                  pix_sample_size=16*u.bit,\n",
    "                  pix_integrated_size=16*u.bit, # enough?\n",
    "                  compression_ratio=4.0,\n",
    "                  num_gain_channels=1,\n",
    "                  n_samp=64):\n",
    "    \n",
    "    dvr_fraction = dvr_percent/100.0\n",
    "    core_size = event_id_size + timestamp_size + trig_type_size \n",
    "    pix_flag_size = pix_status_size * subarray['n_pix']\n",
    "    \n",
    "    # images with + without DVR:\n",
    "    image_size = pix_sample_size * subarray['n_pix'] * n_samp * dvr_fraction\n",
    "    image_size += pix_integrated_size * subarray['n_pix'] # integrated pixels\n",
    "    image_size *= num_gain_channels\n",
    "\n",
    "    event_size =  core_size + pix_flag_size + image_size\n",
    "    \n",
    "    data_rate = (event_size \n",
    "                 * subarray['rate'] \n",
    "                 * subarray['mean_tels_triggered']) / compression_ratio \n",
    "    \n",
    "    return data_rate\n",
    "\n",
    "def combined_data_rate(subarrays, **params):\n",
    "    \"\"\" rate for all subarrays summed \"\"\"\n",
    "    rates = [subarray_rate(x, **params).to('Gbit/s').value for x in subarrays.values()]\n",
    "    return np.sum(rates) * u.Gb/u.s\n",
    "\n",
    "def colorizer(val):\n",
    "    \"\"\" warn if the off-site link is saturated \"\"\"\n",
    "    speed = off_site_link_speed.to('Gbit/s').value\n",
    "\n",
    "    if val < (0.5 * speed):\n",
    "        color = 'green'\n",
    "    elif val > (0.5 * speed) and val < (0.7 * speed):\n",
    "        color = 'orange'\n",
    "    elif val > (0.7 * speed):\n",
    "        color = 'red'\n",
    "    return 'color: %s; font-weight:bold' % color"
   ]
  },
  {
   "cell_type": "code",
   "execution_count": 4,
   "metadata": {
    "collapsed": true,
    "extensions": {
     "jupyter_dashboards": {
      "version": 1,
      "views": {
       "grid_default": {
        "hidden": true
       },
       "report_default": {}
      }
     }
    }
   },
   "outputs": [],
   "source": [
    "def calc_rates(subarrays, **params):\n",
    "    \"\"\" \n",
    "    put all estimates into a Pandas DataFrame, and calculate \n",
    "    yearly rates and transfer rates \n",
    "    \"\"\"\n",
    "    r1params = copy(params)\n",
    "    r1params['dvr_percent'] = 100\n",
    "    r1params ['compression_ratio'] = 1.0\n",
    "\n",
    "    mon_rate = (mon_data_per_year/u.yr).to('Gbyte/s').value\n",
    "    results = pd.DataFrame( index=list(subarrays.keys()) + ['MON'])\n",
    "    results['rate_R1_Gbps'] = [subarray_rate(x, **r1params).to('Gbit/s').value \n",
    "                               for x in subarrays.values()] +[mon_rate,]\n",
    "    results['rate_DL0_Gbps'] = [subarray_rate(x, **params).to('Gbit/s').value \n",
    "                                for x in subarrays.values()] + [mon_rate,]\n",
    "    results['volume_1yr_PB'] = (results['rate_DL0_Gbps'].data * u.Gbit/u.s * obs_per_year).to('PB')\n",
    "    results['volume_5yr_PB'] = (results['rate_DL0_Gbps'].data * u.Gbit/u.s * 5 * obs_per_year).to('PB')\n",
    "    results['volume_10yr_PB'] = (results['rate_DL0_Gbps'].data * u.Gbit/u.s * 10* obs_per_year).to('PB')\n",
    "    results['mean_transfer_Gbps'] = (results['volume_1yr_PB'].data * u.PB / \n",
    "                                     (1.0*u.yr - obs_per_year)).to('Gbit/s')\n",
    "    results['peak_transfer_Gbps'] = (((results['rate_DL0_Gbps'].data * u.Gbit/u.s) \n",
    "                                      * obs_per_night_peak) / (24*u.h)).to('Gbit/s')\n",
    "    results.loc['TOTAL'] = results.sum()\n",
    "    return results.style.applymap(colorizer, subset=['mean_transfer_Gbps','peak_transfer_Gbps'])"
   ]
  },
  {
   "cell_type": "markdown",
   "metadata": {
    "extensions": {
     "jupyter_dashboards": {
      "version": 1,
      "views": {
       "grid_default": {
        "col": 8,
        "height": 4,
        "hidden": true,
        "row": 0,
        "width": 4
       },
       "report_default": {}
      }
     }
    }
   },
   "source": [
    "## Results\n",
    "\n",
    "### base scenario"
   ]
  },
  {
   "cell_type": "code",
   "execution_count": 5,
   "metadata": {
    "extensions": {
     "jupyter_dashboards": {
      "version": 1,
      "views": {
       "grid_default": {
        "col": 0,
        "height": 7,
        "hidden": true,
        "row": 5,
        "width": 9
       },
       "report_default": {}
      }
     }
    }
   },
   "outputs": [
    {
     "data": {
      "text/html": [
       "<style  type=\"text/css\" >\n",
       "    #T_4fc8f706_e0b8_11e7_81ea_3c15c2d6877erow0_col5 {\n",
       "            color:  green;\n",
       "             font-weight: bold;\n",
       "        }    #T_4fc8f706_e0b8_11e7_81ea_3c15c2d6877erow0_col6 {\n",
       "            color:  green;\n",
       "             font-weight: bold;\n",
       "        }    #T_4fc8f706_e0b8_11e7_81ea_3c15c2d6877erow1_col5 {\n",
       "            color:  green;\n",
       "             font-weight: bold;\n",
       "        }    #T_4fc8f706_e0b8_11e7_81ea_3c15c2d6877erow1_col6 {\n",
       "            color:  orange;\n",
       "             font-weight: bold;\n",
       "        }    #T_4fc8f706_e0b8_11e7_81ea_3c15c2d6877erow2_col5 {\n",
       "            color:  green;\n",
       "             font-weight: bold;\n",
       "        }    #T_4fc8f706_e0b8_11e7_81ea_3c15c2d6877erow2_col6 {\n",
       "            color:  green;\n",
       "             font-weight: bold;\n",
       "        }    #T_4fc8f706_e0b8_11e7_81ea_3c15c2d6877erow3_col5 {\n",
       "            color:  green;\n",
       "             font-weight: bold;\n",
       "        }    #T_4fc8f706_e0b8_11e7_81ea_3c15c2d6877erow3_col6 {\n",
       "            color:  green;\n",
       "             font-weight: bold;\n",
       "        }    #T_4fc8f706_e0b8_11e7_81ea_3c15c2d6877erow4_col5 {\n",
       "            color:  green;\n",
       "             font-weight: bold;\n",
       "        }    #T_4fc8f706_e0b8_11e7_81ea_3c15c2d6877erow4_col6 {\n",
       "            color:  red;\n",
       "             font-weight: bold;\n",
       "        }</style>  \n",
       "<table id=\"T_4fc8f706_e0b8_11e7_81ea_3c15c2d6877e\" > \n",
       "<thead>    <tr> \n",
       "        <th class=\"blank level0\" ></th> \n",
       "        <th class=\"col_heading level0 col0\" >rate_R1_Gbps</th> \n",
       "        <th class=\"col_heading level0 col1\" >rate_DL0_Gbps</th> \n",
       "        <th class=\"col_heading level0 col2\" >volume_1yr_PB</th> \n",
       "        <th class=\"col_heading level0 col3\" >volume_5yr_PB</th> \n",
       "        <th class=\"col_heading level0 col4\" >volume_10yr_PB</th> \n",
       "        <th class=\"col_heading level0 col5\" >mean_transfer_Gbps</th> \n",
       "        <th class=\"col_heading level0 col6\" >peak_transfer_Gbps</th> \n",
       "    </tr></thead> \n",
       "<tbody>    <tr> \n",
       "        <th id=\"T_4fc8f706_e0b8_11e7_81ea_3c15c2d6877elevel0_row0\" class=\"row_heading level0 row0\" >LST</th> \n",
       "        <td id=\"T_4fc8f706_e0b8_11e7_81ea_3c15c2d6877erow0_col0\" class=\"data row0 col0\" >58.3253</td> \n",
       "        <td id=\"T_4fc8f706_e0b8_11e7_81ea_3c15c2d6877erow0_col1\" class=\"data row0 col1\" >0.762312</td> \n",
       "        <td id=\"T_4fc8f706_e0b8_11e7_81ea_3c15c2d6877erow0_col2\" class=\"data row0 col2\" >0.450755</td> \n",
       "        <td id=\"T_4fc8f706_e0b8_11e7_81ea_3c15c2d6877erow0_col3\" class=\"data row0 col3\" >2.25378</td> \n",
       "        <td id=\"T_4fc8f706_e0b8_11e7_81ea_3c15c2d6877erow0_col4\" class=\"data row0 col4\" >4.50755</td> \n",
       "        <td id=\"T_4fc8f706_e0b8_11e7_81ea_3c15c2d6877erow0_col5\" class=\"data row0 col5\" >0.134417</td> \n",
       "        <td id=\"T_4fc8f706_e0b8_11e7_81ea_3c15c2d6877erow0_col6\" class=\"data row0 col6\" >0.381156</td> \n",
       "    </tr>    <tr> \n",
       "        <th id=\"T_4fc8f706_e0b8_11e7_81ea_3c15c2d6877elevel0_row1\" class=\"row_heading level0 row1\" >MST</th> \n",
       "        <td id=\"T_4fc8f706_e0b8_11e7_81ea_3c15c2d6877erow1_col0\" class=\"data row1 col0\" >95.2646</td> \n",
       "        <td id=\"T_4fc8f706_e0b8_11e7_81ea_3c15c2d6877erow1_col1\" class=\"data row1 col1\" >1.24511</td> \n",
       "        <td id=\"T_4fc8f706_e0b8_11e7_81ea_3c15c2d6877erow1_col2\" class=\"data row1 col2\" >0.736233</td> \n",
       "        <td id=\"T_4fc8f706_e0b8_11e7_81ea_3c15c2d6877erow1_col3\" class=\"data row1 col3\" >3.68117</td> \n",
       "        <td id=\"T_4fc8f706_e0b8_11e7_81ea_3c15c2d6877erow1_col4\" class=\"data row1 col4\" >7.36233</td> \n",
       "        <td id=\"T_4fc8f706_e0b8_11e7_81ea_3c15c2d6877erow1_col5\" class=\"data row1 col5\" >0.219548</td> \n",
       "        <td id=\"T_4fc8f706_e0b8_11e7_81ea_3c15c2d6877erow1_col6\" class=\"data row1 col6\" >0.622555</td> \n",
       "    </tr>    <tr> \n",
       "        <th id=\"T_4fc8f706_e0b8_11e7_81ea_3c15c2d6877elevel0_row2\" class=\"row_heading level0 row2\" >SST</th> \n",
       "        <td id=\"T_4fc8f706_e0b8_11e7_81ea_3c15c2d6877erow2_col0\" class=\"data row2 col0\" >9.01505</td> \n",
       "        <td id=\"T_4fc8f706_e0b8_11e7_81ea_3c15c2d6877erow2_col1\" class=\"data row2 col1\" >0.117813</td> \n",
       "        <td id=\"T_4fc8f706_e0b8_11e7_81ea_3c15c2d6877erow2_col2\" class=\"data row2 col2\" >0.0696626</td> \n",
       "        <td id=\"T_4fc8f706_e0b8_11e7_81ea_3c15c2d6877erow2_col3\" class=\"data row2 col3\" >0.348313</td> \n",
       "        <td id=\"T_4fc8f706_e0b8_11e7_81ea_3c15c2d6877erow2_col4\" class=\"data row2 col4\" >0.696626</td> \n",
       "        <td id=\"T_4fc8f706_e0b8_11e7_81ea_3c15c2d6877erow2_col5\" class=\"data row2 col5\" >0.0207737</td> \n",
       "        <td id=\"T_4fc8f706_e0b8_11e7_81ea_3c15c2d6877erow2_col6\" class=\"data row2 col6\" >0.0589063</td> \n",
       "    </tr>    <tr> \n",
       "        <th id=\"T_4fc8f706_e0b8_11e7_81ea_3c15c2d6877elevel0_row3\" class=\"row_heading level0 row3\" >MON</th> \n",
       "        <td id=\"T_4fc8f706_e0b8_11e7_81ea_3c15c2d6877erow3_col0\" class=\"data row3 col0\" >0.00316881</td> \n",
       "        <td id=\"T_4fc8f706_e0b8_11e7_81ea_3c15c2d6877erow3_col1\" class=\"data row3 col1\" >0.00316881</td> \n",
       "        <td id=\"T_4fc8f706_e0b8_11e7_81ea_3c15c2d6877erow3_col2\" class=\"data row3 col2\" >0.00187372</td> \n",
       "        <td id=\"T_4fc8f706_e0b8_11e7_81ea_3c15c2d6877erow3_col3\" class=\"data row3 col3\" >0.00936858</td> \n",
       "        <td id=\"T_4fc8f706_e0b8_11e7_81ea_3c15c2d6877erow3_col4\" class=\"data row3 col4\" >0.0187372</td> \n",
       "        <td id=\"T_4fc8f706_e0b8_11e7_81ea_3c15c2d6877erow3_col5\" class=\"data row3 col5\" >0.000558751</td> \n",
       "        <td id=\"T_4fc8f706_e0b8_11e7_81ea_3c15c2d6877erow3_col6\" class=\"data row3 col6\" >0.0015844</td> \n",
       "    </tr>    <tr> \n",
       "        <th id=\"T_4fc8f706_e0b8_11e7_81ea_3c15c2d6877elevel0_row4\" class=\"row_heading level0 row4\" >TOTAL</th> \n",
       "        <td id=\"T_4fc8f706_e0b8_11e7_81ea_3c15c2d6877erow4_col0\" class=\"data row4 col0\" >162.608</td> \n",
       "        <td id=\"T_4fc8f706_e0b8_11e7_81ea_3c15c2d6877erow4_col1\" class=\"data row4 col1\" >2.1284</td> \n",
       "        <td id=\"T_4fc8f706_e0b8_11e7_81ea_3c15c2d6877erow4_col2\" class=\"data row4 col2\" >1.25852</td> \n",
       "        <td id=\"T_4fc8f706_e0b8_11e7_81ea_3c15c2d6877erow4_col3\" class=\"data row4 col3\" >6.29262</td> \n",
       "        <td id=\"T_4fc8f706_e0b8_11e7_81ea_3c15c2d6877erow4_col4\" class=\"data row4 col4\" >12.5852</td> \n",
       "        <td id=\"T_4fc8f706_e0b8_11e7_81ea_3c15c2d6877erow4_col5\" class=\"data row4 col5\" >0.375298</td> \n",
       "        <td id=\"T_4fc8f706_e0b8_11e7_81ea_3c15c2d6877erow4_col6\" class=\"data row4 col6\" >1.0642</td> \n",
       "    </tr></tbody> \n",
       "</table> "
      ],
      "text/plain": [
       "<pandas.io.formats.style.Styler at 0x10a14f400>"
      ]
     },
     "execution_count": 5,
     "metadata": {},
     "output_type": "execute_result"
    }
   ],
   "source": [
    "results = calc_rates(subarrays)\n",
    "results"
   ]
  },
  {
   "cell_type": "markdown",
   "metadata": {
    "extensions": {
     "jupyter_dashboards": {
      "version": 1,
      "views": {
       "grid_default": {
        "col": null,
        "height": 5,
        "hidden": true,
        "row": 7,
        "width": null
       },
       "report_default": {}
      }
     }
    }
   },
   "source": [
    "note all rates are in *Gbit/s* and the **CTA max transfer rate off-site is 1 Gb/s**, so the *mean_transfer_Gbps* column should be $< 1 Gbit/s$\n",
    "\n",
    "### Scenario 2: increase DVR fraction to keep 10% of pixels\n",
    "\n",
    "what if we keep 10% of the camera after DVR, instead of the default 3% of pixels?"
   ]
  },
  {
   "cell_type": "code",
   "execution_count": 6,
   "metadata": {
    "extensions": {
     "jupyter_dashboards": {
      "version": 1,
      "views": {
       "grid_default": {
        "col": 0,
        "height": 7,
        "hidden": true,
        "row": 5,
        "width": 9
       },
       "report_default": {}
      }
     }
    }
   },
   "outputs": [
    {
     "data": {
      "text/html": [
       "<style  type=\"text/css\" >\n",
       "    #T_4fd0b098_e0b8_11e7_b660_3c15c2d6877erow0_col5 {\n",
       "            color:  green;\n",
       "             font-weight: bold;\n",
       "        }    #T_4fd0b098_e0b8_11e7_b660_3c15c2d6877erow0_col6 {\n",
       "            color:  red;\n",
       "             font-weight: bold;\n",
       "        }    #T_4fd0b098_e0b8_11e7_b660_3c15c2d6877erow1_col5 {\n",
       "            color:  orange;\n",
       "             font-weight: bold;\n",
       "        }    #T_4fd0b098_e0b8_11e7_b660_3c15c2d6877erow1_col6 {\n",
       "            color:  red;\n",
       "             font-weight: bold;\n",
       "        }    #T_4fd0b098_e0b8_11e7_b660_3c15c2d6877erow2_col5 {\n",
       "            color:  green;\n",
       "             font-weight: bold;\n",
       "        }    #T_4fd0b098_e0b8_11e7_b660_3c15c2d6877erow2_col6 {\n",
       "            color:  green;\n",
       "             font-weight: bold;\n",
       "        }    #T_4fd0b098_e0b8_11e7_b660_3c15c2d6877erow3_col5 {\n",
       "            color:  green;\n",
       "             font-weight: bold;\n",
       "        }    #T_4fd0b098_e0b8_11e7_b660_3c15c2d6877erow3_col6 {\n",
       "            color:  green;\n",
       "             font-weight: bold;\n",
       "        }    #T_4fd0b098_e0b8_11e7_b660_3c15c2d6877erow4_col5 {\n",
       "            color:  red;\n",
       "             font-weight: bold;\n",
       "        }    #T_4fd0b098_e0b8_11e7_b660_3c15c2d6877erow4_col6 {\n",
       "            color:  red;\n",
       "             font-weight: bold;\n",
       "        }</style>  \n",
       "<table id=\"T_4fd0b098_e0b8_11e7_b660_3c15c2d6877e\" > \n",
       "<thead>    <tr> \n",
       "        <th class=\"blank level0\" ></th> \n",
       "        <th class=\"col_heading level0 col0\" >rate_R1_Gbps</th> \n",
       "        <th class=\"col_heading level0 col1\" >rate_DL0_Gbps</th> \n",
       "        <th class=\"col_heading level0 col2\" >volume_1yr_PB</th> \n",
       "        <th class=\"col_heading level0 col3\" >volume_5yr_PB</th> \n",
       "        <th class=\"col_heading level0 col4\" >volume_10yr_PB</th> \n",
       "        <th class=\"col_heading level0 col5\" >mean_transfer_Gbps</th> \n",
       "        <th class=\"col_heading level0 col6\" >peak_transfer_Gbps</th> \n",
       "    </tr></thead> \n",
       "<tbody>    <tr> \n",
       "        <th id=\"T_4fd0b098_e0b8_11e7_b660_3c15c2d6877elevel0_row0\" class=\"row_heading level0 row0\" >LST</th> \n",
       "        <td id=\"T_4fd0b098_e0b8_11e7_b660_3c15c2d6877erow0_col0\" class=\"data row0 col0\" >58.3253</td> \n",
       "        <td id=\"T_4fd0b098_e0b8_11e7_b660_3c15c2d6877erow0_col1\" class=\"data row0 col1\" >1.75956</td> \n",
       "        <td id=\"T_4fd0b098_e0b8_11e7_b660_3c15c2d6877erow0_col2\" class=\"data row0 col2\" >1.04043</td> \n",
       "        <td id=\"T_4fd0b098_e0b8_11e7_b660_3c15c2d6877erow0_col3\" class=\"data row0 col3\" >5.20214</td> \n",
       "        <td id=\"T_4fd0b098_e0b8_11e7_b660_3c15c2d6877erow0_col4\" class=\"data row0 col4\" >10.4043</td> \n",
       "        <td id=\"T_4fd0b098_e0b8_11e7_b660_3c15c2d6877erow0_col5\" class=\"data row0 col5\" >0.310261</td> \n",
       "        <td id=\"T_4fd0b098_e0b8_11e7_b660_3c15c2d6877erow0_col6\" class=\"data row0 col6\" >0.87978</td> \n",
       "    </tr>    <tr> \n",
       "        <th id=\"T_4fd0b098_e0b8_11e7_b660_3c15c2d6877elevel0_row1\" class=\"row_heading level0 row1\" >MST</th> \n",
       "        <td id=\"T_4fd0b098_e0b8_11e7_b660_3c15c2d6877erow1_col0\" class=\"data row1 col0\" >95.2646</td> \n",
       "        <td id=\"T_4fd0b098_e0b8_11e7_b660_3c15c2d6877erow1_col1\" class=\"data row1 col1\" >2.87395</td> \n",
       "        <td id=\"T_4fd0b098_e0b8_11e7_b660_3c15c2d6877erow1_col2\" class=\"data row1 col2\" >1.69937</td> \n",
       "        <td id=\"T_4fd0b098_e0b8_11e7_b660_3c15c2d6877erow1_col3\" class=\"data row1 col3\" >8.49683</td> \n",
       "        <td id=\"T_4fd0b098_e0b8_11e7_b660_3c15c2d6877erow1_col4\" class=\"data row1 col4\" >16.9937</td> \n",
       "        <td id=\"T_4fd0b098_e0b8_11e7_b660_3c15c2d6877erow1_col5\" class=\"data row1 col5\" >0.506759</td> \n",
       "        <td id=\"T_4fd0b098_e0b8_11e7_b660_3c15c2d6877erow1_col6\" class=\"data row1 col6\" >1.43697</td> \n",
       "    </tr>    <tr> \n",
       "        <th id=\"T_4fd0b098_e0b8_11e7_b660_3c15c2d6877elevel0_row2\" class=\"row_heading level0 row2\" >SST</th> \n",
       "        <td id=\"T_4fd0b098_e0b8_11e7_b660_3c15c2d6877erow2_col0\" class=\"data row2 col0\" >9.01505</td> \n",
       "        <td id=\"T_4fd0b098_e0b8_11e7_b660_3c15c2d6877erow2_col1\" class=\"data row2 col1\" >0.271953</td> \n",
       "        <td id=\"T_4fd0b098_e0b8_11e7_b660_3c15c2d6877erow2_col2\" class=\"data row2 col2\" >0.160806</td> \n",
       "        <td id=\"T_4fd0b098_e0b8_11e7_b660_3c15c2d6877erow2_col3\" class=\"data row2 col3\" >0.80403</td> \n",
       "        <td id=\"T_4fd0b098_e0b8_11e7_b660_3c15c2d6877erow2_col4\" class=\"data row2 col4\" >1.60806</td> \n",
       "        <td id=\"T_4fd0b098_e0b8_11e7_b660_3c15c2d6877erow2_col5\" class=\"data row2 col5\" >0.0479531</td> \n",
       "        <td id=\"T_4fd0b098_e0b8_11e7_b660_3c15c2d6877erow2_col6\" class=\"data row2 col6\" >0.135977</td> \n",
       "    </tr>    <tr> \n",
       "        <th id=\"T_4fd0b098_e0b8_11e7_b660_3c15c2d6877elevel0_row3\" class=\"row_heading level0 row3\" >MON</th> \n",
       "        <td id=\"T_4fd0b098_e0b8_11e7_b660_3c15c2d6877erow3_col0\" class=\"data row3 col0\" >0.00316881</td> \n",
       "        <td id=\"T_4fd0b098_e0b8_11e7_b660_3c15c2d6877erow3_col1\" class=\"data row3 col1\" >0.00316881</td> \n",
       "        <td id=\"T_4fd0b098_e0b8_11e7_b660_3c15c2d6877erow3_col2\" class=\"data row3 col2\" >0.00187372</td> \n",
       "        <td id=\"T_4fd0b098_e0b8_11e7_b660_3c15c2d6877erow3_col3\" class=\"data row3 col3\" >0.00936858</td> \n",
       "        <td id=\"T_4fd0b098_e0b8_11e7_b660_3c15c2d6877erow3_col4\" class=\"data row3 col4\" >0.0187372</td> \n",
       "        <td id=\"T_4fd0b098_e0b8_11e7_b660_3c15c2d6877erow3_col5\" class=\"data row3 col5\" >0.000558751</td> \n",
       "        <td id=\"T_4fd0b098_e0b8_11e7_b660_3c15c2d6877erow3_col6\" class=\"data row3 col6\" >0.0015844</td> \n",
       "    </tr>    <tr> \n",
       "        <th id=\"T_4fd0b098_e0b8_11e7_b660_3c15c2d6877elevel0_row4\" class=\"row_heading level0 row4\" >TOTAL</th> \n",
       "        <td id=\"T_4fd0b098_e0b8_11e7_b660_3c15c2d6877erow4_col0\" class=\"data row4 col0\" >162.608</td> \n",
       "        <td id=\"T_4fd0b098_e0b8_11e7_b660_3c15c2d6877erow4_col1\" class=\"data row4 col1\" >4.90863</td> \n",
       "        <td id=\"T_4fd0b098_e0b8_11e7_b660_3c15c2d6877erow4_col2\" class=\"data row4 col2\" >2.90247</td> \n",
       "        <td id=\"T_4fd0b098_e0b8_11e7_b660_3c15c2d6877erow4_col3\" class=\"data row4 col3\" >14.5124</td> \n",
       "        <td id=\"T_4fd0b098_e0b8_11e7_b660_3c15c2d6877erow4_col4\" class=\"data row4 col4\" >29.0247</td> \n",
       "        <td id=\"T_4fd0b098_e0b8_11e7_b660_3c15c2d6877erow4_col5\" class=\"data row4 col5\" >0.865531</td> \n",
       "        <td id=\"T_4fd0b098_e0b8_11e7_b660_3c15c2d6877erow4_col6\" class=\"data row4 col6\" >2.45432</td> \n",
       "    </tr></tbody> \n",
       "</table> "
      ],
      "text/plain": [
       "<pandas.io.formats.style.Styler at 0x10a14fa90>"
      ]
     },
     "execution_count": 6,
     "metadata": {},
     "output_type": "execute_result"
    }
   ],
   "source": [
    "calc_rates(subarrays, dvr_percent=10.0) "
   ]
  },
  {
   "cell_type": "markdown",
   "metadata": {
    "extensions": {
     "jupyter_dashboards": {
      "version": 1,
      "views": {
       "grid_default": {
        "col": 0,
        "height": 5,
        "hidden": true,
        "row": 13,
        "width": 12
       },
       "report_default": {}
      }
     }
    }
   },
   "source": [
    "here, we exceed the transfer rate (over 75% of the link must be used in non-data-taking time), so this is not a reasonable solution\n",
    "\n",
    "### Scenario 3: Read out 2 gain channels\n",
    "\n",
    "Let's try another scenario: assume that the telescopes read out *both gain channels* (in which case we can also probably remove the `pix_info_per_pix` field, since we can compute the gain channel, etc from the raw data"
   ]
  },
  {
   "cell_type": "code",
   "execution_count": 7,
   "metadata": {
    "extensions": {
     "jupyter_dashboards": {
      "version": 1,
      "views": {
       "grid_default": {
        "col": 0,
        "height": 7,
        "hidden": true,
        "row": 13,
        "width": 9
       },
       "report_default": {}
      }
     }
    }
   },
   "outputs": [
    {
     "data": {
      "text/html": [
       "<style  type=\"text/css\" >\n",
       "    #T_4fd633b0_e0b8_11e7_9227_3c15c2d6877erow0_col5 {\n",
       "            color:  green;\n",
       "             font-weight: bold;\n",
       "        }    #T_4fd633b0_e0b8_11e7_9227_3c15c2d6877erow0_col6 {\n",
       "            color:  orange;\n",
       "             font-weight: bold;\n",
       "        }    #T_4fd633b0_e0b8_11e7_9227_3c15c2d6877erow1_col5 {\n",
       "            color:  green;\n",
       "             font-weight: bold;\n",
       "        }    #T_4fd633b0_e0b8_11e7_9227_3c15c2d6877erow1_col6 {\n",
       "            color:  red;\n",
       "             font-weight: bold;\n",
       "        }    #T_4fd633b0_e0b8_11e7_9227_3c15c2d6877erow2_col5 {\n",
       "            color:  green;\n",
       "             font-weight: bold;\n",
       "        }    #T_4fd633b0_e0b8_11e7_9227_3c15c2d6877erow2_col6 {\n",
       "            color:  green;\n",
       "             font-weight: bold;\n",
       "        }    #T_4fd633b0_e0b8_11e7_9227_3c15c2d6877erow3_col5 {\n",
       "            color:  green;\n",
       "             font-weight: bold;\n",
       "        }    #T_4fd633b0_e0b8_11e7_9227_3c15c2d6877erow3_col6 {\n",
       "            color:  green;\n",
       "             font-weight: bold;\n",
       "        }    #T_4fd633b0_e0b8_11e7_9227_3c15c2d6877erow4_col5 {\n",
       "            color:  orange;\n",
       "             font-weight: bold;\n",
       "        }    #T_4fd633b0_e0b8_11e7_9227_3c15c2d6877erow4_col6 {\n",
       "            color:  red;\n",
       "             font-weight: bold;\n",
       "        }</style>  \n",
       "<table id=\"T_4fd633b0_e0b8_11e7_9227_3c15c2d6877e\" > \n",
       "<thead>    <tr> \n",
       "        <th class=\"blank level0\" ></th> \n",
       "        <th class=\"col_heading level0 col0\" >rate_R1_Gbps</th> \n",
       "        <th class=\"col_heading level0 col1\" >rate_DL0_Gbps</th> \n",
       "        <th class=\"col_heading level0 col2\" >volume_1yr_PB</th> \n",
       "        <th class=\"col_heading level0 col3\" >volume_5yr_PB</th> \n",
       "        <th class=\"col_heading level0 col4\" >volume_10yr_PB</th> \n",
       "        <th class=\"col_heading level0 col5\" >mean_transfer_Gbps</th> \n",
       "        <th class=\"col_heading level0 col6\" >peak_transfer_Gbps</th> \n",
       "    </tr></thead> \n",
       "<tbody>    <tr> \n",
       "        <th id=\"T_4fd633b0_e0b8_11e7_9227_3c15c2d6877elevel0_row0\" class=\"row_heading level0 row0\" >LST</th> \n",
       "        <td id=\"T_4fd633b0_e0b8_11e7_9227_3c15c2d6877erow0_col0\" class=\"data row0 col0\" >115.756</td> \n",
       "        <td id=\"T_4fd633b0_e0b8_11e7_9227_3c15c2d6877erow0_col1\" class=\"data row0 col1\" >1.301</td> \n",
       "        <td id=\"T_4fd633b0_e0b8_11e7_9227_3c15c2d6877erow0_col2\" class=\"data row0 col2\" >0.769284</td> \n",
       "        <td id=\"T_4fd633b0_e0b8_11e7_9227_3c15c2d6877erow0_col3\" class=\"data row0 col3\" >3.84642</td> \n",
       "        <td id=\"T_4fd633b0_e0b8_11e7_9227_3c15c2d6877erow0_col4\" class=\"data row0 col4\" >7.69284</td> \n",
       "        <td id=\"T_4fd633b0_e0b8_11e7_9227_3c15c2d6877erow0_col5\" class=\"data row0 col5\" >0.229404</td> \n",
       "        <td id=\"T_4fd633b0_e0b8_11e7_9227_3c15c2d6877erow0_col6\" class=\"data row0 col6\" >0.650502</td> \n",
       "    </tr>    <tr> \n",
       "        <th id=\"T_4fd633b0_e0b8_11e7_9227_3c15c2d6877elevel0_row1\" class=\"row_heading level0 row1\" >MST</th> \n",
       "        <td id=\"T_4fd633b0_e0b8_11e7_9227_3c15c2d6877erow1_col0\" class=\"data row1 col0\" >189.068</td> \n",
       "        <td id=\"T_4fd633b0_e0b8_11e7_9227_3c15c2d6877erow1_col1\" class=\"data row1 col1\" >2.12497</td> \n",
       "        <td id=\"T_4fd633b0_e0b8_11e7_9227_3c15c2d6877erow1_col2\" class=\"data row1 col2\" >1.2565</td> \n",
       "        <td id=\"T_4fd633b0_e0b8_11e7_9227_3c15c2d6877erow1_col3\" class=\"data row1 col3\" >6.28248</td> \n",
       "        <td id=\"T_4fd633b0_e0b8_11e7_9227_3c15c2d6877erow1_col4\" class=\"data row1 col4\" >12.565</td> \n",
       "        <td id=\"T_4fd633b0_e0b8_11e7_9227_3c15c2d6877erow1_col5\" class=\"data row1 col5\" >0.374693</td> \n",
       "        <td id=\"T_4fd633b0_e0b8_11e7_9227_3c15c2d6877erow1_col6\" class=\"data row1 col6\" >1.06249</td> \n",
       "    </tr>    <tr> \n",
       "        <th id=\"T_4fd633b0_e0b8_11e7_9227_3c15c2d6877elevel0_row2\" class=\"row_heading level0 row2\" >SST</th> \n",
       "        <td id=\"T_4fd633b0_e0b8_11e7_9227_3c15c2d6877erow2_col0\" class=\"data row2 col0\" >17.8919</td> \n",
       "        <td id=\"T_4fd633b0_e0b8_11e7_9227_3c15c2d6877erow2_col1\" class=\"data row2 col1\" >0.201076</td> \n",
       "        <td id=\"T_4fd633b0_e0b8_11e7_9227_3c15c2d6877erow2_col2\" class=\"data row2 col2\" >0.118896</td> \n",
       "        <td id=\"T_4fd633b0_e0b8_11e7_9227_3c15c2d6877erow2_col3\" class=\"data row2 col3\" >0.594482</td> \n",
       "        <td id=\"T_4fd633b0_e0b8_11e7_9227_3c15c2d6877erow2_col4\" class=\"data row2 col4\" >1.18896</td> \n",
       "        <td id=\"T_4fd633b0_e0b8_11e7_9227_3c15c2d6877erow2_col5\" class=\"data row2 col5\" >0.0354555</td> \n",
       "        <td id=\"T_4fd633b0_e0b8_11e7_9227_3c15c2d6877erow2_col6\" class=\"data row2 col6\" >0.100538</td> \n",
       "    </tr>    <tr> \n",
       "        <th id=\"T_4fd633b0_e0b8_11e7_9227_3c15c2d6877elevel0_row3\" class=\"row_heading level0 row3\" >MON</th> \n",
       "        <td id=\"T_4fd633b0_e0b8_11e7_9227_3c15c2d6877erow3_col0\" class=\"data row3 col0\" >0.00316881</td> \n",
       "        <td id=\"T_4fd633b0_e0b8_11e7_9227_3c15c2d6877erow3_col1\" class=\"data row3 col1\" >0.00316881</td> \n",
       "        <td id=\"T_4fd633b0_e0b8_11e7_9227_3c15c2d6877erow3_col2\" class=\"data row3 col2\" >0.00187372</td> \n",
       "        <td id=\"T_4fd633b0_e0b8_11e7_9227_3c15c2d6877erow3_col3\" class=\"data row3 col3\" >0.00936858</td> \n",
       "        <td id=\"T_4fd633b0_e0b8_11e7_9227_3c15c2d6877erow3_col4\" class=\"data row3 col4\" >0.0187372</td> \n",
       "        <td id=\"T_4fd633b0_e0b8_11e7_9227_3c15c2d6877erow3_col5\" class=\"data row3 col5\" >0.000558751</td> \n",
       "        <td id=\"T_4fd633b0_e0b8_11e7_9227_3c15c2d6877erow3_col6\" class=\"data row3 col6\" >0.0015844</td> \n",
       "    </tr>    <tr> \n",
       "        <th id=\"T_4fd633b0_e0b8_11e7_9227_3c15c2d6877elevel0_row4\" class=\"row_heading level0 row4\" >TOTAL</th> \n",
       "        <td id=\"T_4fd633b0_e0b8_11e7_9227_3c15c2d6877erow4_col0\" class=\"data row4 col0\" >322.719</td> \n",
       "        <td id=\"T_4fd633b0_e0b8_11e7_9227_3c15c2d6877erow4_col1\" class=\"data row4 col1\" >3.63022</td> \n",
       "        <td id=\"T_4fd633b0_e0b8_11e7_9227_3c15c2d6877erow4_col2\" class=\"data row4 col2\" >2.14655</td> \n",
       "        <td id=\"T_4fd633b0_e0b8_11e7_9227_3c15c2d6877erow4_col3\" class=\"data row4 col3\" >10.7328</td> \n",
       "        <td id=\"T_4fd633b0_e0b8_11e7_9227_3c15c2d6877erow4_col4\" class=\"data row4 col4\" >21.4655</td> \n",
       "        <td id=\"T_4fd633b0_e0b8_11e7_9227_3c15c2d6877erow4_col5\" class=\"data row4 col5\" >0.640112</td> \n",
       "        <td id=\"T_4fd633b0_e0b8_11e7_9227_3c15c2d6877erow4_col6\" class=\"data row4 col6\" >1.81511</td> \n",
       "    </tr></tbody> \n",
       "</table> "
      ],
      "text/plain": [
       "<pandas.io.formats.style.Styler at 0x10a0b2860>"
      ]
     },
     "execution_count": 7,
     "metadata": {},
     "output_type": "execute_result"
    }
   ],
   "source": [
    "calc_rates(subarrays, num_gain_channels=2, pix_status_size=0*u.bit)"
   ]
  },
  {
   "cell_type": "markdown",
   "metadata": {
    "extensions": {
     "jupyter_dashboards": {
      "version": 1,
      "views": {
       "grid_default": {
        "col": 0,
        "height": 4,
        "hidden": true,
        "row": 0,
        "width": 4
       },
       "report_default": {}
      }
     }
    }
   },
   "source": [
    "The result is that we are nearing the danger level of the link transfer speed (over half of the capacity used for just raw camera data), and the peak transfer is nearly 2x the requirement"
   ]
  },
  {
   "cell_type": "markdown",
   "metadata": {
    "extensions": {
     "jupyter_dashboards": {
      "version": 1,
      "views": {
       "grid_default": {
        "col": 0,
        "height": 4,
        "hidden": true,
        "row": 13,
        "width": 12
       },
       "report_default": {}
      }
     }
    }
   },
   "source": [
    "## Interactive Exploration\n",
    "\n",
    "use the code below (running in a real Jupyter notebook, not NBViewer) to have an interactive widget version to try out other scenarios in realtime."
   ]
  },
  {
   "cell_type": "code",
   "execution_count": 8,
   "metadata": {
    "extensions": {
     "jupyter_dashboards": {
      "version": 1,
      "views": {
       "grid_default": {
        "col": 4,
        "height": 13,
        "hidden": false,
        "row": 0,
        "width": 8
       },
       "report_default": {}
      }
     }
    }
   },
   "outputs": [
    {
     "data": {
      "application/vnd.jupyter.widget-view+json": {
       "model_id": "737bf697f3e9414fa2632fa52d6b2f65",
       "version_major": 2,
       "version_minor": 0
      },
      "text/html": [
       "<p>Failed to display Jupyter Widget of type <code>interactive</code>.</p>\n",
       "<p>\n",
       "  If you're reading this message in the Jupyter Notebook or JupyterLab Notebook, it may mean\n",
       "  that the widgets JavaScript is still loading. If this message persists, it\n",
       "  likely means that the widgets JavaScript library is either not installed or\n",
       "  not enabled. See the <a href=\"https://ipywidgets.readthedocs.io/en/stable/user_install.html\">Jupyter\n",
       "  Widgets Documentation</a> for setup instructions.\n",
       "</p>\n",
       "<p>\n",
       "  If you're reading this message in another frontend (for example, a static\n",
       "  rendering on GitHub or <a href=\"https://nbviewer.jupyter.org/\">NBViewer</a>),\n",
       "  it may mean that your frontend doesn't currently support widgets.\n",
       "</p>\n"
      ],
      "text/plain": [
       "interactive(children=(FloatSlider(value=3.0, description='dvr_percent', step=1.0), FloatSlider(value=3.0, description='compression_ratio', max=4.0, min=1.0), Dropdown(description='pix_integrated_size', options=(<Quantity 16.0 bit>, <Quantity 32.0 bit>), value=<Quantity 16.0 bit>), Dropdown(description='pix_status_size', index=1, options=(<Quantity 0.0 bit>, <Quantity 8.0 bit>, <Quantity 16.0 bit>), value=<Quantity 8.0 bit>), Dropdown(description='num_gain_channels', options=(1, 2), value=1), IntSlider(value=64, description='n_samp', max=128), Output()), _dom_classes=('widget-interact',))"
      ]
     },
     "metadata": {},
     "output_type": "display_data"
    }
   ],
   "source": [
    "@interact(dvr_percent=(0.0,100.0,1), \n",
    "          compression_ratio=(1,4,0.1), \n",
    "          pix_integrated_size=[16*u.bit, 32*u.bit],\n",
    "          pix_status_size=[0*u.bit, 8*u.bit, 16*u.bit],\n",
    "          num_gain_channels=[1,2], n_samp=(0,128,1))\n",
    "def explore(dvr_percent=3.0, compression_ratio=3, \n",
    "            pix_integrated_size=16*u.bit,\n",
    "            pix_status_size=8*u.bit, \n",
    "            num_gain_channels=1, n_samp=64):\n",
    "    return calc_rates(subarrays, dvr_percent=dvr_percent, \n",
    "                      compression_ratio=compression_ratio,\n",
    "                      pix_integrated_size=pix_integrated_size,\n",
    "                      pix_status_size=pix_status_size, \n",
    "                      num_gain_channels=num_gain_channels, n_samp=n_samp)"
   ]
  },
  {
   "cell_type": "markdown",
   "metadata": {
    "extensions": {
     "jupyter_dashboards": {
      "version": 1,
      "views": {
       "grid_default": {
        "col": 8,
        "height": 4,
        "hidden": true,
        "row": 13,
        "width": 4
       },
       "report_default": {}
      }
     }
    }
   },
   "source": [
    "## What about the DL0.SUB.EVT (central trigger) data?\n",
    "\n",
    "does it respresent a large fraction?"
   ]
  },
  {
   "cell_type": "code",
   "execution_count": 9,
   "metadata": {
    "extensions": {
     "jupyter_dashboards": {
      "version": 1,
      "views": {
       "grid_default": {
        "col": 0,
        "height": 4,
        "hidden": true,
        "row": 0,
        "width": 4
       },
       "report_default": {}
      }
     }
    }
   },
   "outputs": [
    {
     "data": {
      "text/latex": [
       "$0.00288 \\; \\mathrm{\\frac{Gbit}{s}}$"
      ],
      "text/plain": [
       "<Quantity 0.00288 Gbit / s>"
      ]
     },
     "execution_count": 9,
     "metadata": {},
     "output_type": "execute_result"
    }
   ],
   "source": [
    "system_trigger_rate = 15_000 *u.Hz\n",
    "trigger_pattern = 128*u.bit \n",
    "timestamp_size = 64*u.bit\n",
    "\n",
    "dl0_sub_evt_rate = system_trigger_rate * (trigger_pattern + timestamp_size)\n",
    "dl0_sub_evt_rate.to(\"Gbit/s\")"
   ]
  },
  {
   "cell_type": "markdown",
   "metadata": {
    "extensions": {
     "jupyter_dashboards": {
      "version": 1,
      "views": {
       "grid_default": {
        "col": 4,
        "height": 4,
        "hidden": true,
        "row": 4,
        "width": 4
       },
       "report_default": {}
      }
     }
    }
   },
   "source": [
    "this is a small fraction of the DL0 size:"
   ]
  },
  {
   "cell_type": "code",
   "execution_count": 10,
   "metadata": {
    "extensions": {
     "jupyter_dashboards": {
      "version": 1,
      "views": {
       "grid_default": {
        "col": 8,
        "height": 4,
        "hidden": true,
        "row": 13,
        "width": 4
       },
       "report_default": {}
      }
     }
    }
   },
   "outputs": [
    {
     "data": {
      "text/latex": [
       "$0.13551447 \\; \\mathrm{\\%}$"
      ],
      "text/plain": [
       "<Quantity 0.13551447086383542 %>"
      ]
     },
     "execution_count": 10,
     "metadata": {},
     "output_type": "execute_result"
    }
   ],
   "source": [
    "dl0_sub_evt_frac = (dl0_sub_evt_rate/combined_data_rate(subarrays)).to(u.dimensionless_unscaled)\n",
    "dl0_sub_evt_frac * 100 * u.percent"
   ]
  },
  {
   "cell_type": "code",
   "execution_count": 11,
   "metadata": {
    "extensions": {
     "jupyter_dashboards": {
      "version": 1,
      "views": {
       "grid_default": {
        "col": 0,
        "height": 4,
        "hidden": true,
        "row": 0,
        "width": 4
       },
       "report_default": {}
      }
     }
    }
   },
   "outputs": [
    {
     "data": {
      "text/latex": [
       "$4.0654341 \\; \\mathrm{\\frac{Tbyte}{yr}}$"
      ],
      "text/plain": [
       "<Quantity 4.065434125915063 Tbyte / yr>"
      ]
     },
     "execution_count": 11,
     "metadata": {},
     "output_type": "execute_result"
    }
   ],
   "source": [
    "(3*u.PB/u.yr * dl0_sub_evt_frac).to(\"TB/yr\")"
   ]
  },
  {
   "cell_type": "markdown",
   "metadata": {
    "extensions": {
     "jupyter_dashboards": {
      "version": 1,
      "views": {
       "grid_default": {
        "col": 4,
        "height": 4,
        "hidden": true,
        "row": 13,
        "width": 4
       },
       "report_default": {}
      }
     }
    }
   },
   "source": [
    "So we should add about this amount to the final data estimate to include the subarray event data"
   ]
  },
  {
   "cell_type": "markdown",
   "metadata": {
    "extensions": {
     "jupyter_dashboards": {
      "version": 1,
      "views": {
       "grid_default": {
        "col": 8,
        "height": 4,
        "hidden": true,
        "row": 13,
        "width": 4
       },
       "report_default": {}
      }
     }
    }
   },
   "source": [
    "## Some useful parameter space plots"
   ]
  },
  {
   "cell_type": "code",
   "execution_count": 12,
   "metadata": {
    "collapsed": true,
    "extensions": {
     "jupyter_dashboards": {
      "version": 1,
      "views": {
       "grid_default": {
        "hidden": true
       },
       "report_default": {}
      }
     }
    }
   },
   "outputs": [],
   "source": [
    "# a hack to get just the final value (this is not very speed friendly!)\n",
    "@np.vectorize\n",
    "def transfer_rate(**params):\n",
    "    df = calc_rates(subarrays, **params)\n",
    "    return df.data.loc['TOTAL']['mean_transfer_Gbps'], df.data.loc['TOTAL']['peak_transfer_Gbps']"
   ]
  },
  {
   "cell_type": "code",
   "execution_count": 13,
   "metadata": {
    "collapsed": true,
    "extensions": {
     "jupyter_dashboards": {
      "version": 1,
      "views": {
       "grid_default": {
        "hidden": true
       },
       "report_default": {}
      }
     }
    }
   },
   "outputs": [],
   "source": [
    "n_samp = np.linspace(0,128,32)\n",
    "dvr_percent = np.linspace(0,50,21)\n",
    "N,D = np.meshgrid(n_samp, dvr_percent)"
   ]
  },
  {
   "cell_type": "code",
   "execution_count": 14,
   "metadata": {
    "collapsed": true,
    "extensions": {
     "jupyter_dashboards": {
      "version": 1,
      "views": {
       "grid_default": {
        "hidden": true
       },
       "report_default": {}
      }
     }
    }
   },
   "outputs": [],
   "source": [
    "def plot_scenario(name, Rm, Rp):\n",
    "    figure(figsize=(10,5), dpi=100)\n",
    "\n",
    "    subplot(1,2,1)\n",
    "\n",
    "    xlabel(\"Mean percent pixels with waveform\")\n",
    "    ylabel(\"$N_{samp}$ read out\")\n",
    "    cs = contour(D, N, Rm, levels=[0.5, 0.75,1,2,5], colors=['green','orange','red', 'red','red'])\n",
    "    clabel(cs, cs.levels, labels=[\"{} Gb/s\".format(x) for x in cs.levels])\n",
    "    grid(True)\n",
    "    title(\"DL0 transfer rate (mean), Gbit/s\")\n",
    "\n",
    "    subplot(1,2,2)\n",
    "\n",
    "    xlabel(\"Mean percent pixels with waveform\")\n",
    "    ylabel(\"$N_{samp}$ read out\")\n",
    "    cs = contour(D, N, Rp, levels=[0.5, 0.75,1,2,5], colors=['green','orange','red', 'red','red'])\n",
    "    clabel(cs, cs.levels, labels=[\"{} Gb/s\".format(x) for x in cs.levels])\n",
    "    grid(True)\n",
    "    title(\"DL0 transfer rate (peak), Gbit/s\")\n",
    "\n",
    "    suptitle(name)\n",
    "    #plt.tight_layout()"
   ]
  },
  {
   "cell_type": "code",
   "execution_count": 15,
   "metadata": {
    "extensions": {
     "jupyter_dashboards": {
      "version": 1,
      "views": {
       "grid_default": {
        "col": 0,
        "height": 8,
        "hidden": true,
        "row": 0,
        "width": 4
       },
       "report_default": {}
      }
     }
    }
   },
   "outputs": [
    {
     "data": {
      "image/png": "[encoded data removed]",
      "text/plain": [
       "<matplotlib.figure.Figure at 0x10a17f748>"
      ]
     },
     "metadata": {},
     "output_type": "display_data"
    }
   ],
   "source": [
    "plt.style.use(\"ggplot\")\n",
    "Rm,Rp = transfer_rate(dvr_percent=D, n_samp=N )\n",
    "plot_scenario(\"Base Scenario\", Rm, Rp)"
   ]
  },
  {
   "cell_type": "code",
   "execution_count": 16,
   "metadata": {
    "extensions": {
     "jupyter_dashboards": {
      "version": 1,
      "views": {
       "grid_default": {
        "col": 4,
        "height": 8,
        "hidden": true,
        "row": 13,
        "width": 4
       },
       "report_default": {}
      }
     }
    }
   },
   "outputs": [
    {
     "data": {
      "image/png": "[encoded data removed]",
      "text/plain": [
       "<matplotlib.figure.Figure at 0x10f528320>"
      ]
     },
     "metadata": {},
     "output_type": "display_data"
    }
   ],
   "source": [
    "plt.style.use(\"ggplot\")\n",
    "Rm,Rp = transfer_rate(dvr_percent=D, n_samp=N, num_gain_channels=2, pix_status_size=0 )\n",
    "plot_scenario(\"2-Channel Scenario\", Rm, Rp)"
   ]
  },
  {
   "cell_type": "code",
   "execution_count": null,
   "metadata": {
    "collapsed": true
   },
   "outputs": [],
   "source": []
  }
 ],
 "metadata": {
  "extensions": {
   "jupyter_dashboards": {
    "activeView": "grid_default",
    "version": 1,
    "views": {
     "grid_default": {
      "cellMargin": 10,
      "defaultCellHeight": 20,
      "maxColumns": 12,
      "name": "grid",
      "type": "grid"
     },
     "report_default": {
      "name": "report",
      "type": "report"
     }
    }
   }
  },
  "kernelspec": {
   "display_name": "Python 3",
   "language": "python",
   "name": "python3"
  },
  "language_info": {
   "codemirror_mode": {
    "name": "ipython",
    "version": 3
   },
   "file_extension": ".py",
   "mimetype": "text/x-python",
   "name": "python",
   "nbconvert_exporter": "python",
   "pygments_lexer": "ipython3",
   "version": "3.6.2"
  },
  "widgets": {
   "application/vnd.jupyter.widget-state+json": {
    "state": {
     "02665b2daf2c4b58a13614acfa98b28e": {
      "model_module": "@jupyter-widgets/base",
      "model_module_version": "1.0.0",
      "model_name": "LayoutModel",
      "state": {}
     },
     "02acbaa5e49a41c6bc0580011c973a8b": {
      "model_module": "@jupyter-widgets/controls",
      "model_module_version": "1.0.0",
      "model_name": "VBoxModel",
      "state": {
       "_dom_classes": [
        "widget-interact"
       ],
       "children": [
        "IPY_MODEL_acbe05bd22f74fd28b0995fe12403a99",
        "IPY_MODEL_c3a5da0de3ac4e42af05aed732577554"
       ],
       "layout": "IPY_MODEL_b627d4aca22e432bac486d7271a4e21a"
      }
     },
     "03d8a6c64eac4fd698da60bb688179eb": {
      "model_module": "@jupyter-widgets/base",
      "model_module_version": "1.0.0",
      "model_name": "LayoutModel",
      "state": {}
     },
     "0573958a4e7d436f95c510455f3cc2a8": {
      "model_module": "@jupyter-widgets/controls",
      "model_module_version": "1.0.0",
      "model_name": "VBoxModel",
      "state": {
       "_dom_classes": [
        "widget-interact"
       ],
       "children": [
        "IPY_MODEL_1d7c4102d2374d4fb212596351a76752",
        "IPY_MODEL_b2368834d31f4fcba2f729f7194cd275",
        "IPY_MODEL_0f385c65a09940e29cec1cdf9115e3b2"
       ],
       "layout": "IPY_MODEL_b00be00fc62d414e930f5a8358ceba1f"
      }
     },
     "0659bab949c14152a1c28f9a387597c9": {
      "model_module": "@jupyter-widgets/controls",
      "model_module_version": "1.0.0",
      "model_name": "VBoxModel",
      "state": {
       "_dom_classes": [
        "widget-interact"
       ],
       "children": [
        "IPY_MODEL_36dbd38f4e4542b4985dfa276e8d6310",
        "IPY_MODEL_78cb47d19e7b4f93af4c5660043c729f",
        "IPY_MODEL_3ce120d7acfd47019090f5c5752aaebb"
       ],
       "layout": "IPY_MODEL_a8a6b5c95205487c9aa1889d223f2a54"
      }
     },
     "06b7d5fd01324e5fb6ee48594eb5f9e3": {
      "model_module": "@jupyter-widgets/base",
      "model_module_version": "1.0.0",
      "model_name": "LayoutModel",
      "state": {}
     },
     "06c8aaebc7544d8d815703c09b32ca80": {
      "model_module": "@jupyter-widgets/controls",
      "model_module_version": "1.0.0",
      "model_name": "SliderStyleModel",
      "state": {
       "description_width": ""
      }
     },
     "07aa4a42bb614cedb545652fbca1ec06": {
      "model_module": "@jupyter-widgets/controls",
      "model_module_version": "1.0.0",
      "model_name": "FloatSliderModel",
      "state": {
       "description": "dvr_fraction",
       "layout": "IPY_MODEL_f5c1563b94db43a5a5df6ded9f7a0ae4",
       "max": 1,
       "step": 0.005,
       "style": "IPY_MODEL_7d564a6b0fb5426fba5261813571b467",
       "value": 0.025
      }
     },
     "082834d9a96947bdbc3fb5fa3ade4dcb": {
      "model_module": "@jupyter-widgets/controls",
      "model_module_version": "1.0.0",
      "model_name": "FloatSliderModel",
      "state": {
       "description": "compression_ratio",
       "layout": "IPY_MODEL_1427e4282b4c4b7abdfc0c2269dd9e72",
       "max": 1,
       "step": 0.1,
       "style": "IPY_MODEL_c6d614b2cef54e0c903f5b262f0cf12e",
       "value": 0.3
      }
     },
     "0855438e2be54388b30341c294223b55": {
      "model_module": "@jupyter-widgets/base",
      "model_module_version": "1.0.0",
      "model_name": "LayoutModel",
      "state": {}
     },
     "087f4efc990d4810a932b59be72f2eb1": {
      "model_module": "@jupyter-widgets/controls",
      "model_module_version": "1.0.0",
      "model_name": "VBoxModel",
      "state": {
       "_dom_classes": [
        "widget-interact"
       ],
       "children": [
        "IPY_MODEL_f7e94ee26d7e4e40a88c8fa479548663",
        "IPY_MODEL_082834d9a96947bdbc3fb5fa3ade4dcb",
        "IPY_MODEL_643dac7f66e84489b5ea886b40905893"
       ],
       "layout": "IPY_MODEL_f89553a041da44daa63bfe8db41ad66a"
      }
     },
     "09021ca0b0e84653910bc9942b3cdec1": {
      "model_module": "@jupyter-widgets/base",
      "model_module_version": "1.0.0",
      "model_name": "LayoutModel",
      "state": {}
     },
     "0a2c538721b94b319ebacb40a04228a6": {
      "model_module": "@jupyter-widgets/controls",
      "model_module_version": "1.0.0",
      "model_name": "DropdownModel",
      "state": {
       "_options_labels": [
        "1",
        "2"
       ],
       "description": "num_gain_channels",
       "index": 0,
       "layout": "IPY_MODEL_269b7d8fce8141b7bf452c7573b9fa90",
       "style": "IPY_MODEL_edf85bc7b2e04c7a8883cb0a94ffe7dc"
      }
     },
     "0a4922e818514d1d902bbb0dfb18d9dc": {
      "model_module": "@jupyter-widgets/controls",
      "model_module_version": "1.0.0",
      "model_name": "DropdownModel",
      "state": {
       "_options_labels": [
        "8.0 bit",
        "16.0 bit"
       ],
       "description": "pix_info_per_pix",
       "index": 0,
       "layout": "IPY_MODEL_2b78bf923af64595a08278acb208d2a1",
       "style": "IPY_MODEL_8eaa98df36a245dcadcdd07bd5423f27"
      }
     },
     "0ab90f35ef01460fbc9885f680e1b285": {
      "model_module": "@jupyter-widgets/controls",
      "model_module_version": "1.0.0",
      "model_name": "VBoxModel",
      "state": {
       "_dom_classes": [
        "widget-interact"
       ],
       "children": [
        "IPY_MODEL_af6ce413c1134f05aa3a82b41230905a",
        "IPY_MODEL_dd93b55269d845b694cd8c08803e53fe"
       ],
       "layout": "IPY_MODEL_3b48a50a07f6403ab1eaf165df25376d"
      }
     },
     "0b129aaab844462f9f804303137bf7f2": {
      "model_module": "@jupyter-widgets/controls",
      "model_module_version": "1.0.0",
      "model_name": "SliderStyleModel",
      "state": {
       "description_width": ""
      }
     },
     "0b3ee52b0ae94b728e86f433038ca87e": {
      "model_module": "@jupyter-widgets/controls",
      "model_module_version": "1.0.0",
      "model_name": "SliderStyleModel",
      "state": {
       "description_width": ""
      }
     },
     "0b88c2b30e7c408388851095504953fd": {
      "model_module": "@jupyter-widgets/controls",
      "model_module_version": "1.0.0",
      "model_name": "SliderStyleModel",
      "state": {
       "description_width": ""
      }
     },
     "0c9fed7efe31488ba6e4b2991a28b4f8": {
      "model_module": "@jupyter-widgets/base",
      "model_module_version": "1.0.0",
      "model_name": "LayoutModel",
      "state": {}
     },
     "0cd2d25f5fb24c209afd6e4990febe9d": {
      "model_module": "@jupyter-widgets/base",
      "model_module_version": "1.0.0",
      "model_name": "LayoutModel",
      "state": {}
     },
     "0db473da53eb4dfa94dba7f28b316e61": {
      "model_module": "@jupyter-widgets/controls",
      "model_module_version": "1.0.0",
      "model_name": "FloatSliderModel",
      "state": {
       "description": "compression_ratio",
       "layout": "IPY_MODEL_546b10bd08c142028667eb9a6f0d060b",
       "max": 4,
       "min": 1,
       "step": 0.1,
       "style": "IPY_MODEL_4d711a7e297042dda81dbad5c244814b",
       "value": 3
      }
     },
     "0ecd4afe12344c2596a3eba0b08a96c3": {
      "model_module": "@jupyter-widgets/base",
      "model_module_version": "1.0.0",
      "model_name": "LayoutModel",
      "state": {}
     },
     "0f385c65a09940e29cec1cdf9115e3b2": {
      "model_module": "@jupyter-widgets/output",
      "model_module_version": "1.0.0",
      "model_name": "OutputModel",
      "state": {
       "layout": "IPY_MODEL_801eaf55825648e08ae3c879bae5d378"
      }
     },
     "0f564ba7b99f4905984736ed9a2a4836": {
      "model_module": "@jupyter-widgets/output",
      "model_module_version": "1.0.0",
      "model_name": "OutputModel",
      "state": {
       "layout": "IPY_MODEL_3d2c88ab549049079e21ad4f32804695"
      }
     },
     "0f5898fa2899472f8af72c2822b53454": {
      "model_module": "@jupyter-widgets/controls",
      "model_module_version": "1.0.0",
      "model_name": "VBoxModel",
      "state": {
       "_dom_classes": [
        "widget-interact"
       ],
       "layout": "IPY_MODEL_7f7d9a9ba9f44fba994a429b8334c2b3"
      }
     },
     "0fe2d6a33dfa4713bf260974366336cb": {
      "model_module": "@jupyter-widgets/base",
      "model_module_version": "1.0.0",
      "model_name": "LayoutModel",
      "state": {}
     },
     "100278d3e3894cbda845baf332b5a3e7": {
      "model_module": "@jupyter-widgets/controls",
      "model_module_version": "1.0.0",
      "model_name": "FloatSliderModel",
      "state": {
       "description": "lossless_compression_ratio",
       "layout": "IPY_MODEL_ab92ee00f3664e5ba5a6f53684232c7d",
       "max": 1.2000000000000002,
       "min": -0.4,
       "step": 0.1,
       "style": "IPY_MODEL_d7573bf19c404d1099b455a0f48cdf28",
       "value": 0.4
      }
     },
     "12ce8dbc48cb42f9ae4eacf945647aa1": {
      "model_module": "@jupyter-widgets/controls",
      "model_module_version": "1.0.0",
      "model_name": "DropdownModel",
      "state": {
       "_options_labels": [
        "8.0 bit",
        "16.0 bit"
       ],
       "description": "pix_info_per_pix",
       "index": 0,
       "layout": "IPY_MODEL_5d53edba92ff43f98fb6ef2362007374",
       "style": "IPY_MODEL_f1aadc6e71da47d793d9240dabe41efb"
      }
     },
     "12d7153ff89a41cc88f8320b47d7dda0": {
      "model_module": "@jupyter-widgets/controls",
      "model_module_version": "1.0.0",
      "model_name": "FloatSliderModel",
      "state": {
       "description": "compression_ratio",
       "layout": "IPY_MODEL_e7c4b4cdb38d4404bf198cf2569edc7e",
       "max": 4,
       "min": 1,
       "step": 0.1,
       "style": "IPY_MODEL_4a7f72c5b5de425da364a6103c1284fb",
       "value": 3
      }
     },
     "12f1414618b241938b3eb67618d5029f": {
      "model_module": "@jupyter-widgets/controls",
      "model_module_version": "1.0.0",
      "model_name": "DropdownModel",
      "state": {
       "_options_labels": [
        "0.0 bit",
        "8.0 bit",
        "16.0 bit"
       ],
       "description": "pix_info_per_pix",
       "index": 0,
       "layout": "IPY_MODEL_5ab9514903e74928a184013b284d3e83",
       "style": "IPY_MODEL_930a5546a55e43bcb1ec3d7b266a10d0"
      }
     },
     "13814de5b2964bea846ac71b5e08786a": {
      "model_module": "@jupyter-widgets/controls",
      "model_module_version": "1.0.0",
      "model_name": "DescriptionStyleModel",
      "state": {
       "description_width": ""
      }
     },
     "13eb3a19635a4168aa71045e74778638": {
      "model_module": "@jupyter-widgets/controls",
      "model_module_version": "1.0.0",
      "model_name": "VBoxModel",
      "state": {
       "_dom_classes": [
        "widget-interact"
       ],
       "children": [
        "IPY_MODEL_49b3e139a65f4ff48ff79123869650bd",
        "IPY_MODEL_dc0a88087ac242f6966dd145482e4ca1",
        "IPY_MODEL_dd1efc151648492f9a3425ae50a1482f",
        "IPY_MODEL_f54a3626a6ba4749aaf31918aa2c845e",
        "IPY_MODEL_4481de912ac44276aa0d57466e8801c8"
       ],
       "layout": "IPY_MODEL_8c506976122c4f5e994168d62f6f9b64"
      }
     },
     "13f62b85357246daa2bcadeae135d238": {
      "model_module": "@jupyter-widgets/controls",
      "model_module_version": "1.0.0",
      "model_name": "SliderStyleModel",
      "state": {
       "description_width": ""
      }
     },
     "1427e4282b4c4b7abdfc0c2269dd9e72": {
      "model_module": "@jupyter-widgets/base",
      "model_module_version": "1.0.0",
      "model_name": "LayoutModel",
      "state": {}
     },
     "14c7b83d81824bf1bd130c88f578d067": {
      "model_module": "@jupyter-widgets/output",
      "model_module_version": "1.0.0",
      "model_name": "OutputModel",
      "state": {
       "layout": "IPY_MODEL_b16094950f9b4c00a2e06de18b81eba2",
       "outputs": [
        {
         "data": {
          "text/html": "<div>\n<style scoped>\n    .dataframe tbody tr th:only-of-type {\n        vertical-align: middle;\n    }\n\n    .dataframe tbody tr th {\n        vertical-align: top;\n    }\n\n    .dataframe thead th {\n        text-align: right;\n    }\n</style>\n<table border=\"1\" class=\"dataframe\">\n  <thead>\n    <tr style=\"text-align: right;\">\n      <th></th>\n      <th>rate_R1</th>\n      <th>rate_DL0</th>\n      <th>data_1_yr_PB</th>\n      <th>data_5_yr_PB</th>\n      <th>data_10_yr_PB</th>\n    </tr>\n  </thead>\n  <tbody>\n    <tr>\n      <th>LST</th>\n      <td>57.434880</td>\n      <td>1.381480</td>\n      <td>0.745999</td>\n      <td>3.729996</td>\n      <td>7.459992</td>\n    </tr>\n    <tr>\n      <th>MST</th>\n      <td>134.014720</td>\n      <td>3.223453</td>\n      <td>1.740665</td>\n      <td>8.703324</td>\n      <td>17.406648</td>\n    </tr>\n    <tr>\n      <th>SST</th>\n      <td>12.682032</td>\n      <td>0.305014</td>\n      <td>0.164708</td>\n      <td>0.823539</td>\n      <td>1.647078</td>\n    </tr>\n    <tr>\n      <th>TOTAL</th>\n      <td>204.131632</td>\n      <td>4.909948</td>\n      <td>2.651372</td>\n      <td>13.256859</td>\n      <td>26.513718</td>\n    </tr>\n  </tbody>\n</table>\n</div>",
          "text/plain": "          rate_R1  rate_DL0  data_1_yr_PB  data_5_yr_PB  data_10_yr_PB\nLST     57.434880  1.381480      0.745999      3.729996       7.459992\nMST    134.014720  3.223453      1.740665      8.703324      17.406648\nSST     12.682032  0.305014      0.164708      0.823539       1.647078\nTOTAL  204.131632  4.909948      2.651372     13.256859      26.513718"
         },
         "metadata": {},
         "output_type": "display_data"
        }
       ]
      }
     },
     "14cd7024d1cb475682d64ea72d44d3ef": {
      "model_module": "@jupyter-widgets/controls",
      "model_module_version": "1.0.0",
      "model_name": "DescriptionStyleModel",
      "state": {
       "description_width": ""
      }
     },
     "15b6b9c2a7154fbb9bdcbf9672a36b87": {
      "model_module": "@jupyter-widgets/controls",
      "model_module_version": "1.0.0",
      "model_name": "DescriptionStyleModel",
      "state": {
       "description_width": ""
      }
     },
     "15d57e8f21764691b5a9fa905db9b082": {
      "model_module": "@jupyter-widgets/output",
      "model_module_version": "1.0.0",
      "model_name": "OutputModel",
      "state": {
       "layout": "IPY_MODEL_54147351e7fc49d0a0c610dc59757047"
      }
     },
     "15ef7dd6fb354820bed37bec22d0bc4b": {
      "model_module": "@jupyter-widgets/base",
      "model_module_version": "1.0.0",
      "model_name": "LayoutModel",
      "state": {}
     },
     "1783e7846372445e8f16c9858568c265": {
      "model_module": "@jupyter-widgets/controls",
      "model_module_version": "1.0.0",
      "model_name": "SliderStyleModel",
      "state": {
       "description_width": ""
      }
     },
     "17c121aeb8744535a0d3200098d26f6a": {
      "model_module": "@jupyter-widgets/controls",
      "model_module_version": "1.0.0",
      "model_name": "SliderStyleModel",
      "state": {
       "description_width": ""
      }
     },
     "18a0bae1808b4eccaa0daa026fac7ceb": {
      "model_module": "@jupyter-widgets/controls",
      "model_module_version": "1.0.0",
      "model_name": "DropdownModel",
      "state": {
       "_options_labels": [
        "0.0",
        "0.0204081632653",
        "0.0408163265306",
        "0.0612244897959",
        "0.0816326530612",
        "0.102040816327",
        "0.122448979592",
        "0.142857142857",
        "0.163265306122",
        "0.183673469388",
        "0.204081632653",
        "0.224489795918",
        "0.244897959184",
        "0.265306122449",
        "0.285714285714",
        "0.30612244898",
        "0.326530612245",
        "0.34693877551",
        "0.367346938776",
        "0.387755102041",
        "0.408163265306",
        "0.428571428571",
        "0.448979591837",
        "0.469387755102",
        "0.489795918367",
        "0.510204081633",
        "0.530612244898",
        "0.551020408163",
        "0.571428571429",
        "0.591836734694",
        "0.612244897959",
        "0.632653061224",
        "0.65306122449",
        "0.673469387755",
        "0.69387755102",
        "0.714285714286",
        "0.734693877551",
        "0.755102040816",
        "0.775510204082",
        "0.795918367347",
        "0.816326530612",
        "0.836734693878",
        "0.857142857143",
        "0.877551020408",
        "0.897959183673",
        "0.918367346939",
        "0.938775510204",
        "0.959183673469",
        "0.979591836735",
        "1.0"
       ],
       "description": "dvr_fraction",
       "index": 0,
       "layout": "IPY_MODEL_e92a4a012c044241a4dd7a3692cece26",
       "style": "IPY_MODEL_14cd7024d1cb475682d64ea72d44d3ef"
      }
     },
     "18da79bc2d7c43519037cf516e93d8f3": {
      "model_module": "@jupyter-widgets/controls",
      "model_module_version": "1.0.0",
      "model_name": "DescriptionStyleModel",
      "state": {
       "description_width": ""
      }
     },
     "19bb2717ea7e4f65a413e9cfd8bb77b7": {
      "model_module": "@jupyter-widgets/base",
      "model_module_version": "1.0.0",
      "model_name": "LayoutModel",
      "state": {}
     },
     "19f6addf695246ba8d4c73762ced3334": {
      "model_module": "@jupyter-widgets/base",
      "model_module_version": "1.0.0",
      "model_name": "LayoutModel",
      "state": {}
     },
     "1b2473b339c64317afd2cf8f40a3285d": {
      "model_module": "@jupyter-widgets/base",
      "model_module_version": "1.0.0",
      "model_name": "LayoutModel",
      "state": {}
     },
     "1b25a23324304d04a2544687df694e70": {
      "model_module": "@jupyter-widgets/controls",
      "model_module_version": "1.0.0",
      "model_name": "DropdownModel",
      "state": {
       "_options_labels": [
        "8.0 bit",
        "16.0 bit"
       ],
       "description": "pix_info_per_pix",
       "index": 0,
       "layout": "IPY_MODEL_99ee1383859b43039f901856cad3bf7a",
       "style": "IPY_MODEL_b0d0f31ebea145d2bab5d2ddbaf33de9"
      }
     },
     "1bf5fbd629be42c48e76e4901a118bea": {
      "model_module": "@jupyter-widgets/controls",
      "model_module_version": "1.0.0",
      "model_name": "DropdownModel",
      "state": {
       "_options_labels": [
        "1",
        "2"
       ],
       "description": "num_gain_channels",
       "index": 0,
       "layout": "IPY_MODEL_15ef7dd6fb354820bed37bec22d0bc4b",
       "style": "IPY_MODEL_51e099791ee742669003e10f0183c838"
      }
     },
     "1c295fc13c7e42b789784b1ef5724df1": {
      "model_module": "@jupyter-widgets/controls",
      "model_module_version": "1.0.0",
      "model_name": "FloatSliderModel",
      "state": {
       "description": "dvr_fraction",
       "layout": "IPY_MODEL_5da29842c36740b39ad95877a04d8e9d",
       "max": 1,
       "min": 0.01,
       "step": 0.005,
       "style": "IPY_MODEL_c0c63b5d78a245ccbe17e35db9db7450",
       "value": 0.05
      }
     },
     "1d4c8619237c46c087eda1174da423e7": {
      "model_module": "@jupyter-widgets/controls",
      "model_module_version": "1.0.0",
      "model_name": "VBoxModel",
      "state": {
       "_dom_classes": [
        "widget-interact"
       ],
       "children": [
        "IPY_MODEL_6edc7562a6614dd6a76b59a41eb16a9b",
        "IPY_MODEL_3c4800a0716d432284d1f9862eb25fba",
        "IPY_MODEL_12ce8dbc48cb42f9ae4eacf945647aa1",
        "IPY_MODEL_4b8a5ef8c2484c5cb9d1ae2898547784"
       ],
       "layout": "IPY_MODEL_bafbd9ceb1d648328bcf112115fcc880"
      }
     },
     "1d7c4102d2374d4fb212596351a76752": {
      "model_module": "@jupyter-widgets/controls",
      "model_module_version": "1.0.0",
      "model_name": "FloatSliderModel",
      "state": {
       "description": "dvr_fraction",
       "layout": "IPY_MODEL_da833009f382466986043b37a7c8e213",
       "max": 1,
       "min": 0.1,
       "step": 0.1,
       "style": "IPY_MODEL_a01ecdede7ad4ea6b821dea9b2c36db4",
       "value": 0.5
      }
     },
     "1d9d67588c194d8ea0c602529a11d323": {
      "model_module": "@jupyter-widgets/controls",
      "model_module_version": "1.0.0",
      "model_name": "SliderStyleModel",
      "state": {
       "description_width": ""
      }
     },
     "1fa4ac1243e04eec9a1021176dd349d2": {
      "model_module": "@jupyter-widgets/output",
      "model_module_version": "1.0.0",
      "model_name": "OutputModel",
      "state": {
       "layout": "IPY_MODEL_b12785ef6c9147ffb4716c1ffbd6f75e"
      }
     },
     "20c0ee3f025d421f9b1e73f63c857d31": {
      "model_module": "@jupyter-widgets/controls",
      "model_module_version": "1.0.0",
      "model_name": "FloatSliderModel",
      "state": {
       "description": "dvr_fraction",
       "layout": "IPY_MODEL_a803eb0325b14ab1aca631e885979500",
       "max": 1,
       "step": 0.005,
       "style": "IPY_MODEL_a423e74c70f44a54aef9c8082cb15510",
       "value": 0.05
      }
     },
     "21f532e0bde142c49806f43acc3b4c2b": {
      "model_module": "@jupyter-widgets/base",
      "model_module_version": "1.0.0",
      "model_name": "LayoutModel",
      "state": {}
     },
     "23d20dbc80364f63bc1f333acf8613aa": {
      "model_module": "@jupyter-widgets/controls",
      "model_module_version": "1.0.0",
      "model_name": "SliderStyleModel",
      "state": {
       "description_width": ""
      }
     },
     "2486a45791aa468c8dc870c1c6527a9b": {
      "model_module": "@jupyter-widgets/base",
      "model_module_version": "1.0.0",
      "model_name": "LayoutModel",
      "state": {}
     },
     "24993a7ac57942e8af73d3edb2636bbf": {
      "model_module": "@jupyter-widgets/base",
      "model_module_version": "1.0.0",
      "model_name": "LayoutModel",
      "state": {}
     },
     "256a874a1c0b426184bc661c2869b4a1": {
      "model_module": "@jupyter-widgets/controls",
      "model_module_version": "1.0.0",
      "model_name": "FloatSliderModel",
      "state": {
       "description": "dvr_fraction",
       "layout": "IPY_MODEL_03d8a6c64eac4fd698da60bb688179eb",
       "max": 1,
       "step": 0.005,
       "style": "IPY_MODEL_42cc6f5cff9645949b2e4120bc40418d",
       "value": 0.05
      }
     },
     "25bf5dc14da740af971a8ce8ae313d57": {
      "model_module": "@jupyter-widgets/controls",
      "model_module_version": "1.0.0",
      "model_name": "DropdownModel",
      "state": {
       "_options_labels": [
        "8.0 bit",
        "16.0 bit"
       ],
       "description": "pix_info_per_pix",
       "index": 0,
       "layout": "IPY_MODEL_470c19616b0f45bab684ec6dec4e6731",
       "style": "IPY_MODEL_74e73db02dd14319a7ad9c04107041b1"
      }
     },
     "269b7d8fce8141b7bf452c7573b9fa90": {
      "model_module": "@jupyter-widgets/base",
      "model_module_version": "1.0.0",
      "model_name": "LayoutModel",
      "state": {}
     },
     "27935efa77534ab799c221e3d175639c": {
      "model_module": "@jupyter-widgets/controls",
      "model_module_version": "1.0.0",
      "model_name": "SliderStyleModel",
      "state": {
       "description_width": ""
      }
     },
     "280153246379442facefee28e81f1c4b": {
      "model_module": "@jupyter-widgets/controls",
      "model_module_version": "1.0.0",
      "model_name": "DescriptionStyleModel",
      "state": {
       "description_width": ""
      }
     },
     "282793b69c454c11a50614a47adfdfd2": {
      "model_module": "@jupyter-widgets/output",
      "model_module_version": "1.0.0",
      "model_name": "OutputModel",
      "state": {
       "layout": "IPY_MODEL_82f7f0a9e61c4d569cbed136b22d15b0"
      }
     },
     "28a53f65faff4b358b71afa16c3c7460": {
      "model_module": "@jupyter-widgets/controls",
      "model_module_version": "1.0.0",
      "model_name": "FloatSliderModel",
      "state": {
       "description": "dvr_fraction",
       "layout": "IPY_MODEL_65631ebe701b4997a7feb0a14f8bd9ff",
       "max": 1,
       "step": 0.1,
       "style": "IPY_MODEL_5de8f3f4c8b8401994c1954f60d8e274",
       "value": 0.1
      }
     },
     "29a927b6904548b8a351197516d695f4": {
      "model_module": "@jupyter-widgets/base",
      "model_module_version": "1.0.0",
      "model_name": "LayoutModel",
      "state": {}
     },
     "29d8857f521542f597977cda9122dfd0": {
      "model_module": "@jupyter-widgets/controls",
      "model_module_version": "1.0.0",
      "model_name": "SliderStyleModel",
      "state": {
       "description_width": ""
      }
     },
     "2a27437b1c26434c828dcd5795bf3ce5": {
      "model_module": "@jupyter-widgets/controls",
      "model_module_version": "1.0.0",
      "model_name": "FloatSliderModel",
      "state": {
       "description": "dvr_fraction",
       "layout": "IPY_MODEL_1b2473b339c64317afd2cf8f40a3285d",
       "max": 1,
       "min": 0.01,
       "step": 0.005,
       "style": "IPY_MODEL_40aa4a5029084bf9b93f5726620757a1",
       "value": 0.05
      }
     },
     "2b3bc799e91644418ed0a8b5bf995207": {
      "model_module": "@jupyter-widgets/base",
      "model_module_version": "1.0.0",
      "model_name": "LayoutModel",
      "state": {}
     },
     "2b78bf923af64595a08278acb208d2a1": {
      "model_module": "@jupyter-widgets/base",
      "model_module_version": "1.0.0",
      "model_name": "LayoutModel",
      "state": {}
     },
     "2b8f40afb4dc450abae26991efd6c192": {
      "model_module": "@jupyter-widgets/controls",
      "model_module_version": "1.0.0",
      "model_name": "VBoxModel",
      "state": {
       "_dom_classes": [
        "widget-interact"
       ],
       "children": [
        "IPY_MODEL_80296ecac7c843e38493fb7388d9e255"
       ],
       "layout": "IPY_MODEL_f7085c375c554bb9a0d9a40346cef656"
      }
     },
     "2beb7ede2fee4e959b09c6bc0b304b4e": {
      "model_module": "@jupyter-widgets/controls",
      "model_module_version": "1.0.0",
      "model_name": "DescriptionStyleModel",
      "state": {
       "description_width": ""
      }
     },
     "2c1fe6b728ca4a7a81735fa333715c5d": {
      "model_module": "@jupyter-widgets/controls",
      "model_module_version": "1.0.0",
      "model_name": "DropdownModel",
      "state": {
       "_options_labels": [
        "8.0 bit",
        "16.0 bit"
       ],
       "description": "pix_info_per_pix",
       "index": 0,
       "layout": "IPY_MODEL_fbf5ba6249fa4753a18fd9ab51b5ec05",
       "style": "IPY_MODEL_18da79bc2d7c43519037cf516e93d8f3"
      }
     },
     "2c33c81cdb6f4e52af3823be929d3d84": {
      "model_module": "@jupyter-widgets/controls",
      "model_module_version": "1.0.0",
      "model_name": "VBoxModel",
      "state": {
       "_dom_classes": [
        "widget-interact"
       ],
       "children": [
        "IPY_MODEL_c709b42d4f074e3583b6e271bc7930c3",
        "IPY_MODEL_b4345b80f86a433ca91715e203dfd1da",
        "IPY_MODEL_cb09d5649d394a8a903eb88c45c5b134",
        "IPY_MODEL_7dfcfca9f9f74728beedc4b6c60a38e6"
       ],
       "layout": "IPY_MODEL_76bdfe94982d4967b5edb81329e120cd"
      }
     },
     "2e4b714ed1804cc5a690ef5e4cc25ed4": {
      "model_module": "@jupyter-widgets/output",
      "model_module_version": "1.0.0",
      "model_name": "OutputModel",
      "state": {
       "layout": "IPY_MODEL_8f3119d642874f10b5d7fe5fa545145d"
      }
     },
     "2f1f9a65399e4588b9e9192768bb57fe": {
      "model_module": "@jupyter-widgets/controls",
      "model_module_version": "1.0.0",
      "model_name": "DescriptionStyleModel",
      "state": {
       "description_width": ""
      }
     },
     "2f3c10fa1c8148549d542e42e2152ea5": {
      "model_module": "@jupyter-widgets/controls",
      "model_module_version": "1.0.0",
      "model_name": "DescriptionStyleModel",
      "state": {
       "description_width": ""
      }
     },
     "31022746313249c7affac6c6fb9b5b6b": {
      "model_module": "@jupyter-widgets/base",
      "model_module_version": "1.0.0",
      "model_name": "LayoutModel",
      "state": {}
     },
     "311e700450894433a69e0e7390d85ed0": {
      "model_module": "@jupyter-widgets/base",
      "model_module_version": "1.0.0",
      "model_name": "LayoutModel",
      "state": {}
     },
     "31382b3f077a43ca9e8422fed624e10c": {
      "model_module": "@jupyter-widgets/controls",
      "model_module_version": "1.0.0",
      "model_name": "DescriptionStyleModel",
      "state": {
       "description_width": ""
      }
     },
     "32046fe3e54e4eb4a1ad07e636b4ac86": {
      "model_module": "@jupyter-widgets/base",
      "model_module_version": "1.0.0",
      "model_name": "LayoutModel",
      "state": {}
     },
     "323eb9d3aeaa4577a289e37fdca7bd96": {
      "model_module": "@jupyter-widgets/controls",
      "model_module_version": "1.0.0",
      "model_name": "SliderStyleModel",
      "state": {
       "description_width": ""
      }
     },
     "325f7d23e93243e496bc6b11e6d69104": {
      "model_module": "@jupyter-widgets/base",
      "model_module_version": "1.0.0",
      "model_name": "LayoutModel",
      "state": {}
     },
     "32613a8b3d9f43108bf140fbe202db44": {
      "model_module": "@jupyter-widgets/controls",
      "model_module_version": "1.0.0",
      "model_name": "SliderStyleModel",
      "state": {
       "description_width": ""
      }
     },
     "335c0d8cf2864a78b046499e9c0e8bd1": {
      "model_module": "@jupyter-widgets/base",
      "model_module_version": "1.0.0",
      "model_name": "LayoutModel",
      "state": {}
     },
     "33a015c241b94dd9a18c3b64d2366a68": {
      "model_module": "@jupyter-widgets/base",
      "model_module_version": "1.0.0",
      "model_name": "LayoutModel",
      "state": {}
     },
     "33f4ceac1c4a475fb2c00eeed4778535": {
      "model_module": "@jupyter-widgets/controls",
      "model_module_version": "1.0.0",
      "model_name": "SliderStyleModel",
      "state": {
       "description_width": ""
      }
     },
     "33f5203d13f94abe977890dcfc7c4bf0": {
      "model_module": "@jupyter-widgets/base",
      "model_module_version": "1.0.0",
      "model_name": "LayoutModel",
      "state": {}
     },
     "3487533f93d84b36affa7a28dc2df189": {
      "model_module": "@jupyter-widgets/controls",
      "model_module_version": "1.0.0",
      "model_name": "VBoxModel",
      "state": {
       "_dom_classes": [
        "widget-interact"
       ],
       "children": [
        "IPY_MODEL_5858f22100c54a15903975fa7fbb5106",
        "IPY_MODEL_7970f3cfc4394cf8894c72ceacd3fc45"
       ],
       "layout": "IPY_MODEL_cbcb02b0764843f29f2fc2313211f8b1"
      }
     },
     "34aa4787d43c48fd9c5accfcc41e8415": {
      "model_module": "@jupyter-widgets/controls",
      "model_module_version": "1.0.0",
      "model_name": "SliderStyleModel",
      "state": {
       "description_width": ""
      }
     },
     "3577ac05ec374a4cace1b8acfcb0ebd3": {
      "model_module": "@jupyter-widgets/base",
      "model_module_version": "1.0.0",
      "model_name": "LayoutModel",
      "state": {}
     },
     "35c42d2b2b924183bf74a894b2174506": {
      "model_module": "@jupyter-widgets/controls",
      "model_module_version": "1.0.0",
      "model_name": "FloatSliderModel",
      "state": {
       "description": "compression_ratio",
       "layout": "IPY_MODEL_33f5203d13f94abe977890dcfc7c4bf0",
       "max": 4,
       "min": 1,
       "step": 0.1,
       "style": "IPY_MODEL_4285e5830f4244a7a45e5f4f07b0e845",
       "value": 3
      }
     },
     "36ca92ea44764b1da7c716194a36dfd3": {
      "model_module": "@jupyter-widgets/base",
      "model_module_version": "1.0.0",
      "model_name": "LayoutModel",
      "state": {}
     },
     "36dbd38f4e4542b4985dfa276e8d6310": {
      "model_module": "@jupyter-widgets/controls",
      "model_module_version": "1.0.0",
      "model_name": "FloatSliderModel",
      "state": {
       "description": "dvr_fraction",
       "layout": "IPY_MODEL_335c0d8cf2864a78b046499e9c0e8bd1",
       "max": 1,
       "step": 0.1,
       "style": "IPY_MODEL_4643adf725884f3a91d8d0907b47d2dd"
      }
     },
     "377e2e3ea6224dd190506f3a4eaf64d2": {
      "model_module": "@jupyter-widgets/base",
      "model_module_version": "1.0.0",
      "model_name": "LayoutModel",
      "state": {}
     },
     "37db7982d6ee43b781982d3e2d2b7a83": {
      "model_module": "@jupyter-widgets/controls",
      "model_module_version": "1.0.0",
      "model_name": "FloatSliderModel",
      "state": {
       "description": "compression_ratio",
       "layout": "IPY_MODEL_a16e6f8dcc7841e7adff1ec35c69cd69",
       "max": 4,
       "min": 1,
       "step": 0.1,
       "style": "IPY_MODEL_f8b133117ab84acc9a9262fdc18dc44e",
       "value": 3
      }
     },
     "38aabb5b1292490baa7713821dcb3d1d": {
      "model_module": "@jupyter-widgets/output",
      "model_module_version": "1.0.0",
      "model_name": "OutputModel",
      "state": {
       "layout": "IPY_MODEL_311e700450894433a69e0e7390d85ed0"
      }
     },
     "38cee376616044558556970e257e6ec4": {
      "model_module": "@jupyter-widgets/base",
      "model_module_version": "1.0.0",
      "model_name": "LayoutModel",
      "state": {}
     },
     "39db888aaa1d419080aad246a843fd5e": {
      "model_module": "@jupyter-widgets/controls",
      "model_module_version": "1.0.0",
      "model_name": "DescriptionStyleModel",
      "state": {
       "description_width": ""
      }
     },
     "39f223e5f3cf472b8073f3c72d33b1c3": {
      "model_module": "@jupyter-widgets/controls",
      "model_module_version": "1.0.0",
      "model_name": "FloatSliderModel",
      "state": {
       "description": "lossless_compression_ratio",
       "layout": "IPY_MODEL_549c465e73fa4f309cb39fb5a3b9c589",
       "max": 1.2000000000000002,
       "min": -0.4,
       "step": 0.1,
       "style": "IPY_MODEL_29d8857f521542f597977cda9122dfd0",
       "value": 0.4
      }
     },
     "3a904101a2ae4c039bdbf690b7e5c571": {
      "model_module": "@jupyter-widgets/controls",
      "model_module_version": "1.0.0",
      "model_name": "FloatSliderModel",
      "state": {
       "description": "compression_ratio",
       "layout": "IPY_MODEL_38cee376616044558556970e257e6ec4",
       "max": 1,
       "step": 0.1,
       "style": "IPY_MODEL_bec19af298b641d4b8b19761ad093c1f",
       "value": 0.4
      }
     },
     "3b48a50a07f6403ab1eaf165df25376d": {
      "model_module": "@jupyter-widgets/base",
      "model_module_version": "1.0.0",
      "model_name": "LayoutModel",
      "state": {}
     },
     "3b61de63af6f4be6b5720bb5288b8bfc": {
      "model_module": "@jupyter-widgets/controls",
      "model_module_version": "1.0.0",
      "model_name": "FloatSliderModel",
      "state": {
       "description": "compression_ratio",
       "layout": "IPY_MODEL_7b56667c5b8a428691dad573bab539c3",
       "max": 4,
       "min": 1,
       "step": 0.1,
       "style": "IPY_MODEL_3d9188726ab749788cab5a0b3e96eb7c",
       "value": 3
      }
     },
     "3bc36d745cf146cab9de1827acb4b461": {
      "model_module": "@jupyter-widgets/controls",
      "model_module_version": "1.0.0",
      "model_name": "SliderStyleModel",
      "state": {
       "description_width": ""
      }
     },
     "3c3d3c83f31d443eb180e14d5a3368ef": {
      "model_module": "@jupyter-widgets/base",
      "model_module_version": "1.0.0",
      "model_name": "LayoutModel",
      "state": {}
     },
     "3c4800a0716d432284d1f9862eb25fba": {
      "model_module": "@jupyter-widgets/controls",
      "model_module_version": "1.0.0",
      "model_name": "FloatSliderModel",
      "state": {
       "description": "compression_ratio",
       "layout": "IPY_MODEL_7fcaba69accb42d9a56f391a7275062e",
       "max": 4,
       "min": 1,
       "step": 0.1,
       "style": "IPY_MODEL_8e8b7ad039894d889bce2595fbe1989e",
       "value": 3
      }
     },
     "3c791cbb1cb645568626634607d429bf": {
      "model_module": "@jupyter-widgets/base",
      "model_module_version": "1.0.0",
      "model_name": "LayoutModel",
      "state": {}
     },
     "3ce120d7acfd47019090f5c5752aaebb": {
      "model_module": "@jupyter-widgets/output",
      "model_module_version": "1.0.0",
      "model_name": "OutputModel",
      "state": {
       "layout": "IPY_MODEL_b06aa2c39111479d9dc157bf3f1cf979"
      }
     },
     "3d2c88ab549049079e21ad4f32804695": {
      "model_module": "@jupyter-widgets/base",
      "model_module_version": "1.0.0",
      "model_name": "LayoutModel",
      "state": {}
     },
     "3d9188726ab749788cab5a0b3e96eb7c": {
      "model_module": "@jupyter-widgets/controls",
      "model_module_version": "1.0.0",
      "model_name": "SliderStyleModel",
      "state": {
       "description_width": ""
      }
     },
     "3ef4afe01f414a279c3dca7744142137": {
      "model_module": "@jupyter-widgets/controls",
      "model_module_version": "1.0.0",
      "model_name": "SliderStyleModel",
      "state": {
       "description_width": ""
      }
     },
     "3f54b74cb2ee4ceaa93f3d6c7ecc417c": {
      "model_module": "@jupyter-widgets/base",
      "model_module_version": "1.0.0",
      "model_name": "LayoutModel",
      "state": {}
     },
     "3f9261f29e03444bb67ee7d3235d937e": {
      "model_module": "@jupyter-widgets/base",
      "model_module_version": "1.0.0",
      "model_name": "LayoutModel",
      "state": {}
     },
     "401b5e65eda4480e8385bb2253c99089": {
      "model_module": "@jupyter-widgets/controls",
      "model_module_version": "1.0.0",
      "model_name": "FloatSliderModel",
      "state": {
       "description": "compression_ratio",
       "layout": "IPY_MODEL_488bdaf713584ba98f7736aa46940914",
       "max": 4,
       "min": 1,
       "step": 0.1,
       "style": "IPY_MODEL_da1a263f8d154507b9768f13ad72a18e",
       "value": 3
      }
     },
     "40aa4a5029084bf9b93f5726620757a1": {
      "model_module": "@jupyter-widgets/controls",
      "model_module_version": "1.0.0",
      "model_name": "SliderStyleModel",
      "state": {
       "description_width": ""
      }
     },
     "4151c558a7e0432f9d9d93cf947062e6": {
      "model_module": "@jupyter-widgets/controls",
      "model_module_version": "1.0.0",
      "model_name": "VBoxModel",
      "state": {
       "_dom_classes": [
        "widget-interact"
       ],
       "children": [
        "IPY_MODEL_aa6359429a0a4b39964ece49e78c7625",
        "IPY_MODEL_3a904101a2ae4c039bdbf690b7e5c571",
        "IPY_MODEL_0f564ba7b99f4905984736ed9a2a4836"
       ],
       "layout": "IPY_MODEL_2b3bc799e91644418ed0a8b5bf995207"
      }
     },
     "4209c28ae4dd442790f3a67feea4b72f": {
      "model_module": "@jupyter-widgets/base",
      "model_module_version": "1.0.0",
      "model_name": "LayoutModel",
      "state": {}
     },
     "4285e5830f4244a7a45e5f4f07b0e845": {
      "model_module": "@jupyter-widgets/controls",
      "model_module_version": "1.0.0",
      "model_name": "SliderStyleModel",
      "state": {
       "description_width": ""
      }
     },
     "42cc6f5cff9645949b2e4120bc40418d": {
      "model_module": "@jupyter-widgets/controls",
      "model_module_version": "1.0.0",
      "model_name": "SliderStyleModel",
      "state": {
       "description_width": ""
      }
     },
     "440d2d1f04384f05876cf76772bdaa47": {
      "model_module": "@jupyter-widgets/base",
      "model_module_version": "1.0.0",
      "model_name": "LayoutModel",
      "state": {}
     },
     "4481de912ac44276aa0d57466e8801c8": {
      "model_module": "@jupyter-widgets/output",
      "model_module_version": "1.0.0",
      "model_name": "OutputModel",
      "state": {
       "layout": "IPY_MODEL_fe11375dd8974e07b196f38d1cc9ee9f",
       "outputs": [
        {
         "data": {
          "text/html": "<div>\n<style scoped>\n    .dataframe tbody tr th:only-of-type {\n        vertical-align: middle;\n    }\n\n    .dataframe tbody tr th {\n        vertical-align: top;\n    }\n\n    .dataframe thead th {\n        text-align: right;\n    }\n</style>\n<table border=\"1\" class=\"dataframe\">\n  <thead>\n    <tr style=\"text-align: right;\">\n      <th></th>\n      <th>rate_R1</th>\n      <th>rate_DL0</th>\n      <th>data_1_yr_PB</th>\n      <th>data_5_yr_PB</th>\n      <th>data_10_yr_PB</th>\n    </tr>\n  </thead>\n  <tbody>\n    <tr>\n      <th>LST</th>\n      <td>57.434880</td>\n      <td>1.381480</td>\n      <td>0.745999</td>\n      <td>3.729996</td>\n      <td>7.459992</td>\n    </tr>\n    <tr>\n      <th>MST</th>\n      <td>134.014720</td>\n      <td>3.223453</td>\n      <td>1.740665</td>\n      <td>8.703324</td>\n      <td>17.406648</td>\n    </tr>\n    <tr>\n      <th>SST</th>\n      <td>12.682032</td>\n      <td>0.305014</td>\n      <td>0.164708</td>\n      <td>0.823539</td>\n      <td>1.647078</td>\n    </tr>\n    <tr>\n      <th>TOTAL</th>\n      <td>204.131632</td>\n      <td>4.909948</td>\n      <td>2.651372</td>\n      <td>13.256859</td>\n      <td>26.513718</td>\n    </tr>\n  </tbody>\n</table>\n</div>",
          "text/plain": "          rate_R1  rate_DL0  data_1_yr_PB  data_5_yr_PB  data_10_yr_PB\nLST     57.434880  1.381480      0.745999      3.729996       7.459992\nMST    134.014720  3.223453      1.740665      8.703324      17.406648\nSST     12.682032  0.305014      0.164708      0.823539       1.647078\nTOTAL  204.131632  4.909948      2.651372     13.256859      26.513718"
         },
         "metadata": {},
         "output_type": "display_data"
        }
       ]
      }
     },
     "46162751d2a44755aeb9ec7e03aae1fb": {
      "model_module": "@jupyter-widgets/output",
      "model_module_version": "1.0.0",
      "model_name": "OutputModel",
      "state": {
       "layout": "IPY_MODEL_beb9ee8aa6e345d2934800a13aa657a3",
       "outputs": [
        {
         "data": {
          "text/html": "<div>\n<style scoped>\n    .dataframe tbody tr th:only-of-type {\n        vertical-align: middle;\n    }\n\n    .dataframe tbody tr th {\n        vertical-align: top;\n    }\n\n    .dataframe thead th {\n        text-align: right;\n    }\n</style>\n<table border=\"1\" class=\"dataframe\">\n  <thead>\n    <tr style=\"text-align: right;\">\n      <th></th>\n      <th>rate_R1</th>\n      <th>rate_DL0</th>\n      <th>data_1_yr_PB</th>\n      <th>data_5_yr_PB</th>\n      <th>data_10_yr_PB</th>\n    </tr>\n  </thead>\n  <tbody>\n    <tr>\n      <th>LST</th>\n      <td>57.434880</td>\n      <td>0.478457</td>\n      <td>0.258367</td>\n      <td>1.291834</td>\n      <td>2.583669</td>\n    </tr>\n    <tr>\n      <th>MST</th>\n      <td>93.810304</td>\n      <td>0.781480</td>\n      <td>0.421999</td>\n      <td>2.109996</td>\n      <td>4.219992</td>\n    </tr>\n    <tr>\n      <th>SST</th>\n      <td>8.877422</td>\n      <td>0.073932</td>\n      <td>0.039923</td>\n      <td>0.199616</td>\n      <td>0.399233</td>\n    </tr>\n    <tr>\n      <th>TOTAL</th>\n      <td>160.122606</td>\n      <td>1.333869</td>\n      <td>0.720289</td>\n      <td>3.601447</td>\n      <td>7.202893</td>\n    </tr>\n  </tbody>\n</table>\n</div>",
          "text/plain": "          rate_R1  rate_DL0  data_1_yr_PB  data_5_yr_PB  data_10_yr_PB\nLST     57.434880  0.478457      0.258367      1.291834       2.583669\nMST     93.810304  0.781480      0.421999      2.109996       4.219992\nSST      8.877422  0.073932      0.039923      0.199616       0.399233\nTOTAL  160.122606  1.333869      0.720289      3.601447       7.202893"
         },
         "metadata": {},
         "output_type": "display_data"
        }
       ]
      }
     },
     "462a5d676a564995981bdbc9d4409dc8": {
      "model_module": "@jupyter-widgets/controls",
      "model_module_version": "1.0.0",
      "model_name": "DescriptionStyleModel",
      "state": {
       "description_width": ""
      }
     },
     "4643adf725884f3a91d8d0907b47d2dd": {
      "model_module": "@jupyter-widgets/controls",
      "model_module_version": "1.0.0",
      "model_name": "SliderStyleModel",
      "state": {
       "description_width": ""
      }
     },
     "470c19616b0f45bab684ec6dec4e6731": {
      "model_module": "@jupyter-widgets/base",
      "model_module_version": "1.0.0",
      "model_name": "LayoutModel",
      "state": {}
     },
     "4852e81f93ae47a89e31bfc29380521f": {
      "model_module": "@jupyter-widgets/controls",
      "model_module_version": "1.0.0",
      "model_name": "FloatSliderModel",
      "state": {
       "description": "dvr_percent",
       "layout": "IPY_MODEL_ab50a116339041a78819fe5ac97a63ed",
       "style": "IPY_MODEL_90209ac38d74408d90a05fc4f88cec93",
       "value": 3
      }
     },
     "488bdaf713584ba98f7736aa46940914": {
      "model_module": "@jupyter-widgets/base",
      "model_module_version": "1.0.0",
      "model_name": "LayoutModel",
      "state": {}
     },
     "4971596d2b3140d0a147f9aa72acc4c1": {
      "model_module": "@jupyter-widgets/controls",
      "model_module_version": "1.0.0",
      "model_name": "SliderStyleModel",
      "state": {
       "description_width": ""
      }
     },
     "49b3e139a65f4ff48ff79123869650bd": {
      "model_module": "@jupyter-widgets/controls",
      "model_module_version": "1.0.0",
      "model_name": "FloatSliderModel",
      "state": {
       "description": "dvr_fraction",
       "layout": "IPY_MODEL_24993a7ac57942e8af73d3edb2636bbf",
       "max": 1,
       "step": 0.05,
       "style": "IPY_MODEL_23d20dbc80364f63bc1f333acf8613aa",
       "value": 0.05
      }
     },
     "4a7f72c5b5de425da364a6103c1284fb": {
      "model_module": "@jupyter-widgets/controls",
      "model_module_version": "1.0.0",
      "model_name": "SliderStyleModel",
      "state": {
       "description_width": ""
      }
     },
     "4af826d0dc584b9b957afce7da1975a2": {
      "model_module": "@jupyter-widgets/base",
      "model_module_version": "1.0.0",
      "model_name": "LayoutModel",
      "state": {}
     },
     "4b891b2faf8b47cdb54e7ef5da483d7e": {
      "model_module": "@jupyter-widgets/output",
      "model_module_version": "1.0.0",
      "model_name": "OutputModel",
      "state": {
       "layout": "IPY_MODEL_ab9a3344ba00454f80ffda4adc3581be"
      }
     },
     "4b8a5ef8c2484c5cb9d1ae2898547784": {
      "model_module": "@jupyter-widgets/output",
      "model_module_version": "1.0.0",
      "model_name": "OutputModel",
      "state": {
       "layout": "IPY_MODEL_666e248a81e5483ca923d0bdc8b9b15d"
      }
     },
     "4b94e505fc384bc18219ecfe30dcd693": {
      "model_module": "@jupyter-widgets/controls",
      "model_module_version": "1.0.0",
      "model_name": "VBoxModel",
      "state": {
       "_dom_classes": [
        "widget-interact"
       ],
       "children": [
        "IPY_MODEL_5b1c71e1171d4a6eb24e2729491bcd24",
        "IPY_MODEL_12d7153ff89a41cc88f8320b47d7dda0",
        "IPY_MODEL_717c3097b8ee429583510e80eb76d7b7",
        "IPY_MODEL_7780833f715c4f5b94a852c0d315f2bb"
       ],
       "layout": "IPY_MODEL_8195b3ae59824a0dbc77eea5cdfe86cc"
      }
     },
     "4bb4e8b2e42a479d9529f47470f76aad": {
      "model_module": "@jupyter-widgets/controls",
      "model_module_version": "1.0.0",
      "model_name": "FloatSliderModel",
      "state": {
       "description": "dvr_fraction",
       "layout": "IPY_MODEL_d5d9936c64dd40f78f97098d28c8078a",
       "max": 1,
       "min": 0.01,
       "step": 0.005,
       "style": "IPY_MODEL_8739f052a1444f2ebd8f757f6ca7cbf6",
       "value": 0.01
      }
     },
     "4c59d7cefb5a43cf9d13aa9c7e779e98": {
      "model_module": "@jupyter-widgets/base",
      "model_module_version": "1.0.0",
      "model_name": "LayoutModel",
      "state": {}
     },
     "4d711a7e297042dda81dbad5c244814b": {
      "model_module": "@jupyter-widgets/controls",
      "model_module_version": "1.0.0",
      "model_name": "SliderStyleModel",
      "state": {
       "description_width": ""
      }
     },
     "4ea1cf809a8b42af8c6d9a267319b885": {
      "model_module": "@jupyter-widgets/output",
      "model_module_version": "1.0.0",
      "model_name": "OutputModel",
      "state": {
       "layout": "IPY_MODEL_a8c1db0c55304635a4247495387a07ee"
      }
     },
     "4fb0262354284d6f961e4df817cd762b": {
      "model_module": "@jupyter-widgets/controls",
      "model_module_version": "1.0.0",
      "model_name": "FloatSliderModel",
      "state": {
       "description": "dvr_fraction",
       "layout": "IPY_MODEL_21f532e0bde142c49806f43acc3b4c2b",
       "max": 1,
       "min": 0.01,
       "step": 0.005,
       "style": "IPY_MODEL_0b88c2b30e7c408388851095504953fd",
       "value": 0.05
      }
     },
     "50194b7cb0a448eb8273f92e170ab802": {
      "model_module": "@jupyter-widgets/base",
      "model_module_version": "1.0.0",
      "model_name": "LayoutModel",
      "state": {}
     },
     "5080865e5f5a4851a35c2b9fb7d5aa43": {
      "model_module": "@jupyter-widgets/base",
      "model_module_version": "1.0.0",
      "model_name": "LayoutModel",
      "state": {}
     },
     "50e53bda0bc84235a82a4c7b88647cce": {
      "model_module": "@jupyter-widgets/controls",
      "model_module_version": "1.0.0",
      "model_name": "DropdownModel",
      "state": {
       "_options_labels": [
        "0.0",
        "0.0204081632653",
        "0.0408163265306",
        "0.0612244897959",
        "0.0816326530612",
        "0.102040816327",
        "0.122448979592",
        "0.142857142857",
        "0.163265306122",
        "0.183673469388",
        "0.204081632653",
        "0.224489795918",
        "0.244897959184",
        "0.265306122449",
        "0.285714285714",
        "0.30612244898",
        "0.326530612245",
        "0.34693877551",
        "0.367346938776",
        "0.387755102041",
        "0.408163265306",
        "0.428571428571",
        "0.448979591837",
        "0.469387755102",
        "0.489795918367",
        "0.510204081633",
        "0.530612244898",
        "0.551020408163",
        "0.571428571429",
        "0.591836734694",
        "0.612244897959",
        "0.632653061224",
        "0.65306122449",
        "0.673469387755",
        "0.69387755102",
        "0.714285714286",
        "0.734693877551",
        "0.755102040816",
        "0.775510204082",
        "0.795918367347",
        "0.816326530612",
        "0.836734693878",
        "0.857142857143",
        "0.877551020408",
        "0.897959183673",
        "0.918367346939",
        "0.938775510204",
        "0.959183673469",
        "0.979591836735",
        "1.0"
       ],
       "description": "dvr_fraction",
       "index": 0,
       "layout": "IPY_MODEL_19bb2717ea7e4f65a413e9cfd8bb77b7",
       "style": "IPY_MODEL_56af0c612e5c480a9a65e62fcc535e30"
      }
     },
     "51c80fa2670b44c4a27db9a87290163b": {
      "model_module": "@jupyter-widgets/base",
      "model_module_version": "1.0.0",
      "model_name": "LayoutModel",
      "state": {}
     },
     "51e099791ee742669003e10f0183c838": {
      "model_module": "@jupyter-widgets/controls",
      "model_module_version": "1.0.0",
      "model_name": "DescriptionStyleModel",
      "state": {
       "description_width": ""
      }
     },
     "533b7804c5f149f187e6f85869497946": {
      "model_module": "@jupyter-widgets/base",
      "model_module_version": "1.0.0",
      "model_name": "LayoutModel",
      "state": {}
     },
     "536fcd3673f04adabe50e18f69532027": {
      "model_module": "@jupyter-widgets/controls",
      "model_module_version": "1.0.0",
      "model_name": "VBoxModel",
      "state": {
       "_dom_classes": [
        "widget-interact"
       ],
       "children": [
        "IPY_MODEL_39f223e5f3cf472b8073f3c72d33b1c3",
        "IPY_MODEL_50e53bda0bc84235a82a4c7b88647cce",
        "IPY_MODEL_cd3f43bfd81f4f9b978cc4b4d1530c4f"
       ],
       "layout": "IPY_MODEL_c7df2dc377e24f40ae3bbe76fb1bc49a"
      }
     },
     "53ec78cfddb64cf6ad25ccf8382b657d": {
      "model_module": "@jupyter-widgets/base",
      "model_module_version": "1.0.0",
      "model_name": "LayoutModel",
      "state": {}
     },
     "54147351e7fc49d0a0c610dc59757047": {
      "model_module": "@jupyter-widgets/base",
      "model_module_version": "1.0.0",
      "model_name": "LayoutModel",
      "state": {}
     },
     "5457463245f74d87bc58ef3d1efec793": {
      "model_module": "@jupyter-widgets/base",
      "model_module_version": "1.0.0",
      "model_name": "LayoutModel",
      "state": {}
     },
     "546b10bd08c142028667eb9a6f0d060b": {
      "model_module": "@jupyter-widgets/base",
      "model_module_version": "1.0.0",
      "model_name": "LayoutModel",
      "state": {}
     },
     "546e186b3bb54bd282f41b321d0f4046": {
      "model_module": "@jupyter-widgets/controls",
      "model_module_version": "1.0.0",
      "model_name": "FloatSliderModel",
      "state": {
       "description": "compression_ratio",
       "layout": "IPY_MODEL_e61521d1dbca48ffb8f47a39059d502c",
       "max": 4,
       "min": 1,
       "step": 0.1,
       "style": "IPY_MODEL_3bc36d745cf146cab9de1827acb4b461",
       "value": 3
      }
     },
     "549bd24f71ef4ebc975a08207f958e60": {
      "model_module": "@jupyter-widgets/base",
      "model_module_version": "1.0.0",
      "model_name": "LayoutModel",
      "state": {}
     },
     "549c465e73fa4f309cb39fb5a3b9c589": {
      "model_module": "@jupyter-widgets/base",
      "model_module_version": "1.0.0",
      "model_name": "LayoutModel",
      "state": {}
     },
     "5547b5531dd3415e860c5a9fc3e439ea": {
      "model_module": "@jupyter-widgets/base",
      "model_module_version": "1.0.0",
      "model_name": "LayoutModel",
      "state": {}
     },
     "55547e9c11a2431791fe2dbbd429b3a9": {
      "model_module": "@jupyter-widgets/controls",
      "model_module_version": "1.0.0",
      "model_name": "VBoxModel",
      "state": {
       "_dom_classes": [
        "widget-interact"
       ],
       "children": [
        "IPY_MODEL_100278d3e3894cbda845baf332b5a3e7",
        "IPY_MODEL_18a0bae1808b4eccaa0daa026fac7ceb",
        "IPY_MODEL_b0668cb554b1405b9444080c0352b876"
       ],
       "layout": "IPY_MODEL_70857c0040fb4bb5901fd5ad01ebfde5"
      }
     },
     "56af0c612e5c480a9a65e62fcc535e30": {
      "model_module": "@jupyter-widgets/controls",
      "model_module_version": "1.0.0",
      "model_name": "DescriptionStyleModel",
      "state": {
       "description_width": ""
      }
     },
     "573d42dc1c414e45baa8010766888d41": {
      "model_module": "@jupyter-widgets/controls",
      "model_module_version": "1.0.0",
      "model_name": "DescriptionStyleModel",
      "state": {
       "description_width": ""
      }
     },
     "5833777d327e4e9ebe6370455536ec22": {
      "model_module": "@jupyter-widgets/base",
      "model_module_version": "1.0.0",
      "model_name": "LayoutModel",
      "state": {}
     },
     "5855726b5704445ca09bafa736b22cf3": {
      "model_module": "@jupyter-widgets/controls",
      "model_module_version": "1.0.0",
      "model_name": "IntSliderModel",
      "state": {
       "description": "n_samp",
       "layout": "IPY_MODEL_5457463245f74d87bc58ef3d1efec793",
       "max": 128,
       "style": "IPY_MODEL_8134c7c6d2a648e3931566a3c731be11",
       "value": 64
      }
     },
     "5858f22100c54a15903975fa7fbb5106": {
      "model_module": "@jupyter-widgets/controls",
      "model_module_version": "1.0.0",
      "model_name": "FloatSliderModel",
      "state": {
       "description": "dvr_fraction",
       "layout": "IPY_MODEL_ba3e8652cfa9442094502c5c7544e8ac",
       "max": 0.2,
       "min": 0.01,
       "step": 0.005,
       "style": "IPY_MODEL_27935efa77534ab799c221e3d175639c",
       "value": 0.05
      }
     },
     "5869158995db4f16b532720ff31c7425": {
      "model_module": "@jupyter-widgets/controls",
      "model_module_version": "1.0.0",
      "model_name": "VBoxModel",
      "state": {
       "_dom_classes": [
        "widget-interact"
       ],
       "children": [
        "IPY_MODEL_6ded3f589e2a4b8295c2a20d1294fd65",
        "IPY_MODEL_401b5e65eda4480e8385bb2253c99089",
        "IPY_MODEL_ebccfefdd21e4b0d9f6cd8f82de924a6",
        "IPY_MODEL_c13ac74ae81e4665853305755e4e6b4f",
        "IPY_MODEL_a4846ad898804c8d88062bd38aca1aa1"
       ],
       "layout": "IPY_MODEL_cb838698ff2a4bf7b72c5c26404382bb"
      }
     },
     "586998c071a74dac82d1e39098c740f0": {
      "model_module": "@jupyter-widgets/controls",
      "model_module_version": "1.0.0",
      "model_name": "VBoxModel",
      "state": {
       "_dom_classes": [
        "widget-interact"
       ],
       "children": [
        "IPY_MODEL_4fb0262354284d6f961e4df817cd762b",
        "IPY_MODEL_0db473da53eb4dfa94dba7f28b316e61",
        "IPY_MODEL_96aa7835d8134cd0a4c9064a38dd3466",
        "IPY_MODEL_1fa4ac1243e04eec9a1021176dd349d2"
       ],
       "layout": "IPY_MODEL_c42ea5ad678a40189a178bbed36e7fb6"
      }
     },
     "58b4fcfa011f491bb0430af7e806e740": {
      "model_module": "@jupyter-widgets/base",
      "model_module_version": "1.0.0",
      "model_name": "LayoutModel",
      "state": {}
     },
     "5a158b5b675f4488b44e31a1e6b3c7ed": {
      "model_module": "@jupyter-widgets/base",
      "model_module_version": "1.0.0",
      "model_name": "LayoutModel",
      "state": {}
     },
     "5a53a47d9b3c42c1be55c3d0ca4509b5": {
      "model_module": "@jupyter-widgets/controls",
      "model_module_version": "1.0.0",
      "model_name": "DropdownModel",
      "state": {
       "_options_labels": [
        "0.0",
        "0.0204081632653",
        "0.0408163265306",
        "0.0612244897959",
        "0.0816326530612",
        "0.102040816327",
        "0.122448979592",
        "0.142857142857",
        "0.163265306122",
        "0.183673469388",
        "0.204081632653",
        "0.224489795918",
        "0.244897959184",
        "0.265306122449",
        "0.285714285714",
        "0.30612244898",
        "0.326530612245",
        "0.34693877551",
        "0.367346938776",
        "0.387755102041",
        "0.408163265306",
        "0.428571428571",
        "0.448979591837",
        "0.469387755102",
        "0.489795918367",
        "0.510204081633",
        "0.530612244898",
        "0.551020408163",
        "0.571428571429",
        "0.591836734694",
        "0.612244897959",
        "0.632653061224",
        "0.65306122449",
        "0.673469387755",
        "0.69387755102",
        "0.714285714286",
        "0.734693877551",
        "0.755102040816",
        "0.775510204082",
        "0.795918367347",
        "0.816326530612",
        "0.836734693878",
        "0.857142857143",
        "0.877551020408",
        "0.897959183673",
        "0.918367346939",
        "0.938775510204",
        "0.959183673469",
        "0.979591836735",
        "1.0"
       ],
       "description": "dvr_fraction",
       "index": 0,
       "layout": "IPY_MODEL_c1bc863df8994b43837a0cd7456a5af0",
       "style": "IPY_MODEL_6352c8e9be9b4687a68e87a2d391af98"
      }
     },
     "5ab9514903e74928a184013b284d3e83": {
      "model_module": "@jupyter-widgets/base",
      "model_module_version": "1.0.0",
      "model_name": "LayoutModel",
      "state": {}
     },
     "5aec525cbf374292a49f1982ba49dba9": {
      "model_module": "@jupyter-widgets/controls",
      "model_module_version": "1.0.0",
      "model_name": "DescriptionStyleModel",
      "state": {
       "description_width": ""
      }
     },
     "5b152c9455fd4999b9452ec750b8ac38": {
      "model_module": "@jupyter-widgets/base",
      "model_module_version": "1.0.0",
      "model_name": "LayoutModel",
      "state": {}
     },
     "5b1c71e1171d4a6eb24e2729491bcd24": {
      "model_module": "@jupyter-widgets/controls",
      "model_module_version": "1.0.0",
      "model_name": "FloatSliderModel",
      "state": {
       "description": "dvr_fraction",
       "layout": "IPY_MODEL_eeaffc7dcda840fea694289247f9f146",
       "max": 1,
       "step": 0.005,
       "style": "IPY_MODEL_1783e7846372445e8f16c9858568c265",
       "value": 0.04
      }
     },
     "5bb8ab9a28c04420b8cc3fcbd27bc21e": {
      "model_module": "@jupyter-widgets/base",
      "model_module_version": "1.0.0",
      "model_name": "LayoutModel",
      "state": {}
     },
     "5d53edba92ff43f98fb6ef2362007374": {
      "model_module": "@jupyter-widgets/base",
      "model_module_version": "1.0.0",
      "model_name": "LayoutModel",
      "state": {}
     },
     "5d693723cc6943b38034b322c7e36a7e": {
      "model_module": "@jupyter-widgets/base",
      "model_module_version": "1.0.0",
      "model_name": "LayoutModel",
      "state": {}
     },
     "5da29842c36740b39ad95877a04d8e9d": {
      "model_module": "@jupyter-widgets/base",
      "model_module_version": "1.0.0",
      "model_name": "LayoutModel",
      "state": {}
     },
     "5de8f3f4c8b8401994c1954f60d8e274": {
      "model_module": "@jupyter-widgets/controls",
      "model_module_version": "1.0.0",
      "model_name": "SliderStyleModel",
      "state": {
       "description_width": ""
      }
     },
     "5e1f883bd06f4bc0a6985300d688e8e2": {
      "model_module": "@jupyter-widgets/controls",
      "model_module_version": "1.0.0",
      "model_name": "DropdownModel",
      "state": {
       "_options_labels": [
        "8.0 bit",
        "16.0 bit"
       ],
       "description": "pix_info_per_pix",
       "index": 0,
       "layout": "IPY_MODEL_0fe2d6a33dfa4713bf260974366336cb",
       "style": "IPY_MODEL_13814de5b2964bea846ac71b5e08786a"
      }
     },
     "6352c8e9be9b4687a68e87a2d391af98": {
      "model_module": "@jupyter-widgets/controls",
      "model_module_version": "1.0.0",
      "model_name": "DescriptionStyleModel",
      "state": {
       "description_width": ""
      }
     },
     "635764090dc548bf930dd26591e8e62c": {
      "model_module": "@jupyter-widgets/base",
      "model_module_version": "1.0.0",
      "model_name": "LayoutModel",
      "state": {}
     },
     "63eda7f0a9344d0cbe25261be70bdb1d": {
      "model_module": "@jupyter-widgets/controls",
      "model_module_version": "1.0.0",
      "model_name": "VBoxModel",
      "state": {
       "_dom_classes": [
        "widget-interact"
       ],
       "children": [
        "IPY_MODEL_89cef9f2d5d14d1d84d964a64f497fe4",
        "IPY_MODEL_37db7982d6ee43b781982d3e2d2b7a83",
        "IPY_MODEL_a9e7df5b38ba4a7ca57c7bf2b12d50b7",
        "IPY_MODEL_a93b39d57bff460a9ac2a6fd850d4a41",
        "IPY_MODEL_d3e5d191d9af4480af102be39f6c5696"
       ],
       "layout": "IPY_MODEL_b05626fc8f8c40a7a4e3454eed96194b"
      }
     },
     "643dac7f66e84489b5ea886b40905893": {
      "model_module": "@jupyter-widgets/output",
      "model_module_version": "1.0.0",
      "model_name": "OutputModel",
      "state": {
       "layout": "IPY_MODEL_4af826d0dc584b9b957afce7da1975a2"
      }
     },
     "6504f50f1a3f4cbb9a51d0a7cf8c0636": {
      "model_module": "@jupyter-widgets/controls",
      "model_module_version": "1.0.0",
      "model_name": "VBoxModel",
      "state": {
       "_dom_classes": [
        "widget-interact"
       ],
       "children": [
        "IPY_MODEL_2a27437b1c26434c828dcd5795bf3ce5",
        "IPY_MODEL_8acd16a78d7c4fb6ad0bab4be6012fad",
        "IPY_MODEL_5e1f883bd06f4bc0a6985300d688e8e2",
        "IPY_MODEL_c67b1b3bbb21448ca0f524d20533b246"
       ],
       "layout": "IPY_MODEL_3f9261f29e03444bb67ee7d3235d937e"
      }
     },
     "65052a0d51f048ab82777feb31893dbc": {
      "model_module": "@jupyter-widgets/controls",
      "model_module_version": "1.0.0",
      "model_name": "VBoxModel",
      "state": {
       "_dom_classes": [
        "widget-interact"
       ],
       "children": [
        "IPY_MODEL_d1c0bdd23d4046a8a4c7fe15da7da8f5",
        "IPY_MODEL_546e186b3bb54bd282f41b321d0f4046",
        "IPY_MODEL_bff20e2cbed6430ba1155ddd2a32a563",
        "IPY_MODEL_ebf2909cf18a448f95e2ec16c1ad4257"
       ],
       "layout": "IPY_MODEL_8619046f9c3d4a70a01a9cc19697a51c"
      }
     },
     "65326b102f134606b483687f61bf3e1f": {
      "model_module": "@jupyter-widgets/controls",
      "model_module_version": "1.0.0",
      "model_name": "DropdownModel",
      "state": {
       "_options_labels": [
        "8.0 bit",
        "16.0 bit"
       ],
       "description": "pix_info_per_pix",
       "index": 0,
       "layout": "IPY_MODEL_50194b7cb0a448eb8273f92e170ab802",
       "style": "IPY_MODEL_2beb7ede2fee4e959b09c6bc0b304b4e"
      }
     },
     "654511e14a944a3b9b0617dbbc90cc97": {
      "model_module": "@jupyter-widgets/controls",
      "model_module_version": "1.0.0",
      "model_name": "DropdownModel",
      "state": {
       "_options_labels": [
        "1",
        "2"
       ],
       "description": "num_gain_channels",
       "index": 0,
       "layout": "IPY_MODEL_5bb8ab9a28c04420b8cc3fcbd27bc21e",
       "style": "IPY_MODEL_2f1f9a65399e4588b9e9192768bb57fe"
      }
     },
     "65631ebe701b4997a7feb0a14f8bd9ff": {
      "model_module": "@jupyter-widgets/base",
      "model_module_version": "1.0.0",
      "model_name": "LayoutModel",
      "state": {}
     },
     "666e248a81e5483ca923d0bdc8b9b15d": {
      "model_module": "@jupyter-widgets/base",
      "model_module_version": "1.0.0",
      "model_name": "LayoutModel",
      "state": {}
     },
     "67f5a5820f0d488fb9880350fda7ae62": {
      "model_module": "@jupyter-widgets/base",
      "model_module_version": "1.0.0",
      "model_name": "LayoutModel",
      "state": {}
     },
     "691a4eff4d334992a03d040039a33b84": {
      "model_module": "@jupyter-widgets/controls",
      "model_module_version": "1.0.0",
      "model_name": "SliderStyleModel",
      "state": {
       "description_width": ""
      }
     },
     "6b4e10a1e96344d1b990104ca52158bc": {
      "model_module": "@jupyter-widgets/base",
      "model_module_version": "1.0.0",
      "model_name": "LayoutModel",
      "state": {}
     },
     "6b92aba89b3c4b7a9ce5e8a5155760cf": {
      "model_module": "@jupyter-widgets/controls",
      "model_module_version": "1.0.0",
      "model_name": "SliderStyleModel",
      "state": {
       "description_width": ""
      }
     },
     "6c1ab8c9655840a0baa4d9fc1b033d44": {
      "model_module": "@jupyter-widgets/controls",
      "model_module_version": "1.0.0",
      "model_name": "VBoxModel",
      "state": {
       "_dom_classes": [
        "widget-interact"
       ],
       "children": [
        "IPY_MODEL_8ed54e9871fa48a68239646117cfc9e7",
        "IPY_MODEL_9ee40b808bfd42d3b2e7cdbab5937dbc",
        "IPY_MODEL_a83f9c64d35442429383ae6782befbe4",
        "IPY_MODEL_e50fbda19b0a438ca383a7fc08d7fb32"
       ],
       "layout": "IPY_MODEL_f4150b78e2fc41c1aecdc8fa6062ca83"
      }
     },
     "6c5f4f476f574fcf9ee48f7b84aad547": {
      "model_module": "@jupyter-widgets/controls",
      "model_module_version": "1.0.0",
      "model_name": "DescriptionStyleModel",
      "state": {
       "description_width": ""
      }
     },
     "6ded3f589e2a4b8295c2a20d1294fd65": {
      "model_module": "@jupyter-widgets/controls",
      "model_module_version": "1.0.0",
      "model_name": "FloatSliderModel",
      "state": {
       "description": "dvr_fraction",
       "layout": "IPY_MODEL_c0b1afb5201147ed824d66adad61e888",
       "max": 1,
       "step": 0.005,
       "style": "IPY_MODEL_cafacfd8c2be47738a2675dc7f36adfe",
       "value": 0.05
      }
     },
     "6edc7562a6614dd6a76b59a41eb16a9b": {
      "model_module": "@jupyter-widgets/controls",
      "model_module_version": "1.0.0",
      "model_name": "FloatSliderModel",
      "state": {
       "description": "dvr_fraction",
       "layout": "IPY_MODEL_29a927b6904548b8a351197516d695f4",
       "max": 1,
       "min": 0.01,
       "step": 0.005,
       "style": "IPY_MODEL_34aa4787d43c48fd9c5accfcc41e8415",
       "value": 0.05
      }
     },
     "6f5345a759b04aa9880a6a309efc0ce0": {
      "model_module": "@jupyter-widgets/base",
      "model_module_version": "1.0.0",
      "model_name": "LayoutModel",
      "state": {}
     },
     "6f5a4b88254743b3b58cf528e1d47266": {
      "model_module": "@jupyter-widgets/controls",
      "model_module_version": "1.0.0",
      "model_name": "SliderStyleModel",
      "state": {
       "description_width": ""
      }
     },
     "7058deb08a8148a6a6f72ed2d1333fb4": {
      "model_module": "@jupyter-widgets/base",
      "model_module_version": "1.0.0",
      "model_name": "LayoutModel",
      "state": {}
     },
     "70740fb97e8a4fe681effd79894dffd2": {
      "model_module": "@jupyter-widgets/base",
      "model_module_version": "1.0.0",
      "model_name": "LayoutModel",
      "state": {}
     },
     "70857c0040fb4bb5901fd5ad01ebfde5": {
      "model_module": "@jupyter-widgets/base",
      "model_module_version": "1.0.0",
      "model_name": "LayoutModel",
      "state": {}
     },
     "70b32824bb6249de9c77663422098b8e": {
      "model_module": "@jupyter-widgets/base",
      "model_module_version": "1.0.0",
      "model_name": "LayoutModel",
      "state": {}
     },
     "717c3097b8ee429583510e80eb76d7b7": {
      "model_module": "@jupyter-widgets/controls",
      "model_module_version": "1.0.0",
      "model_name": "DropdownModel",
      "state": {
       "_options_labels": [
        "8.0 bit",
        "16.0 bit"
       ],
       "description": "pix_info_per_pix",
       "index": 0,
       "layout": "IPY_MODEL_a73c40a15c48403f9836e6e8fbdd69b0",
       "style": "IPY_MODEL_b0c21aa9e2e540a48c4708962e2bd2e6"
      }
     },
     "72e8830b620747c88f311e762b3f9092": {
      "model_module": "@jupyter-widgets/base",
      "model_module_version": "1.0.0",
      "model_name": "LayoutModel",
      "state": {}
     },
     "737652f57cd2484b9e49a035c230fcd2": {
      "model_module": "@jupyter-widgets/base",
      "model_module_version": "1.0.0",
      "model_name": "LayoutModel",
      "state": {}
     },
     "73b57ca85a9a4a4d85312a893bab6d17": {
      "model_module": "@jupyter-widgets/controls",
      "model_module_version": "1.0.0",
      "model_name": "SliderStyleModel",
      "state": {
       "description_width": ""
      }
     },
     "73d758bbfc704cda884ce25fb24829dd": {
      "model_module": "@jupyter-widgets/controls",
      "model_module_version": "1.0.0",
      "model_name": "VBoxModel",
      "state": {
       "_dom_classes": [
        "widget-interact"
       ],
       "layout": "IPY_MODEL_737652f57cd2484b9e49a035c230fcd2"
      }
     },
     "741213d71c514f9fa261a0b83691c33a": {
      "model_module": "@jupyter-widgets/controls",
      "model_module_version": "1.0.0",
      "model_name": "SliderStyleModel",
      "state": {
       "description_width": ""
      }
     },
     "74e73db02dd14319a7ad9c04107041b1": {
      "model_module": "@jupyter-widgets/controls",
      "model_module_version": "1.0.0",
      "model_name": "DescriptionStyleModel",
      "state": {
       "description_width": ""
      }
     },
     "769ccbdfc2db48ffac2b99b2829afb85": {
      "model_module": "@jupyter-widgets/base",
      "model_module_version": "1.0.0",
      "model_name": "LayoutModel",
      "state": {}
     },
     "76bdfe94982d4967b5edb81329e120cd": {
      "model_module": "@jupyter-widgets/base",
      "model_module_version": "1.0.0",
      "model_name": "LayoutModel",
      "state": {}
     },
     "7780833f715c4f5b94a852c0d315f2bb": {
      "model_module": "@jupyter-widgets/output",
      "model_module_version": "1.0.0",
      "model_name": "OutputModel",
      "state": {
       "layout": "IPY_MODEL_377e2e3ea6224dd190506f3a4eaf64d2",
       "outputs": [
        {
         "data": {
          "text/html": "<div>\n<style scoped>\n    .dataframe tbody tr th:only-of-type {\n        vertical-align: middle;\n    }\n\n    .dataframe tbody tr th {\n        vertical-align: top;\n    }\n\n    .dataframe thead th {\n        text-align: right;\n    }\n</style>\n<table border=\"1\" class=\"dataframe\">\n  <thead>\n    <tr style=\"text-align: right;\">\n      <th></th>\n      <th>rate_R1</th>\n      <th>rate_DL0</th>\n      <th>data_1_yr_PB</th>\n      <th>data_5_yr_PB</th>\n      <th>data_10_yr_PB</th>\n    </tr>\n  </thead>\n  <tbody>\n    <tr>\n      <th>LST</th>\n      <td>57.434880</td>\n      <td>1.194496</td>\n      <td>0.645028</td>\n      <td>3.225139</td>\n      <td>6.450278</td>\n    </tr>\n    <tr>\n      <th>MST</th>\n      <td>134.014720</td>\n      <td>2.787157</td>\n      <td>1.505065</td>\n      <td>7.525325</td>\n      <td>15.050650</td>\n    </tr>\n    <tr>\n      <th>SST</th>\n      <td>12.682032</td>\n      <td>0.263727</td>\n      <td>0.142412</td>\n      <td>0.712062</td>\n      <td>1.424124</td>\n    </tr>\n    <tr>\n      <th>TOTAL</th>\n      <td>204.131632</td>\n      <td>4.245380</td>\n      <td>2.292505</td>\n      <td>11.462526</td>\n      <td>22.925052</td>\n    </tr>\n  </tbody>\n</table>\n</div>",
          "text/plain": "          rate_R1  rate_DL0  data_1_yr_PB  data_5_yr_PB  data_10_yr_PB\nLST     57.434880  1.194496      0.645028      3.225139       6.450278\nMST    134.014720  2.787157      1.505065      7.525325      15.050650\nSST     12.682032  0.263727      0.142412      0.712062       1.424124\nTOTAL  204.131632  4.245380      2.292505     11.462526      22.925052"
         },
         "metadata": {},
         "output_type": "display_data"
        }
       ]
      }
     },
     "78cb47d19e7b4f93af4c5660043c729f": {
      "model_module": "@jupyter-widgets/controls",
      "model_module_version": "1.0.0",
      "model_name": "FloatSliderModel",
      "state": {
       "description": "compression_ratio",
       "layout": "IPY_MODEL_32046fe3e54e4eb4a1ad07e636b4ac86",
       "max": 1,
       "step": 0.1,
       "style": "IPY_MODEL_3ef4afe01f414a279c3dca7744142137"
      }
     },
     "7970f3cfc4394cf8894c72ceacd3fc45": {
      "model_module": "@jupyter-widgets/output",
      "model_module_version": "1.0.0",
      "model_name": "OutputModel",
      "state": {
       "layout": "IPY_MODEL_cec21c8fa6b74015b7a45f3fd2281ef9"
      }
     },
     "7ac490fb267c4bc09d368d90a29575f3": {
      "model_module": "@jupyter-widgets/base",
      "model_module_version": "1.0.0",
      "model_name": "LayoutModel",
      "state": {}
     },
     "7b56667c5b8a428691dad573bab539c3": {
      "model_module": "@jupyter-widgets/base",
      "model_module_version": "1.0.0",
      "model_name": "LayoutModel",
      "state": {}
     },
     "7cfc912ef61f4653b4c9e3ca170d6d89": {
      "model_module": "@jupyter-widgets/base",
      "model_module_version": "1.0.0",
      "model_name": "LayoutModel",
      "state": {}
     },
     "7d564a6b0fb5426fba5261813571b467": {
      "model_module": "@jupyter-widgets/controls",
      "model_module_version": "1.0.0",
      "model_name": "SliderStyleModel",
      "state": {
       "description_width": ""
      }
     },
     "7dfcfca9f9f74728beedc4b6c60a38e6": {
      "model_module": "@jupyter-widgets/output",
      "model_module_version": "1.0.0",
      "model_name": "OutputModel",
      "state": {
       "layout": "IPY_MODEL_53ec78cfddb64cf6ad25ccf8382b657d"
      }
     },
     "7e9a5e4fedfc44458d0e1287763b2ce2": {
      "model_module": "@jupyter-widgets/controls",
      "model_module_version": "1.0.0",
      "model_name": "FloatSliderModel",
      "state": {
       "description": "dvr_fraction",
       "layout": "IPY_MODEL_efdfa34eddcf488dbc70b7317f936357",
       "max": 1,
       "step": 0.05,
       "style": "IPY_MODEL_e9313e7cbe0a47748628c3ab1a4f9b98"
      }
     },
     "7ec0f850225246068d1fee8ed2c5c94f": {
      "model_module": "@jupyter-widgets/base",
      "model_module_version": "1.0.0",
      "model_name": "LayoutModel",
      "state": {}
     },
     "7f7d9a9ba9f44fba994a429b8334c2b3": {
      "model_module": "@jupyter-widgets/base",
      "model_module_version": "1.0.0",
      "model_name": "LayoutModel",
      "state": {}
     },
     "7fcaba69accb42d9a56f391a7275062e": {
      "model_module": "@jupyter-widgets/base",
      "model_module_version": "1.0.0",
      "model_name": "LayoutModel",
      "state": {}
     },
     "801eaf55825648e08ae3c879bae5d378": {
      "model_module": "@jupyter-widgets/base",
      "model_module_version": "1.0.0",
      "model_name": "LayoutModel",
      "state": {}
     },
     "80296ecac7c843e38493fb7388d9e255": {
      "model_module": "@jupyter-widgets/output",
      "model_module_version": "1.0.0",
      "model_name": "OutputModel",
      "state": {
       "layout": "IPY_MODEL_84da8e6e3d474962b81770cb7f0f13c0"
      }
     },
     "8036396e625f4fe3a7ef2a0cca53a986": {
      "model_module": "@jupyter-widgets/controls",
      "model_module_version": "1.0.0",
      "model_name": "VBoxModel",
      "state": {
       "_dom_classes": [
        "widget-interact"
       ],
       "layout": "IPY_MODEL_8e3ae25346444d33b5b5a2c96cf7a0ff"
      }
     },
     "80dbb0647d884b62a62c2d5a8cb39921": {
      "model_module": "@jupyter-widgets/controls",
      "model_module_version": "1.0.0",
      "model_name": "DropdownModel",
      "state": {
       "_options_labels": [
        "1",
        "2"
       ],
       "description": "num_gain_channels",
       "index": 1,
       "layout": "IPY_MODEL_06b7d5fd01324e5fb6ee48594eb5f9e3",
       "style": "IPY_MODEL_5aec525cbf374292a49f1982ba49dba9"
      }
     },
     "80fabbf0dc1d4a48a247b2f2cba41178": {
      "model_module": "@jupyter-widgets/controls",
      "model_module_version": "1.0.0",
      "model_name": "DropdownModel",
      "state": {
       "_options_labels": [
        "0.0 bit",
        "8.0 bit",
        "16.0 bit"
       ],
       "description": "pix_info_per_pix",
       "index": 1,
       "layout": "IPY_MODEL_d3140ec7a45445dea392867d84aa45ef",
       "style": "IPY_MODEL_462a5d676a564995981bdbc9d4409dc8"
      }
     },
     "8134c7c6d2a648e3931566a3c731be11": {
      "model_module": "@jupyter-widgets/controls",
      "model_module_version": "1.0.0",
      "model_name": "SliderStyleModel",
      "state": {
       "description_width": ""
      }
     },
     "81376a627ed94c85b8d526e8c14c3269": {
      "model_module": "@jupyter-widgets/controls",
      "model_module_version": "1.0.0",
      "model_name": "VBoxModel",
      "state": {
       "_dom_classes": [
        "widget-interact"
       ],
       "children": [
        "IPY_MODEL_256a874a1c0b426184bc661c2869b4a1",
        "IPY_MODEL_abbf5c4c24c94574ab13785d5c57955e",
        "IPY_MODEL_0a4922e818514d1d902bbb0dfb18d9dc",
        "IPY_MODEL_0a2c538721b94b319ebacb40a04228a6",
        "IPY_MODEL_14c7b83d81824bf1bd130c88f578d067"
       ],
       "layout": "IPY_MODEL_549bd24f71ef4ebc975a08207f958e60"
      }
     },
     "8195b3ae59824a0dbc77eea5cdfe86cc": {
      "model_module": "@jupyter-widgets/base",
      "model_module_version": "1.0.0",
      "model_name": "LayoutModel",
      "state": {}
     },
     "82f7f0a9e61c4d569cbed136b22d15b0": {
      "model_module": "@jupyter-widgets/base",
      "model_module_version": "1.0.0",
      "model_name": "LayoutModel",
      "state": {}
     },
     "8303b479a13c42548d01c1b8bc9f4fa7": {
      "model_module": "@jupyter-widgets/controls",
      "model_module_version": "1.0.0",
      "model_name": "FloatSliderModel",
      "state": {
       "description": "compression_ratio",
       "layout": "IPY_MODEL_3577ac05ec374a4cace1b8acfcb0ebd3",
       "max": 4,
       "min": 1,
       "step": 0.1,
       "style": "IPY_MODEL_90c4fb691e7047fba68def9762227cba",
       "value": 3
      }
     },
     "83732857d974401f8a5c3aeb58aa8559": {
      "model_module": "@jupyter-widgets/output",
      "model_module_version": "1.0.0",
      "model_name": "OutputModel",
      "state": {
       "layout": "IPY_MODEL_5a158b5b675f4488b44e31a1e6b3c7ed",
       "outputs": [
        {
         "data": {
          "text/html": "<div>\n<style scoped>\n    .dataframe tbody tr th:only-of-type {\n        vertical-align: middle;\n    }\n\n    .dataframe tbody tr th {\n        vertical-align: top;\n    }\n\n    .dataframe thead th {\n        text-align: right;\n    }\n</style>\n<table border=\"1\" class=\"dataframe\">\n  <thead>\n    <tr style=\"text-align: right;\">\n      <th></th>\n      <th>rate_R1</th>\n      <th>rate_DL0</th>\n      <th>data_1_yr_PB</th>\n      <th>data_5_yr_PB</th>\n      <th>data_10_yr_PB</th>\n    </tr>\n  </thead>\n  <tbody>\n    <tr>\n      <th>LST</th>\n      <td>57.434880</td>\n      <td>2.464800</td>\n      <td>1.330992</td>\n      <td>6.654960</td>\n      <td>13.309920</td>\n    </tr>\n    <tr>\n      <th>MST</th>\n      <td>134.014720</td>\n      <td>5.751200</td>\n      <td>3.105648</td>\n      <td>15.528240</td>\n      <td>31.056480</td>\n    </tr>\n    <tr>\n      <th>SST</th>\n      <td>12.682032</td>\n      <td>0.544221</td>\n      <td>0.293879</td>\n      <td>1.469396</td>\n      <td>2.938792</td>\n    </tr>\n    <tr>\n      <th>TOTAL</th>\n      <td>204.131632</td>\n      <td>8.760221</td>\n      <td>4.730519</td>\n      <td>23.652596</td>\n      <td>47.305192</td>\n    </tr>\n  </tbody>\n</table>\n</div>",
          "text/plain": "          rate_R1  rate_DL0  data_1_yr_PB  data_5_yr_PB  data_10_yr_PB\nLST     57.434880  2.464800      1.330992      6.654960      13.309920\nMST    134.014720  5.751200      3.105648     15.528240      31.056480\nSST     12.682032  0.544221      0.293879      1.469396       2.938792\nTOTAL  204.131632  8.760221      4.730519     23.652596      47.305192"
         },
         "metadata": {},
         "output_type": "display_data"
        }
       ]
      }
     },
     "83f3eb2eade64bdf87c5e6f4411953b1": {
      "model_module": "@jupyter-widgets/controls",
      "model_module_version": "1.0.0",
      "model_name": "VBoxModel",
      "state": {
       "_dom_classes": [
        "widget-interact"
       ],
       "children": [
        "IPY_MODEL_8e8e3c21b59a4b4dbc4790ad666109ca",
        "IPY_MODEL_f7b46ef2c47b47069464d616b14c5d6e",
        "IPY_MODEL_2c1fe6b728ca4a7a81735fa333715c5d",
        "IPY_MODEL_38aabb5b1292490baa7713821dcb3d1d"
       ],
       "layout": "IPY_MODEL_51c80fa2670b44c4a27db9a87290163b"
      }
     },
     "8466d60f2de1445e9e1dbdec0be30c29": {
      "model_module": "@jupyter-widgets/controls",
      "model_module_version": "1.0.0",
      "model_name": "DropdownModel",
      "state": {
       "_options_labels": [
        "8.0 bit",
        "16.0 bit"
       ],
       "description": "pix_info_per_pix",
       "index": 0,
       "layout": "IPY_MODEL_d64268a0991d4abe84830f8bd793ebce",
       "style": "IPY_MODEL_2f3c10fa1c8148549d542e42e2152ea5"
      }
     },
     "84da8e6e3d474962b81770cb7f0f13c0": {
      "model_module": "@jupyter-widgets/base",
      "model_module_version": "1.0.0",
      "model_name": "LayoutModel",
      "state": {}
     },
     "8619046f9c3d4a70a01a9cc19697a51c": {
      "model_module": "@jupyter-widgets/base",
      "model_module_version": "1.0.0",
      "model_name": "LayoutModel",
      "state": {}
     },
     "8739f052a1444f2ebd8f757f6ca7cbf6": {
      "model_module": "@jupyter-widgets/controls",
      "model_module_version": "1.0.0",
      "model_name": "SliderStyleModel",
      "state": {
       "description_width": ""
      }
     },
     "89b0ede104c14e8d96e2221581cfb8ca": {
      "model_module": "@jupyter-widgets/output",
      "model_module_version": "1.0.0",
      "model_name": "OutputModel",
      "state": {
       "layout": "IPY_MODEL_c0dfc079b587412e94796c30927f089a"
      }
     },
     "89cef9f2d5d14d1d84d964a64f497fe4": {
      "model_module": "@jupyter-widgets/controls",
      "model_module_version": "1.0.0",
      "model_name": "FloatSliderModel",
      "state": {
       "description": "dvr_fraction",
       "layout": "IPY_MODEL_5d693723cc6943b38034b322c7e36a7e",
       "max": 1,
       "step": 0.005,
       "style": "IPY_MODEL_c4efd0cb31db40cf8d34b4071ef44dbf",
       "value": 0.05
      }
     },
     "89df94703e554743b3f5e2b68aaaa6e3": {
      "model_module": "@jupyter-widgets/controls",
      "model_module_version": "1.0.0",
      "model_name": "DescriptionStyleModel",
      "state": {
       "description_width": ""
      }
     },
     "8a1b69ecb4284dcd97ea18904e6faad6": {
      "model_module": "@jupyter-widgets/base",
      "model_module_version": "1.0.0",
      "model_name": "LayoutModel",
      "state": {}
     },
     "8acd16a78d7c4fb6ad0bab4be6012fad": {
      "model_module": "@jupyter-widgets/controls",
      "model_module_version": "1.0.0",
      "model_name": "FloatSliderModel",
      "state": {
       "description": "compression_ratio",
       "layout": "IPY_MODEL_0ecd4afe12344c2596a3eba0b08a96c3",
       "max": 4,
       "min": 1,
       "step": 0.1,
       "style": "IPY_MODEL_691a4eff4d334992a03d040039a33b84",
       "value": 3
      }
     },
     "8c506976122c4f5e994168d62f6f9b64": {
      "model_module": "@jupyter-widgets/base",
      "model_module_version": "1.0.0",
      "model_name": "LayoutModel",
      "state": {}
     },
     "8e3ae25346444d33b5b5a2c96cf7a0ff": {
      "model_module": "@jupyter-widgets/base",
      "model_module_version": "1.0.0",
      "model_name": "LayoutModel",
      "state": {}
     },
     "8e8b7ad039894d889bce2595fbe1989e": {
      "model_module": "@jupyter-widgets/controls",
      "model_module_version": "1.0.0",
      "model_name": "SliderStyleModel",
      "state": {
       "description_width": ""
      }
     },
     "8e8e3c21b59a4b4dbc4790ad666109ca": {
      "model_module": "@jupyter-widgets/controls",
      "model_module_version": "1.0.0",
      "model_name": "FloatSliderModel",
      "state": {
       "description": "dvr_fraction",
       "layout": "IPY_MODEL_0cd2d25f5fb24c209afd6e4990febe9d",
       "max": 1,
       "min": 0.01,
       "step": 0.005,
       "style": "IPY_MODEL_06c8aaebc7544d8d815703c09b32ca80",
       "value": 0.11
      }
     },
     "8eaa98df36a245dcadcdd07bd5423f27": {
      "model_module": "@jupyter-widgets/controls",
      "model_module_version": "1.0.0",
      "model_name": "DescriptionStyleModel",
      "state": {
       "description_width": ""
      }
     },
     "8ed54e9871fa48a68239646117cfc9e7": {
      "model_module": "@jupyter-widgets/controls",
      "model_module_version": "1.0.0",
      "model_name": "FloatSliderModel",
      "state": {
       "description": "dvr_fraction",
       "layout": "IPY_MODEL_58b4fcfa011f491bb0430af7e806e740",
       "max": 0.2,
       "min": 0.01,
       "step": 0.005,
       "style": "IPY_MODEL_afdd8f04e8444b599a4be22d64721237",
       "value": 0.085
      }
     },
     "8f0d46b7ee3046afbc3794319ea74680": {
      "model_module": "@jupyter-widgets/base",
      "model_module_version": "1.0.0",
      "model_name": "LayoutModel",
      "state": {}
     },
     "8f27cb246e804ee3b90313a5a2fc0d35": {
      "model_module": "@jupyter-widgets/controls",
      "model_module_version": "1.0.0",
      "model_name": "VBoxModel",
      "state": {
       "_dom_classes": [
        "widget-interact"
       ],
       "children": [
        "IPY_MODEL_4bb4e8b2e42a479d9529f47470f76aad",
        "IPY_MODEL_f4780c52ea11459cbc785e2cd605a8ef",
        "IPY_MODEL_65326b102f134606b483687f61bf3e1f",
        "IPY_MODEL_4b891b2faf8b47cdb54e7ef5da483d7e"
       ],
       "layout": "IPY_MODEL_635764090dc548bf930dd26591e8e62c"
      }
     },
     "8f3119d642874f10b5d7fe5fa545145d": {
      "model_module": "@jupyter-widgets/base",
      "model_module_version": "1.0.0",
      "model_name": "LayoutModel",
      "state": {}
     },
     "90209ac38d74408d90a05fc4f88cec93": {
      "model_module": "@jupyter-widgets/controls",
      "model_module_version": "1.0.0",
      "model_name": "SliderStyleModel",
      "state": {
       "description_width": ""
      }
     },
     "902ff88c4c964baca9c8740813b7befe": {
      "model_module": "@jupyter-widgets/base",
      "model_module_version": "1.0.0",
      "model_name": "LayoutModel",
      "state": {}
     },
     "90c4fb691e7047fba68def9762227cba": {
      "model_module": "@jupyter-widgets/controls",
      "model_module_version": "1.0.0",
      "model_name": "SliderStyleModel",
      "state": {
       "description_width": ""
      }
     },
     "91269f55e3bf465a8bd26a80e6924d4b": {
      "model_module": "@jupyter-widgets/controls",
      "model_module_version": "1.0.0",
      "model_name": "FloatSliderModel",
      "state": {
       "description": "compression_ratio",
       "layout": "IPY_MODEL_f4a2dc79e3604aab8ebb90096585e90b",
       "max": 4,
       "min": 1,
       "step": 0.1,
       "style": "IPY_MODEL_a6f6d0575c2440cbb2e5583eab51d3f9",
       "value": 2.8
      }
     },
     "919339bc1de5401c90ba19ac7e2d80db": {
      "model_module": "@jupyter-widgets/base",
      "model_module_version": "1.0.0",
      "model_name": "LayoutModel",
      "state": {}
     },
     "930a5546a55e43bcb1ec3d7b266a10d0": {
      "model_module": "@jupyter-widgets/controls",
      "model_module_version": "1.0.0",
      "model_name": "DescriptionStyleModel",
      "state": {
       "description_width": ""
      }
     },
     "93c6de2596094dcb853ce792eecdedcb": {
      "model_module": "@jupyter-widgets/base",
      "model_module_version": "1.0.0",
      "model_name": "LayoutModel",
      "state": {}
     },
     "93d08f1ade1e4134870a181138838024": {
      "model_module": "@jupyter-widgets/controls",
      "model_module_version": "1.0.0",
      "model_name": "VBoxModel",
      "state": {
       "_dom_classes": [
        "widget-interact"
       ],
       "children": [
        "IPY_MODEL_20c0ee3f025d421f9b1e73f63c857d31",
        "IPY_MODEL_35c42d2b2b924183bf74a894b2174506",
        "IPY_MODEL_12f1414618b241938b3eb67618d5029f",
        "IPY_MODEL_80dbb0647d884b62a62c2d5a8cb39921",
        "IPY_MODEL_83732857d974401f8a5c3aeb58aa8559"
       ],
       "layout": "IPY_MODEL_533b7804c5f149f187e6f85869497946"
      }
     },
     "9456128f37b1474c978e35af0241ee59": {
      "model_module": "@jupyter-widgets/output",
      "model_module_version": "1.0.0",
      "model_name": "OutputModel",
      "state": {
       "layout": "IPY_MODEL_5833777d327e4e9ebe6370455536ec22"
      }
     },
     "953171bb97f4474495b708581af32abb": {
      "model_module": "@jupyter-widgets/controls",
      "model_module_version": "1.0.0",
      "model_name": "SliderStyleModel",
      "state": {
       "description_width": ""
      }
     },
     "96a2fef06a554691902065d7bc9cb9c3": {
      "model_module": "@jupyter-widgets/controls",
      "model_module_version": "1.0.0",
      "model_name": "SliderStyleModel",
      "state": {
       "description_width": ""
      }
     },
     "96aa7835d8134cd0a4c9064a38dd3466": {
      "model_module": "@jupyter-widgets/controls",
      "model_module_version": "1.0.0",
      "model_name": "DropdownModel",
      "state": {
       "_options_labels": [
        "8.0 bit",
        "16.0 bit"
       ],
       "description": "pix_info_per_pix",
       "index": 0,
       "layout": "IPY_MODEL_325f7d23e93243e496bc6b11e6d69104",
       "style": "IPY_MODEL_d2402d555eb54ba7b542d3e3fa114032"
      }
     },
     "971ae266cd774b3ab634e2a48b5b16ce": {
      "model_module": "@jupyter-widgets/controls",
      "model_module_version": "1.0.0",
      "model_name": "SliderStyleModel",
      "state": {
       "description_width": ""
      }
     },
     "98e7d7189ff1407dbbd51857d5ee16b9": {
      "model_module": "@jupyter-widgets/output",
      "model_module_version": "1.0.0",
      "model_name": "OutputModel",
      "state": {
       "layout": "IPY_MODEL_7ec0f850225246068d1fee8ed2c5c94f"
      }
     },
     "99ee1383859b43039f901856cad3bf7a": {
      "model_module": "@jupyter-widgets/base",
      "model_module_version": "1.0.0",
      "model_name": "LayoutModel",
      "state": {}
     },
     "9a0e35ab47724f8dae2b1a94d55a348c": {
      "model_module": "@jupyter-widgets/controls",
      "model_module_version": "1.0.0",
      "model_name": "FloatSliderModel",
      "state": {
       "description": "compression_ratio",
       "layout": "IPY_MODEL_19f6addf695246ba8d4c73762ced3334",
       "max": 1,
       "step": 0.1,
       "style": "IPY_MODEL_33f4ceac1c4a475fb2c00eeed4778535",
       "value": 0.3
      }
     },
     "9af253cc64e348ecac48fc4291b9f6ee": {
      "model_module": "@jupyter-widgets/controls",
      "model_module_version": "1.0.0",
      "model_name": "VBoxModel",
      "state": {
       "_dom_classes": [
        "widget-interact"
       ],
       "children": [
        "IPY_MODEL_aaadabae196848b9ba6433cec069491b",
        "IPY_MODEL_b039c3edf63a4cbf93f84db002a5e8ba",
        "IPY_MODEL_b82651364b234ed7ae45c40d14f73594",
        "IPY_MODEL_2e4b714ed1804cc5a690ef5e4cc25ed4"
       ],
       "layout": "IPY_MODEL_c953ca6def184ee1b26e4896e3b5688a"
      }
     },
     "9b5ae6cba6a948619e0f6c07b918679e": {
      "model_module": "@jupyter-widgets/base",
      "model_module_version": "1.0.0",
      "model_name": "LayoutModel",
      "state": {}
     },
     "9da7e625ff424415bf9fb57d87fc5c18": {
      "model_module": "@jupyter-widgets/controls",
      "model_module_version": "1.0.0",
      "model_name": "VBoxModel",
      "state": {
       "_dom_classes": [
        "widget-interact"
       ],
       "layout": "IPY_MODEL_0855438e2be54388b30341c294223b55"
      }
     },
     "9dab4c33f8e84240b0fd2da06541460a": {
      "model_module": "@jupyter-widgets/controls",
      "model_module_version": "1.0.0",
      "model_name": "SliderStyleModel",
      "state": {
       "description_width": ""
      }
     },
     "9e715c4f9f5e4d39bf4e0fe1d5d8f685": {
      "model_module": "@jupyter-widgets/controls",
      "model_module_version": "1.0.0",
      "model_name": "VBoxModel",
      "state": {
       "_dom_classes": [
        "widget-interact"
       ],
       "children": [
        "IPY_MODEL_bdb58a54296d4cfba1c1dd1f3b79d9b6",
        "IPY_MODEL_9a0e35ab47724f8dae2b1a94d55a348c",
        "IPY_MODEL_c1358f51e0c14e65aa5406d99820a063"
       ],
       "layout": "IPY_MODEL_02665b2daf2c4b58a13614acfa98b28e"
      }
     },
     "9ee40b808bfd42d3b2e7cdbab5937dbc": {
      "model_module": "@jupyter-widgets/controls",
      "model_module_version": "1.0.0",
      "model_name": "FloatSliderModel",
      "state": {
       "description": "compression_ratio",
       "layout": "IPY_MODEL_ba4fb813f3db403fa3b101d5c077180a",
       "max": 1,
       "min": 0.1,
       "step": 0.1,
       "style": "IPY_MODEL_da53e4c37f42462c82f498b2e64ce761",
       "value": 0.4
      }
     },
     "a01ecdede7ad4ea6b821dea9b2c36db4": {
      "model_module": "@jupyter-widgets/controls",
      "model_module_version": "1.0.0",
      "model_name": "SliderStyleModel",
      "state": {
       "description_width": ""
      }
     },
     "a044518d4bdc4f26bbecc4bb2766ccd6": {
      "model_module": "@jupyter-widgets/controls",
      "model_module_version": "1.0.0",
      "model_name": "FloatSliderModel",
      "state": {
       "description": "compression_ratio",
       "layout": "IPY_MODEL_ff02f25b14194311a9f2e52aae58555c",
       "max": 4,
       "min": 1,
       "step": 0.1,
       "style": "IPY_MODEL_9dab4c33f8e84240b0fd2da06541460a",
       "value": 2.6
      }
     },
     "a16e6f8dcc7841e7adff1ec35c69cd69": {
      "model_module": "@jupyter-widgets/base",
      "model_module_version": "1.0.0",
      "model_name": "LayoutModel",
      "state": {}
     },
     "a3a18005efe64d71be31f1610e85f8da": {
      "model_module": "@jupyter-widgets/controls",
      "model_module_version": "1.0.0",
      "model_name": "VBoxModel",
      "state": {
       "_dom_classes": [
        "widget-interact"
       ],
       "children": [
        "IPY_MODEL_f0cbc805a9e74f5b94a31d9316c4f6a5",
        "IPY_MODEL_5a53a47d9b3c42c1be55c3d0ca4509b5",
        "IPY_MODEL_282793b69c454c11a50614a47adfdfd2"
       ],
       "layout": "IPY_MODEL_d15e9cd595db465da80f12b7602e3f81"
      }
     },
     "a423e74c70f44a54aef9c8082cb15510": {
      "model_module": "@jupyter-widgets/controls",
      "model_module_version": "1.0.0",
      "model_name": "SliderStyleModel",
      "state": {
       "description_width": ""
      }
     },
     "a4846ad898804c8d88062bd38aca1aa1": {
      "model_module": "@jupyter-widgets/output",
      "model_module_version": "1.0.0",
      "model_name": "OutputModel",
      "state": {
       "layout": "IPY_MODEL_7cfc912ef61f4653b4c9e3ca170d6d89",
       "outputs": [
        {
         "data": {
          "text/html": "<div>\n<style scoped>\n    .dataframe tbody tr th:only-of-type {\n        vertical-align: middle;\n    }\n\n    .dataframe tbody tr th {\n        vertical-align: top;\n    }\n\n    .dataframe thead th {\n        text-align: right;\n    }\n</style>\n<table border=\"1\" class=\"dataframe\">\n  <thead>\n    <tr style=\"text-align: right;\">\n      <th></th>\n      <th>rate_R1</th>\n      <th>rate_DL0</th>\n      <th>data_1_yr_PB</th>\n      <th>data_5_yr_PB</th>\n      <th>data_10_yr_PB</th>\n    </tr>\n  </thead>\n  <tbody>\n    <tr>\n      <th>LST</th>\n      <td>57.434880</td>\n      <td>3.844920</td>\n      <td>2.076257</td>\n      <td>10.381284</td>\n      <td>20.762568</td>\n    </tr>\n    <tr>\n      <th>MST</th>\n      <td>134.014720</td>\n      <td>8.971480</td>\n      <td>4.844599</td>\n      <td>24.222996</td>\n      <td>48.445992</td>\n    </tr>\n    <tr>\n      <th>SST</th>\n      <td>12.682032</td>\n      <td>0.848963</td>\n      <td>0.458440</td>\n      <td>2.292201</td>\n      <td>4.584401</td>\n    </tr>\n    <tr>\n      <th>TOTAL</th>\n      <td>204.131632</td>\n      <td>13.665363</td>\n      <td>7.379296</td>\n      <td>36.896481</td>\n      <td>73.792961</td>\n    </tr>\n  </tbody>\n</table>\n</div>",
          "text/plain": "          rate_R1   rate_DL0  data_1_yr_PB  data_5_yr_PB  data_10_yr_PB\nLST     57.434880   3.844920      2.076257     10.381284      20.762568\nMST    134.014720   8.971480      4.844599     24.222996      48.445992\nSST     12.682032   0.848963      0.458440      2.292201       4.584401\nTOTAL  204.131632  13.665363      7.379296     36.896481      73.792961"
         },
         "metadata": {},
         "output_type": "display_data"
        }
       ]
      }
     },
     "a4f553e63d0f43e5be5d6a493b97ac90": {
      "model_module": "@jupyter-widgets/controls",
      "model_module_version": "1.0.0",
      "model_name": "VBoxModel",
      "state": {
       "_dom_classes": [
        "widget-interact"
       ],
       "children": [
        "IPY_MODEL_a51b2d6b5f02416baa22a7d2c3c67c26",
        "IPY_MODEL_4ea1cf809a8b42af8c6d9a267319b885"
       ],
       "layout": "IPY_MODEL_f25445381ac4400aafa685f03d53367c"
      }
     },
     "a51b2d6b5f02416baa22a7d2c3c67c26": {
      "model_module": "@jupyter-widgets/controls",
      "model_module_version": "1.0.0",
      "model_name": "FloatSliderModel",
      "state": {
       "description": "dvr_fraction",
       "layout": "IPY_MODEL_7ac490fb267c4bc09d368d90a29575f3",
       "max": 0.30000000000000004,
       "min": -0.1,
       "step": 0.1,
       "style": "IPY_MODEL_4971596d2b3140d0a147f9aa72acc4c1",
       "value": 0.3
      }
     },
     "a69c79deca4d4e38a21477d833b5e18d": {
      "model_module": "@jupyter-widgets/base",
      "model_module_version": "1.0.0",
      "model_name": "LayoutModel",
      "state": {}
     },
     "a6b80358288d4dacacce14ece1818cfb": {
      "model_module": "@jupyter-widgets/output",
      "model_module_version": "1.0.0",
      "model_name": "OutputModel",
      "state": {
       "layout": "IPY_MODEL_3f54b74cb2ee4ceaa93f3d6c7ecc417c"
      }
     },
     "a6f6d0575c2440cbb2e5583eab51d3f9": {
      "model_module": "@jupyter-widgets/controls",
      "model_module_version": "1.0.0",
      "model_name": "SliderStyleModel",
      "state": {
       "description_width": ""
      }
     },
     "a73c40a15c48403f9836e6e8fbdd69b0": {
      "model_module": "@jupyter-widgets/base",
      "model_module_version": "1.0.0",
      "model_name": "LayoutModel",
      "state": {}
     },
     "a7ba1c9cc08149e3b3916cb32e95f4c6": {
      "model_module": "@jupyter-widgets/base",
      "model_module_version": "1.0.0",
      "model_name": "LayoutModel",
      "state": {}
     },
     "a803eb0325b14ab1aca631e885979500": {
      "model_module": "@jupyter-widgets/base",
      "model_module_version": "1.0.0",
      "model_name": "LayoutModel",
      "state": {}
     },
     "a83f9c64d35442429383ae6782befbe4": {
      "model_module": "@jupyter-widgets/controls",
      "model_module_version": "1.0.0",
      "model_name": "DropdownModel",
      "state": {
       "_options_labels": [
        "8.0 bit",
        "16.0 bit"
       ],
       "description": "pix_info_per_pix",
       "index": 0,
       "layout": "IPY_MODEL_8f0d46b7ee3046afbc3794319ea74680",
       "style": "IPY_MODEL_280153246379442facefee28e81f1c4b"
      }
     },
     "a89c9d6d92dc4f36b42628019bc2c8a4": {
      "model_module": "@jupyter-widgets/controls",
      "model_module_version": "1.0.0",
      "model_name": "VBoxModel",
      "state": {
       "_dom_classes": [
        "widget-interact"
       ],
       "children": [
        "IPY_MODEL_28a53f65faff4b358b71afa16c3c7460",
        "IPY_MODEL_9456128f37b1474c978e35af0241ee59"
       ],
       "layout": "IPY_MODEL_919339bc1de5401c90ba19ac7e2d80db"
      }
     },
     "a8a6b5c95205487c9aa1889d223f2a54": {
      "model_module": "@jupyter-widgets/base",
      "model_module_version": "1.0.0",
      "model_name": "LayoutModel",
      "state": {}
     },
     "a8c1db0c55304635a4247495387a07ee": {
      "model_module": "@jupyter-widgets/base",
      "model_module_version": "1.0.0",
      "model_name": "LayoutModel",
      "state": {}
     },
     "a93b39d57bff460a9ac2a6fd850d4a41": {
      "model_module": "@jupyter-widgets/controls",
      "model_module_version": "1.0.0",
      "model_name": "DropdownModel",
      "state": {
       "_options_labels": [
        "1",
        "2"
       ],
       "description": "num_gain_channels",
       "index": 0,
       "layout": "IPY_MODEL_93c6de2596094dcb853ce792eecdedcb",
       "style": "IPY_MODEL_d73a5693d1c54602892bdb72a9266b5a"
      }
     },
     "a9e7df5b38ba4a7ca57c7bf2b12d50b7": {
      "model_module": "@jupyter-widgets/controls",
      "model_module_version": "1.0.0",
      "model_name": "DropdownModel",
      "state": {
       "_options_labels": [
        "8.0 bit",
        "16.0 bit"
       ],
       "description": "pix_info_per_pix",
       "index": 0,
       "layout": "IPY_MODEL_31022746313249c7affac6c6fb9b5b6b",
       "style": "IPY_MODEL_31382b3f077a43ca9e8422fed624e10c"
      }
     },
     "aa6359429a0a4b39964ece49e78c7625": {
      "model_module": "@jupyter-widgets/controls",
      "model_module_version": "1.0.0",
      "model_name": "FloatSliderModel",
      "state": {
       "description": "dvr_fraction",
       "layout": "IPY_MODEL_da9a14102f0648108628f21fa32d263f",
       "max": 1,
       "min": 0.1,
       "step": 0.1,
       "style": "IPY_MODEL_1d9d67588c194d8ea0c602529a11d323",
       "value": 0.3
      }
     },
     "aaadabae196848b9ba6433cec069491b": {
      "model_module": "@jupyter-widgets/controls",
      "model_module_version": "1.0.0",
      "model_name": "FloatSliderModel",
      "state": {
       "description": "dvr_fraction",
       "layout": "IPY_MODEL_3c3d3c83f31d443eb180e14d5a3368ef",
       "max": 1,
       "min": 0.1,
       "step": 0.1,
       "style": "IPY_MODEL_c23cb5a2846847c0a327df9e437836de",
       "value": 0.5
      }
     },
     "ab50a116339041a78819fe5ac97a63ed": {
      "model_module": "@jupyter-widgets/base",
      "model_module_version": "1.0.0",
      "model_name": "LayoutModel",
      "state": {}
     },
     "ab92ee00f3664e5ba5a6f53684232c7d": {
      "model_module": "@jupyter-widgets/base",
      "model_module_version": "1.0.0",
      "model_name": "LayoutModel",
      "state": {}
     },
     "ab9a3344ba00454f80ffda4adc3581be": {
      "model_module": "@jupyter-widgets/base",
      "model_module_version": "1.0.0",
      "model_name": "LayoutModel",
      "state": {}
     },
     "abbf5c4c24c94574ab13785d5c57955e": {
      "model_module": "@jupyter-widgets/controls",
      "model_module_version": "1.0.0",
      "model_name": "FloatSliderModel",
      "state": {
       "description": "compression_ratio",
       "layout": "IPY_MODEL_cf1a5c7853ac4bbbb5450102ded324a1",
       "max": 4,
       "min": 1,
       "step": 0.1,
       "style": "IPY_MODEL_c9f0765acb89454ab5d81bc9869a10aa",
       "value": 3
      }
     },
     "acbe05bd22f74fd28b0995fe12403a99": {
      "model_module": "@jupyter-widgets/controls",
      "model_module_version": "1.0.0",
      "model_name": "IntSliderModel",
      "state": {
       "description": "dvr_fraction",
       "layout": "IPY_MODEL_cea97b2804074afd81dda9627a4a49e9",
       "max": 1,
       "step": 10,
       "style": "IPY_MODEL_ad14ed629ea64d24a21e7dc70fbf3160"
      }
     },
     "ad14ed629ea64d24a21e7dc70fbf3160": {
      "model_module": "@jupyter-widgets/controls",
      "model_module_version": "1.0.0",
      "model_name": "SliderStyleModel",
      "state": {
       "description_width": ""
      }
     },
     "af6ce413c1134f05aa3a82b41230905a": {
      "model_module": "@jupyter-widgets/controls",
      "model_module_version": "1.0.0",
      "model_name": "FloatSliderModel",
      "state": {
       "description": "dvr_fraction",
       "layout": "IPY_MODEL_ff42f86c24bc42bc8eb8887c9545ba74",
       "max": 1,
       "step": 0.1,
       "style": "IPY_MODEL_0b129aaab844462f9f804303137bf7f2"
      }
     },
     "afdd8f04e8444b599a4be22d64721237": {
      "model_module": "@jupyter-widgets/controls",
      "model_module_version": "1.0.0",
      "model_name": "SliderStyleModel",
      "state": {
       "description_width": ""
      }
     },
     "b0078085f99c4b74a8c4847d7b9fcfbc": {
      "model_module": "@jupyter-widgets/base",
      "model_module_version": "1.0.0",
      "model_name": "LayoutModel",
      "state": {}
     },
     "b00be00fc62d414e930f5a8358ceba1f": {
      "model_module": "@jupyter-widgets/base",
      "model_module_version": "1.0.0",
      "model_name": "LayoutModel",
      "state": {}
     },
     "b039c3edf63a4cbf93f84db002a5e8ba": {
      "model_module": "@jupyter-widgets/controls",
      "model_module_version": "1.0.0",
      "model_name": "FloatSliderModel",
      "state": {
       "description": "compression_ratio",
       "layout": "IPY_MODEL_b4e71c1152c0448b914fbe15d65a979f",
       "max": 1,
       "step": 0.1,
       "style": "IPY_MODEL_0b3ee52b0ae94b728e86f433038ca87e"
      }
     },
     "b05626fc8f8c40a7a4e3454eed96194b": {
      "model_module": "@jupyter-widgets/base",
      "model_module_version": "1.0.0",
      "model_name": "LayoutModel",
      "state": {}
     },
     "b0668cb554b1405b9444080c0352b876": {
      "model_module": "@jupyter-widgets/output",
      "model_module_version": "1.0.0",
      "model_name": "OutputModel",
      "state": {
       "layout": "IPY_MODEL_4c59d7cefb5a43cf9d13aa9c7e779e98"
      }
     },
     "b06aa2c39111479d9dc157bf3f1cf979": {
      "model_module": "@jupyter-widgets/base",
      "model_module_version": "1.0.0",
      "model_name": "LayoutModel",
      "state": {}
     },
     "b0a99ceeae1a4395ac9833e0459b6960": {
      "model_module": "@jupyter-widgets/controls",
      "model_module_version": "1.0.0",
      "model_name": "SliderStyleModel",
      "state": {
       "description_width": ""
      }
     },
     "b0c1466cedf942a59d76e937a54a15d5": {
      "model_module": "@jupyter-widgets/controls",
      "model_module_version": "1.0.0",
      "model_name": "FloatSliderModel",
      "state": {
       "description": "compression_ratio",
       "layout": "IPY_MODEL_e2df5e7f11fc42ab88f02b228a186a18",
       "max": 4,
       "min": 1,
       "step": 0.1,
       "style": "IPY_MODEL_b0a99ceeae1a4395ac9833e0459b6960",
       "value": 2.8
      }
     },
     "b0c21aa9e2e540a48c4708962e2bd2e6": {
      "model_module": "@jupyter-widgets/controls",
      "model_module_version": "1.0.0",
      "model_name": "DescriptionStyleModel",
      "state": {
       "description_width": ""
      }
     },
     "b0d0f31ebea145d2bab5d2ddbaf33de9": {
      "model_module": "@jupyter-widgets/controls",
      "model_module_version": "1.0.0",
      "model_name": "DescriptionStyleModel",
      "state": {
       "description_width": ""
      }
     },
     "b12785ef6c9147ffb4716c1ffbd6f75e": {
      "model_module": "@jupyter-widgets/base",
      "model_module_version": "1.0.0",
      "model_name": "LayoutModel",
      "state": {}
     },
     "b16094950f9b4c00a2e06de18b81eba2": {
      "model_module": "@jupyter-widgets/base",
      "model_module_version": "1.0.0",
      "model_name": "LayoutModel",
      "state": {}
     },
     "b1d4278fd5b643bb9263327a644e2db4": {
      "model_module": "@jupyter-widgets/controls",
      "model_module_version": "1.0.0",
      "model_name": "VBoxModel",
      "state": {
       "_dom_classes": [
        "widget-interact"
       ],
       "children": [
        "IPY_MODEL_ce61ce7561e541cab788417199eb7068",
        "IPY_MODEL_c962606626904fad909615b010872654"
       ],
       "layout": "IPY_MODEL_3c791cbb1cb645568626634607d429bf"
      }
     },
     "b22d3ae8c2e3492f9d88beb90e2fc213": {
      "model_module": "@jupyter-widgets/base",
      "model_module_version": "1.0.0",
      "model_name": "LayoutModel",
      "state": {}
     },
     "b2368834d31f4fcba2f729f7194cd275": {
      "model_module": "@jupyter-widgets/controls",
      "model_module_version": "1.0.0",
      "model_name": "FloatSliderModel",
      "state": {
       "description": "compression_ratio",
       "layout": "IPY_MODEL_5547b5531dd3415e860c5a9fc3e439ea",
       "max": 1,
       "step": 0.1,
       "style": "IPY_MODEL_96a2fef06a554691902065d7bc9cb9c3"
      }
     },
     "b4345b80f86a433ca91715e203dfd1da": {
      "model_module": "@jupyter-widgets/controls",
      "model_module_version": "1.0.0",
      "model_name": "FloatSliderModel",
      "state": {
       "description": "compression_ratio",
       "layout": "IPY_MODEL_c1b69d88b659442db8167907e29c36cd",
       "max": 1,
       "step": 0.1,
       "style": "IPY_MODEL_32613a8b3d9f43108bf140fbe202db44"
      }
     },
     "b4e71c1152c0448b914fbe15d65a979f": {
      "model_module": "@jupyter-widgets/base",
      "model_module_version": "1.0.0",
      "model_name": "LayoutModel",
      "state": {}
     },
     "b500475391b442b29ed7fa63db45070d": {
      "model_module": "@jupyter-widgets/controls",
      "model_module_version": "1.0.0",
      "model_name": "SliderStyleModel",
      "state": {
       "description_width": ""
      }
     },
     "b627d4aca22e432bac486d7271a4e21a": {
      "model_module": "@jupyter-widgets/base",
      "model_module_version": "1.0.0",
      "model_name": "LayoutModel",
      "state": {}
     },
     "b82651364b234ed7ae45c40d14f73594": {
      "model_module": "@jupyter-widgets/controls",
      "model_module_version": "1.0.0",
      "model_name": "DropdownModel",
      "state": {
       "_options_labels": [
        "8.0 bit",
        "16.0 bit"
       ],
       "description": "pix_info_per_pixel",
       "index": 0,
       "layout": "IPY_MODEL_67f5a5820f0d488fb9880350fda7ae62",
       "style": "IPY_MODEL_573d42dc1c414e45baa8010766888d41"
      }
     },
     "b96e5cdbe884483fa39e4a5705ee52ca": {
      "model_module": "@jupyter-widgets/base",
      "model_module_version": "1.0.0",
      "model_name": "LayoutModel",
      "state": {}
     },
     "ba3e8652cfa9442094502c5c7544e8ac": {
      "model_module": "@jupyter-widgets/base",
      "model_module_version": "1.0.0",
      "model_name": "LayoutModel",
      "state": {}
     },
     "ba4fb813f3db403fa3b101d5c077180a": {
      "model_module": "@jupyter-widgets/base",
      "model_module_version": "1.0.0",
      "model_name": "LayoutModel",
      "state": {}
     },
     "bafbd9ceb1d648328bcf112115fcc880": {
      "model_module": "@jupyter-widgets/base",
      "model_module_version": "1.0.0",
      "model_name": "LayoutModel",
      "state": {}
     },
     "bd28e014448049e99ff169779065252c": {
      "model_module": "@jupyter-widgets/controls",
      "model_module_version": "1.0.0",
      "model_name": "VBoxModel",
      "state": {
       "_dom_classes": [
        "widget-interact"
       ],
       "children": [
        "IPY_MODEL_c4758dcb69434de98024dd475615e1dc",
        "IPY_MODEL_91269f55e3bf465a8bd26a80e6924d4b",
        "IPY_MODEL_d431f4978d7a489e9e4bb812f934c087",
        "IPY_MODEL_98e7d7189ff1407dbbd51857d5ee16b9"
       ],
       "layout": "IPY_MODEL_d407eabacc794a579fcf23fc3f42c016"
      }
     },
     "bdb58a54296d4cfba1c1dd1f3b79d9b6": {
      "model_module": "@jupyter-widgets/controls",
      "model_module_version": "1.0.0",
      "model_name": "FloatSliderModel",
      "state": {
       "description": "dvr_fraction",
       "layout": "IPY_MODEL_e33e6e93da594f60b2de0ab9df99e3c9",
       "max": 1,
       "step": 0.1,
       "style": "IPY_MODEL_6b92aba89b3c4b7a9ce5e8a5155760cf"
      }
     },
     "beb9ee8aa6e345d2934800a13aa657a3": {
      "model_module": "@jupyter-widgets/base",
      "model_module_version": "1.0.0",
      "model_name": "LayoutModel",
      "state": {}
     },
     "bec19af298b641d4b8b19761ad093c1f": {
      "model_module": "@jupyter-widgets/controls",
      "model_module_version": "1.0.0",
      "model_name": "SliderStyleModel",
      "state": {
       "description_width": ""
      }
     },
     "bff20e2cbed6430ba1155ddd2a32a563": {
      "model_module": "@jupyter-widgets/controls",
      "model_module_version": "1.0.0",
      "model_name": "DropdownModel",
      "state": {
       "_options_labels": [
        "8.0 bit",
        "16.0 bit"
       ],
       "description": "pix_info_per_pix",
       "index": 0,
       "layout": "IPY_MODEL_c20ba35258884c2a80c2172e33e75f34",
       "style": "IPY_MODEL_c9f476135718484c949f6006979535fe"
      }
     },
     "bff9c84bf0cb46dfa84cf548840d46c6": {
      "model_module": "@jupyter-widgets/base",
      "model_module_version": "1.0.0",
      "model_name": "LayoutModel",
      "state": {}
     },
     "c0a06a3747214d6580a71bd6f78e29e1": {
      "model_module": "@jupyter-widgets/controls",
      "model_module_version": "1.0.0",
      "model_name": "VBoxModel",
      "state": {
       "_dom_classes": [
        "widget-interact"
       ],
       "layout": "IPY_MODEL_769ccbdfc2db48ffac2b99b2829afb85"
      }
     },
     "c0b1afb5201147ed824d66adad61e888": {
      "model_module": "@jupyter-widgets/base",
      "model_module_version": "1.0.0",
      "model_name": "LayoutModel",
      "state": {}
     },
     "c0c63b5d78a245ccbe17e35db9db7450": {
      "model_module": "@jupyter-widgets/controls",
      "model_module_version": "1.0.0",
      "model_name": "SliderStyleModel",
      "state": {
       "description_width": ""
      }
     },
     "c0dfc079b587412e94796c30927f089a": {
      "model_module": "@jupyter-widgets/base",
      "model_module_version": "1.0.0",
      "model_name": "LayoutModel",
      "state": {}
     },
     "c1358f51e0c14e65aa5406d99820a063": {
      "model_module": "@jupyter-widgets/output",
      "model_module_version": "1.0.0",
      "model_name": "OutputModel",
      "state": {
       "layout": "IPY_MODEL_8a1b69ecb4284dcd97ea18904e6faad6"
      }
     },
     "c13ac74ae81e4665853305755e4e6b4f": {
      "model_module": "@jupyter-widgets/controls",
      "model_module_version": "1.0.0",
      "model_name": "IntSliderModel",
      "state": {
       "description": "num_gain_channels",
       "layout": "IPY_MODEL_b22d3ae8c2e3492f9d88beb90e2fc213",
       "max": 3,
       "min": -1,
       "style": "IPY_MODEL_73b57ca85a9a4a4d85312a893bab6d17",
       "value": 3
      }
     },
     "c1b69d88b659442db8167907e29c36cd": {
      "model_module": "@jupyter-widgets/base",
      "model_module_version": "1.0.0",
      "model_name": "LayoutModel",
      "state": {}
     },
     "c1bc863df8994b43837a0cd7456a5af0": {
      "model_module": "@jupyter-widgets/base",
      "model_module_version": "1.0.0",
      "model_name": "LayoutModel",
      "state": {}
     },
     "c20ba35258884c2a80c2172e33e75f34": {
      "model_module": "@jupyter-widgets/base",
      "model_module_version": "1.0.0",
      "model_name": "LayoutModel",
      "state": {}
     },
     "c23cb5a2846847c0a327df9e437836de": {
      "model_module": "@jupyter-widgets/controls",
      "model_module_version": "1.0.0",
      "model_name": "SliderStyleModel",
      "state": {
       "description_width": ""
      }
     },
     "c291d084d9b64f38ab382e8f9521c6c7": {
      "model_module": "@jupyter-widgets/base",
      "model_module_version": "1.0.0",
      "model_name": "LayoutModel",
      "state": {}
     },
     "c3a5da0de3ac4e42af05aed732577554": {
      "model_module": "@jupyter-widgets/output",
      "model_module_version": "1.0.0",
      "model_name": "OutputModel",
      "state": {
       "layout": "IPY_MODEL_4209c28ae4dd442790f3a67feea4b72f"
      }
     },
     "c42ea5ad678a40189a178bbed36e7fb6": {
      "model_module": "@jupyter-widgets/base",
      "model_module_version": "1.0.0",
      "model_name": "LayoutModel",
      "state": {}
     },
     "c4758dcb69434de98024dd475615e1dc": {
      "model_module": "@jupyter-widgets/controls",
      "model_module_version": "1.0.0",
      "model_name": "FloatSliderModel",
      "state": {
       "description": "dvr_fraction",
       "layout": "IPY_MODEL_5b152c9455fd4999b9452ec750b8ac38",
       "max": 1,
       "min": 0.01,
       "step": 0.005,
       "style": "IPY_MODEL_17c121aeb8744535a0d3200098d26f6a",
       "value": 0.05
      }
     },
     "c4efd0cb31db40cf8d34b4071ef44dbf": {
      "model_module": "@jupyter-widgets/controls",
      "model_module_version": "1.0.0",
      "model_name": "SliderStyleModel",
      "state": {
       "description_width": ""
      }
     },
     "c5b680d1226b4fc59e93218d3312db81": {
      "model_module": "@jupyter-widgets/base",
      "model_module_version": "1.0.0",
      "model_name": "LayoutModel",
      "state": {}
     },
     "c67b1b3bbb21448ca0f524d20533b246": {
      "model_module": "@jupyter-widgets/output",
      "model_module_version": "1.0.0",
      "model_name": "OutputModel",
      "state": {
       "layout": "IPY_MODEL_bff9c84bf0cb46dfa84cf548840d46c6"
      }
     },
     "c6d614b2cef54e0c903f5b262f0cf12e": {
      "model_module": "@jupyter-widgets/controls",
      "model_module_version": "1.0.0",
      "model_name": "SliderStyleModel",
      "state": {
       "description_width": ""
      }
     },
     "c6ff4a658f74442d966f8595aa4cac41": {
      "model_module": "@jupyter-widgets/controls",
      "model_module_version": "1.0.0",
      "model_name": "DropdownModel",
      "state": {
       "_options_labels": [
        "n_pix",
        "n_samp",
        "rate",
        "mean_tels_triggered"
       ],
       "description": "subarray",
       "index": 0,
       "layout": "IPY_MODEL_33a015c241b94dd9a18c3b64d2366a68",
       "style": "IPY_MODEL_39db888aaa1d419080aad246a843fd5e"
      }
     },
     "c709b42d4f074e3583b6e271bc7930c3": {
      "model_module": "@jupyter-widgets/controls",
      "model_module_version": "1.0.0",
      "model_name": "FloatSliderModel",
      "state": {
       "description": "dvr_fraction",
       "layout": "IPY_MODEL_d5019f4feb4d4533bd46e558141d1750",
       "max": 1,
       "min": 0.1,
       "step": 0.1,
       "style": "IPY_MODEL_741213d71c514f9fa261a0b83691c33a",
       "value": 0.5
      }
     },
     "c7df2dc377e24f40ae3bbe76fb1bc49a": {
      "model_module": "@jupyter-widgets/base",
      "model_module_version": "1.0.0",
      "model_name": "LayoutModel",
      "state": {}
     },
     "c90414d28a7f44d5a53f8dfc0128827e": {
      "model_module": "@jupyter-widgets/controls",
      "model_module_version": "1.0.0",
      "model_name": "DescriptionStyleModel",
      "state": {
       "description_width": ""
      }
     },
     "c953ca6def184ee1b26e4896e3b5688a": {
      "model_module": "@jupyter-widgets/base",
      "model_module_version": "1.0.0",
      "model_name": "LayoutModel",
      "state": {}
     },
     "c962606626904fad909615b010872654": {
      "model_module": "@jupyter-widgets/output",
      "model_module_version": "1.0.0",
      "model_name": "OutputModel",
      "state": {
       "layout": "IPY_MODEL_cc53944ea2b84c2ca4c5f76d012d31f3"
      }
     },
     "c9f0765acb89454ab5d81bc9869a10aa": {
      "model_module": "@jupyter-widgets/controls",
      "model_module_version": "1.0.0",
      "model_name": "SliderStyleModel",
      "state": {
       "description_width": ""
      }
     },
     "c9f476135718484c949f6006979535fe": {
      "model_module": "@jupyter-widgets/controls",
      "model_module_version": "1.0.0",
      "model_name": "DescriptionStyleModel",
      "state": {
       "description_width": ""
      }
     },
     "ca767d96830149ea99dd9ee9f834dcac": {
      "model_module": "@jupyter-widgets/controls",
      "model_module_version": "1.0.0",
      "model_name": "DescriptionStyleModel",
      "state": {
       "description_width": ""
      }
     },
     "cab13d533af24cbb97c458c1ca4f9c1b": {
      "model_module": "@jupyter-widgets/base",
      "model_module_version": "1.0.0",
      "model_name": "LayoutModel",
      "state": {}
     },
     "cafacfd8c2be47738a2675dc7f36adfe": {
      "model_module": "@jupyter-widgets/controls",
      "model_module_version": "1.0.0",
      "model_name": "SliderStyleModel",
      "state": {
       "description_width": ""
      }
     },
     "cb09d5649d394a8a903eb88c45c5b134": {
      "model_module": "@jupyter-widgets/controls",
      "model_module_version": "1.0.0",
      "model_name": "DropdownModel",
      "state": {
       "_options_labels": [
        "8.0 bit",
        "16.0 bit"
       ],
       "description": "pix_info_per_pix",
       "index": 0,
       "layout": "IPY_MODEL_a69c79deca4d4e38a21477d833b5e18d",
       "style": "IPY_MODEL_15b6b9c2a7154fbb9bdcbf9672a36b87"
      }
     },
     "cb838698ff2a4bf7b72c5c26404382bb": {
      "model_module": "@jupyter-widgets/base",
      "model_module_version": "1.0.0",
      "model_name": "LayoutModel",
      "state": {}
     },
     "cb8572018a8c45e1b92a2036e9aefd11": {
      "model_module": "@jupyter-widgets/controls",
      "model_module_version": "1.0.0",
      "model_name": "VBoxModel",
      "state": {
       "_dom_classes": [
        "widget-interact"
       ],
       "children": [
        "IPY_MODEL_e24bb893c75942508ebb1ca0ede63450",
        "IPY_MODEL_dd6a9b69de3d4d1bacf9123da5c036e3",
        "IPY_MODEL_8466d60f2de1445e9e1dbdec0be30c29",
        "IPY_MODEL_15d57e8f21764691b5a9fa905db9b082"
       ],
       "layout": "IPY_MODEL_eeff5e51f0104cada7c68199a4a9f457"
      }
     },
     "cbcb02b0764843f29f2fc2313211f8b1": {
      "model_module": "@jupyter-widgets/base",
      "model_module_version": "1.0.0",
      "model_name": "LayoutModel",
      "state": {}
     },
     "cc53944ea2b84c2ca4c5f76d012d31f3": {
      "model_module": "@jupyter-widgets/base",
      "model_module_version": "1.0.0",
      "model_name": "LayoutModel",
      "state": {}
     },
     "cc76f40fd3194a34bedc1590833e5046": {
      "model_module": "@jupyter-widgets/controls",
      "model_module_version": "1.0.0",
      "model_name": "VBoxModel",
      "state": {
       "_dom_classes": [
        "widget-interact"
       ],
       "children": [
        "IPY_MODEL_07aa4a42bb614cedb545652fbca1ec06",
        "IPY_MODEL_a044518d4bdc4f26bbecc4bb2766ccd6",
        "IPY_MODEL_25bf5dc14da740af971a8ce8ae313d57",
        "IPY_MODEL_89b0ede104c14e8d96e2221581cfb8ca"
       ],
       "layout": "IPY_MODEL_5080865e5f5a4851a35c2b9fb7d5aa43"
      }
     },
     "cd3f43bfd81f4f9b978cc4b4d1530c4f": {
      "model_module": "@jupyter-widgets/output",
      "model_module_version": "1.0.0",
      "model_name": "OutputModel",
      "state": {
       "layout": "IPY_MODEL_b96e5cdbe884483fa39e4a5705ee52ca"
      }
     },
     "ce61ce7561e541cab788417199eb7068": {
      "model_module": "@jupyter-widgets/controls",
      "model_module_version": "1.0.0",
      "model_name": "FloatSliderModel",
      "state": {
       "description": "dvr_fraction",
       "layout": "IPY_MODEL_902ff88c4c964baca9c8740813b7befe",
       "max": 0.2,
       "min": 0.01,
       "step": 0.005,
       "style": "IPY_MODEL_d1d710842ce34ec797d9969ee6cec8dd",
       "value": 0.05
      }
     },
     "cea97b2804074afd81dda9627a4a49e9": {
      "model_module": "@jupyter-widgets/base",
      "model_module_version": "1.0.0",
      "model_name": "LayoutModel",
      "state": {}
     },
     "cec21c8fa6b74015b7a45f3fd2281ef9": {
      "model_module": "@jupyter-widgets/base",
      "model_module_version": "1.0.0",
      "model_name": "LayoutModel",
      "state": {}
     },
     "cf1a5c7853ac4bbbb5450102ded324a1": {
      "model_module": "@jupyter-widgets/base",
      "model_module_version": "1.0.0",
      "model_name": "LayoutModel",
      "state": {}
     },
     "d15e9cd595db465da80f12b7602e3f81": {
      "model_module": "@jupyter-widgets/base",
      "model_module_version": "1.0.0",
      "model_name": "LayoutModel",
      "state": {}
     },
     "d1c0bdd23d4046a8a4c7fe15da7da8f5": {
      "model_module": "@jupyter-widgets/controls",
      "model_module_version": "1.0.0",
      "model_name": "FloatSliderModel",
      "state": {
       "description": "dvr_fraction",
       "layout": "IPY_MODEL_2486a45791aa468c8dc870c1c6527a9b",
       "max": 1,
       "min": 0.01,
       "step": 0.005,
       "style": "IPY_MODEL_b500475391b442b29ed7fa63db45070d",
       "value": 0.05
      }
     },
     "d1d710842ce34ec797d9969ee6cec8dd": {
      "model_module": "@jupyter-widgets/controls",
      "model_module_version": "1.0.0",
      "model_name": "SliderStyleModel",
      "state": {
       "description_width": ""
      }
     },
     "d2402d555eb54ba7b542d3e3fa114032": {
      "model_module": "@jupyter-widgets/controls",
      "model_module_version": "1.0.0",
      "model_name": "DescriptionStyleModel",
      "state": {
       "description_width": ""
      }
     },
     "d250bf7ccf704e13bc4704fa9e0ec8ae": {
      "model_module": "@jupyter-widgets/controls",
      "model_module_version": "1.0.0",
      "model_name": "VBoxModel",
      "state": {
       "_dom_classes": [
        "widget-interact"
       ],
       "children": [
        "IPY_MODEL_7e9a5e4fedfc44458d0e1287763b2ce2",
        "IPY_MODEL_b0c1466cedf942a59d76e937a54a15d5",
        "IPY_MODEL_80fabbf0dc1d4a48a247b2f2cba41178",
        "IPY_MODEL_654511e14a944a3b9b0617dbbc90cc97",
        "IPY_MODEL_46162751d2a44755aeb9ec7e03aae1fb"
       ],
       "layout": "IPY_MODEL_eafe53e82bc046389856d1d395300c2d"
      }
     },
     "d2a3769fae424f51bf6f79ecf3827b33": {
      "model_module": "@jupyter-widgets/controls",
      "model_module_version": "1.0.0",
      "model_name": "DescriptionStyleModel",
      "state": {
       "description_width": ""
      }
     },
     "d3140ec7a45445dea392867d84aa45ef": {
      "model_module": "@jupyter-widgets/base",
      "model_module_version": "1.0.0",
      "model_name": "LayoutModel",
      "state": {}
     },
     "d3e5d191d9af4480af102be39f6c5696": {
      "model_module": "@jupyter-widgets/output",
      "model_module_version": "1.0.0",
      "model_name": "OutputModel",
      "state": {
       "layout": "IPY_MODEL_7058deb08a8148a6a6f72ed2d1333fb4",
       "outputs": [
        {
         "data": {
          "text/html": "<div>\n<style scoped>\n    .dataframe tbody tr th:only-of-type {\n        vertical-align: middle;\n    }\n\n    .dataframe tbody tr th {\n        vertical-align: top;\n    }\n\n    .dataframe thead th {\n        text-align: right;\n    }\n</style>\n<table border=\"1\" class=\"dataframe\">\n  <thead>\n    <tr style=\"text-align: right;\">\n      <th></th>\n      <th>rate_R1</th>\n      <th>rate_DL0</th>\n      <th>data_1_yr_PB</th>\n      <th>data_5_yr_PB</th>\n      <th>data_10_yr_PB</th>\n    </tr>\n  </thead>\n  <tbody>\n    <tr>\n      <th>LST</th>\n      <td>57.434880</td>\n      <td>1.381480</td>\n      <td>0.745999</td>\n      <td>3.729996</td>\n      <td>7.459992</td>\n    </tr>\n    <tr>\n      <th>MST</th>\n      <td>134.014720</td>\n      <td>3.223453</td>\n      <td>1.740665</td>\n      <td>8.703324</td>\n      <td>17.406648</td>\n    </tr>\n    <tr>\n      <th>SST</th>\n      <td>12.682032</td>\n      <td>0.305014</td>\n      <td>0.164708</td>\n      <td>0.823539</td>\n      <td>1.647078</td>\n    </tr>\n    <tr>\n      <th>TOTAL</th>\n      <td>204.131632</td>\n      <td>4.909948</td>\n      <td>2.651372</td>\n      <td>13.256859</td>\n      <td>26.513718</td>\n    </tr>\n  </tbody>\n</table>\n</div>",
          "text/plain": "          rate_R1  rate_DL0  data_1_yr_PB  data_5_yr_PB  data_10_yr_PB\nLST     57.434880  1.381480      0.745999      3.729996       7.459992\nMST    134.014720  3.223453      1.740665      8.703324      17.406648\nSST     12.682032  0.305014      0.164708      0.823539       1.647078\nTOTAL  204.131632  4.909948      2.651372     13.256859      26.513718"
         },
         "metadata": {},
         "output_type": "display_data"
        }
       ]
      }
     },
     "d407eabacc794a579fcf23fc3f42c016": {
      "model_module": "@jupyter-widgets/base",
      "model_module_version": "1.0.0",
      "model_name": "LayoutModel",
      "state": {}
     },
     "d431f4978d7a489e9e4bb812f934c087": {
      "model_module": "@jupyter-widgets/controls",
      "model_module_version": "1.0.0",
      "model_name": "DropdownModel",
      "state": {
       "_options_labels": [
        "8.0 bit",
        "16.0 bit"
       ],
       "description": "pix_info_per_pix",
       "index": 0,
       "layout": "IPY_MODEL_cab13d533af24cbb97c458c1ca4f9c1b",
       "style": "IPY_MODEL_c90414d28a7f44d5a53f8dfc0128827e"
      }
     },
     "d5019f4feb4d4533bd46e558141d1750": {
      "model_module": "@jupyter-widgets/base",
      "model_module_version": "1.0.0",
      "model_name": "LayoutModel",
      "state": {}
     },
     "d5d9936c64dd40f78f97098d28c8078a": {
      "model_module": "@jupyter-widgets/base",
      "model_module_version": "1.0.0",
      "model_name": "LayoutModel",
      "state": {}
     },
     "d64268a0991d4abe84830f8bd793ebce": {
      "model_module": "@jupyter-widgets/base",
      "model_module_version": "1.0.0",
      "model_name": "LayoutModel",
      "state": {}
     },
     "d729550bfc7a4cd88b14f09501373237": {
      "model_module": "@jupyter-widgets/controls",
      "model_module_version": "1.0.0",
      "model_name": "VBoxModel",
      "state": {
       "_dom_classes": [
        "widget-interact"
       ],
       "children": [
        "IPY_MODEL_4852e81f93ae47a89e31bfc29380521f",
        "IPY_MODEL_3b61de63af6f4be6b5720bb5288b8bfc",
        "IPY_MODEL_e5718de8307745bb99b7367b0e783f04",
        "IPY_MODEL_1bf5fbd629be42c48e76e4901a118bea",
        "IPY_MODEL_5855726b5704445ca09bafa736b22cf3",
        "IPY_MODEL_e97a69cbbddf49ed8ada84448c885a60"
       ],
       "layout": "IPY_MODEL_440d2d1f04384f05876cf76772bdaa47"
      }
     },
     "d73a5693d1c54602892bdb72a9266b5a": {
      "model_module": "@jupyter-widgets/controls",
      "model_module_version": "1.0.0",
      "model_name": "DescriptionStyleModel",
      "state": {
       "description_width": ""
      }
     },
     "d7573bf19c404d1099b455a0f48cdf28": {
      "model_module": "@jupyter-widgets/controls",
      "model_module_version": "1.0.0",
      "model_name": "SliderStyleModel",
      "state": {
       "description_width": ""
      }
     },
     "da1a263f8d154507b9768f13ad72a18e": {
      "model_module": "@jupyter-widgets/controls",
      "model_module_version": "1.0.0",
      "model_name": "SliderStyleModel",
      "state": {
       "description_width": ""
      }
     },
     "da53e4c37f42462c82f498b2e64ce761": {
      "model_module": "@jupyter-widgets/controls",
      "model_module_version": "1.0.0",
      "model_name": "SliderStyleModel",
      "state": {
       "description_width": ""
      }
     },
     "da833009f382466986043b37a7c8e213": {
      "model_module": "@jupyter-widgets/base",
      "model_module_version": "1.0.0",
      "model_name": "LayoutModel",
      "state": {}
     },
     "da9a14102f0648108628f21fa32d263f": {
      "model_module": "@jupyter-widgets/base",
      "model_module_version": "1.0.0",
      "model_name": "LayoutModel",
      "state": {}
     },
     "db152f56681c450c95c21074b8560d72": {
      "model_module": "@jupyter-widgets/base",
      "model_module_version": "1.0.0",
      "model_name": "LayoutModel",
      "state": {}
     },
     "dc0a88087ac242f6966dd145482e4ca1": {
      "model_module": "@jupyter-widgets/controls",
      "model_module_version": "1.0.0",
      "model_name": "FloatSliderModel",
      "state": {
       "description": "compression_ratio",
       "layout": "IPY_MODEL_70740fb97e8a4fe681effd79894dffd2",
       "max": 4,
       "min": 1,
       "step": 0.1,
       "style": "IPY_MODEL_eb53aa8494064a388c862b1887aee1d4",
       "value": 3
      }
     },
     "dc19084f3af742f0bd7be9115cac4ad6": {
      "model_module": "@jupyter-widgets/base",
      "model_module_version": "1.0.0",
      "model_name": "LayoutModel",
      "state": {}
     },
     "dd1efc151648492f9a3425ae50a1482f": {
      "model_module": "@jupyter-widgets/controls",
      "model_module_version": "1.0.0",
      "model_name": "DropdownModel",
      "state": {
       "_options_labels": [
        "0.0 bit",
        "8.0 bit",
        "16.0 bit"
       ],
       "description": "pix_info_per_pix",
       "index": 1,
       "layout": "IPY_MODEL_36ca92ea44764b1da7c716194a36dfd3",
       "style": "IPY_MODEL_89df94703e554743b3f5e2b68aaaa6e3"
      }
     },
     "dd6a9b69de3d4d1bacf9123da5c036e3": {
      "model_module": "@jupyter-widgets/controls",
      "model_module_version": "1.0.0",
      "model_name": "FloatSliderModel",
      "state": {
       "description": "compression_ratio",
       "layout": "IPY_MODEL_72e8830b620747c88f311e762b3f9092",
       "max": 1,
       "min": 0.1,
       "step": 0.1,
       "style": "IPY_MODEL_6f5a4b88254743b3b58cf528e1d47266",
       "value": 0.5
      }
     },
     "dd93b55269d845b694cd8c08803e53fe": {
      "model_module": "@jupyter-widgets/output",
      "model_module_version": "1.0.0",
      "model_name": "OutputModel",
      "state": {
       "layout": "IPY_MODEL_c5b680d1226b4fc59e93218d3312db81"
      }
     },
     "df8e0d7cee56406981456d06de006b52": {
      "model_module": "@jupyter-widgets/controls",
      "model_module_version": "1.0.0",
      "model_name": "SliderStyleModel",
      "state": {
       "description_width": ""
      }
     },
     "e24bb893c75942508ebb1ca0ede63450": {
      "model_module": "@jupyter-widgets/controls",
      "model_module_version": "1.0.0",
      "model_name": "FloatSliderModel",
      "state": {
       "description": "dvr_fraction",
       "layout": "IPY_MODEL_c291d084d9b64f38ab382e8f9521c6c7",
       "max": 1,
       "min": 0.1,
       "step": 0.1,
       "style": "IPY_MODEL_953171bb97f4474495b708581af32abb",
       "value": 0.4
      }
     },
     "e2df5e7f11fc42ab88f02b228a186a18": {
      "model_module": "@jupyter-widgets/base",
      "model_module_version": "1.0.0",
      "model_name": "LayoutModel",
      "state": {}
     },
     "e33e6e93da594f60b2de0ab9df99e3c9": {
      "model_module": "@jupyter-widgets/base",
      "model_module_version": "1.0.0",
      "model_name": "LayoutModel",
      "state": {}
     },
     "e50fbda19b0a438ca383a7fc08d7fb32": {
      "model_module": "@jupyter-widgets/output",
      "model_module_version": "1.0.0",
      "model_name": "OutputModel",
      "state": {
       "layout": "IPY_MODEL_09021ca0b0e84653910bc9942b3cdec1"
      }
     },
     "e5718de8307745bb99b7367b0e783f04": {
      "model_module": "@jupyter-widgets/controls",
      "model_module_version": "1.0.0",
      "model_name": "DropdownModel",
      "state": {
       "_options_labels": [
        "0.0 bit",
        "8.0 bit",
        "16.0 bit"
       ],
       "description": "pix_info_per_pix",
       "index": 1,
       "layout": "IPY_MODEL_6b4e10a1e96344d1b990104ca52158bc",
       "style": "IPY_MODEL_6c5f4f476f574fcf9ee48f7b84aad547"
      }
     },
     "e61521d1dbca48ffb8f47a39059d502c": {
      "model_module": "@jupyter-widgets/base",
      "model_module_version": "1.0.0",
      "model_name": "LayoutModel",
      "state": {}
     },
     "e7c4b4cdb38d4404bf198cf2569edc7e": {
      "model_module": "@jupyter-widgets/base",
      "model_module_version": "1.0.0",
      "model_name": "LayoutModel",
      "state": {}
     },
     "e92a4a012c044241a4dd7a3692cece26": {
      "model_module": "@jupyter-widgets/base",
      "model_module_version": "1.0.0",
      "model_name": "LayoutModel",
      "state": {}
     },
     "e9313e7cbe0a47748628c3ab1a4f9b98": {
      "model_module": "@jupyter-widgets/controls",
      "model_module_version": "1.0.0",
      "model_name": "SliderStyleModel",
      "state": {
       "description_width": ""
      }
     },
     "e97a69cbbddf49ed8ada84448c885a60": {
      "model_module": "@jupyter-widgets/output",
      "model_module_version": "1.0.0",
      "model_name": "OutputModel",
      "state": {
       "layout": "IPY_MODEL_70b32824bb6249de9c77663422098b8e",
       "outputs": [
        {
         "data": {
          "text/html": "<style  type=\"text/css\" >\n    #T_f847a6de_dc33_11e7_8901_3c15c2d6877erow0_col5 {\n            color:  green;\n             font-weight: bold;\n        }    #T_f847a6de_dc33_11e7_8901_3c15c2d6877erow1_col5 {\n            color:  green;\n             font-weight: bold;\n        }    #T_f847a6de_dc33_11e7_8901_3c15c2d6877erow2_col5 {\n            color:  green;\n             font-weight: bold;\n        }    #T_f847a6de_dc33_11e7_8901_3c15c2d6877erow3_col5 {\n            color:  green;\n             font-weight: bold;\n        }</style>  \n<table id=\"T_f847a6de_dc33_11e7_8901_3c15c2d6877e\" > \n<thead>    <tr> \n        <th class=\"blank level0\" ></th> \n        <th class=\"col_heading level0 col0\" >rate_R1_Gbps</th> \n        <th class=\"col_heading level0 col1\" >rate_DL0_Gbps</th> \n        <th class=\"col_heading level0 col2\" >volume_1yr_PB</th> \n        <th class=\"col_heading level0 col3\" >volume_5yr_PB</th> \n        <th class=\"col_heading level0 col4\" >volume_10yr_PB</th> \n        <th class=\"col_heading level0 col5\" >mean_transfer_Gbps</th> \n    </tr></thead> \n<tbody>    <tr> \n        <th id=\"T_f847a6de_dc33_11e7_8901_3c15c2d6877elevel0_row0\" class=\"row_heading level0 row0\" >LST</th> \n        <td id=\"T_f847a6de_dc33_11e7_8901_3c15c2d6877erow0_col0\" class=\"data row0 col0\" >57.4349</td> \n        <td id=\"T_f847a6de_dc33_11e7_8901_3c15c2d6877erow0_col1\" class=\"data row0 col1\" >1.00751</td> \n        <td id=\"T_f847a6de_dc33_11e7_8901_3c15c2d6877erow0_col2\" class=\"data row0 col2\" >0.544056</td> \n        <td id=\"T_f847a6de_dc33_11e7_8901_3c15c2d6877erow0_col3\" class=\"data row0 col3\" >2.72028</td> \n        <td id=\"T_f847a6de_dc33_11e7_8901_3c15c2d6877erow0_col4\" class=\"data row0 col4\" >5.44056</td> \n        <td id=\"T_f847a6de_dc33_11e7_8901_3c15c2d6877erow0_col5\" class=\"data row0 col5\" >0.159796</td> \n    </tr>    <tr> \n        <th id=\"T_f847a6de_dc33_11e7_8901_3c15c2d6877elevel0_row1\" class=\"row_heading level0 row1\" >MST</th> \n        <td id=\"T_f847a6de_dc33_11e7_8901_3c15c2d6877erow1_col0\" class=\"data row1 col0\" >93.8103</td> \n        <td id=\"T_f847a6de_dc33_11e7_8901_3c15c2d6877erow1_col1\" class=\"data row1 col1\" >1.6456</td> \n        <td id=\"T_f847a6de_dc33_11e7_8901_3c15c2d6877erow1_col2\" class=\"data row1 col2\" >0.888626</td> \n        <td id=\"T_f847a6de_dc33_11e7_8901_3c15c2d6877erow1_col3\" class=\"data row1 col3\" >4.44313</td> \n        <td id=\"T_f847a6de_dc33_11e7_8901_3c15c2d6877erow1_col4\" class=\"data row1 col4\" >8.88626</td> \n        <td id=\"T_f847a6de_dc33_11e7_8901_3c15c2d6877erow1_col5\" class=\"data row1 col5\" >0.261</td> \n    </tr>    <tr> \n        <th id=\"T_f847a6de_dc33_11e7_8901_3c15c2d6877elevel0_row2\" class=\"row_heading level0 row2\" >SST</th> \n        <td id=\"T_f847a6de_dc33_11e7_8901_3c15c2d6877erow2_col0\" class=\"data row2 col0\" >8.87742</td> \n        <td id=\"T_f847a6de_dc33_11e7_8901_3c15c2d6877erow2_col1\" class=\"data row2 col1\" >0.155707</td> \n        <td id=\"T_f847a6de_dc33_11e7_8901_3c15c2d6877erow2_col2\" class=\"data row2 col2\" >0.084082</td> \n        <td id=\"T_f847a6de_dc33_11e7_8901_3c15c2d6877erow2_col3\" class=\"data row2 col3\" >0.42041</td> \n        <td id=\"T_f847a6de_dc33_11e7_8901_3c15c2d6877erow2_col4\" class=\"data row2 col4\" >0.84082</td> \n        <td id=\"T_f847a6de_dc33_11e7_8901_3c15c2d6877erow2_col5\" class=\"data row2 col5\" >0.0246958</td> \n    </tr>    <tr> \n        <th id=\"T_f847a6de_dc33_11e7_8901_3c15c2d6877elevel0_row3\" class=\"row_heading level0 row3\" >TOTAL</th> \n        <td id=\"T_f847a6de_dc33_11e7_8901_3c15c2d6877erow3_col0\" class=\"data row3 col0\" >160.123</td> \n        <td id=\"T_f847a6de_dc33_11e7_8901_3c15c2d6877erow3_col1\" class=\"data row3 col1\" >2.80882</td> \n        <td id=\"T_f847a6de_dc33_11e7_8901_3c15c2d6877erow3_col2\" class=\"data row3 col2\" >1.51676</td> \n        <td id=\"T_f847a6de_dc33_11e7_8901_3c15c2d6877erow3_col3\" class=\"data row3 col3\" >7.58382</td> \n        <td id=\"T_f847a6de_dc33_11e7_8901_3c15c2d6877erow3_col4\" class=\"data row3 col4\" >15.1676</td> \n        <td id=\"T_f847a6de_dc33_11e7_8901_3c15c2d6877erow3_col5\" class=\"data row3 col5\" >0.445491</td> \n    </tr></tbody> \n</table> ",
          "text/plain": "<pandas.io.formats.style.Styler at 0x1127b1dd8>"
         },
         "metadata": {},
         "output_type": "display_data"
        }
       ]
      }
     },
     "eafe53e82bc046389856d1d395300c2d": {
      "model_module": "@jupyter-widgets/base",
      "model_module_version": "1.0.0",
      "model_name": "LayoutModel",
      "state": {}
     },
     "eb53aa8494064a388c862b1887aee1d4": {
      "model_module": "@jupyter-widgets/controls",
      "model_module_version": "1.0.0",
      "model_name": "SliderStyleModel",
      "state": {
       "description_width": ""
      }
     },
     "eb97f086e4f04380881d1c2202453035": {
      "model_module": "@jupyter-widgets/base",
      "model_module_version": "1.0.0",
      "model_name": "LayoutModel",
      "state": {}
     },
     "ebccfefdd21e4b0d9f6cd8f82de924a6": {
      "model_module": "@jupyter-widgets/controls",
      "model_module_version": "1.0.0",
      "model_name": "DropdownModel",
      "state": {
       "_options_labels": [
        "8.0 bit",
        "16.0 bit"
       ],
       "description": "pix_info_per_pix",
       "index": 0,
       "layout": "IPY_MODEL_a7ba1c9cc08149e3b3916cb32e95f4c6",
       "style": "IPY_MODEL_d2a3769fae424f51bf6f79ecf3827b33"
      }
     },
     "ebf2909cf18a448f95e2ec16c1ad4257": {
      "model_module": "@jupyter-widgets/output",
      "model_module_version": "1.0.0",
      "model_name": "OutputModel",
      "state": {
       "layout": "IPY_MODEL_eb97f086e4f04380881d1c2202453035"
      }
     },
     "edf85bc7b2e04c7a8883cb0a94ffe7dc": {
      "model_module": "@jupyter-widgets/controls",
      "model_module_version": "1.0.0",
      "model_name": "DescriptionStyleModel",
      "state": {
       "description_width": ""
      }
     },
     "eeaffc7dcda840fea694289247f9f146": {
      "model_module": "@jupyter-widgets/base",
      "model_module_version": "1.0.0",
      "model_name": "LayoutModel",
      "state": {}
     },
     "eeff5e51f0104cada7c68199a4a9f457": {
      "model_module": "@jupyter-widgets/base",
      "model_module_version": "1.0.0",
      "model_name": "LayoutModel",
      "state": {}
     },
     "efdfa34eddcf488dbc70b7317f936357": {
      "model_module": "@jupyter-widgets/base",
      "model_module_version": "1.0.0",
      "model_name": "LayoutModel",
      "state": {}
     },
     "f0cbc805a9e74f5b94a31d9316c4f6a5": {
      "model_module": "@jupyter-widgets/controls",
      "model_module_version": "1.0.0",
      "model_name": "FloatSliderModel",
      "state": {
       "description": "lossless_compression_ratio",
       "layout": "IPY_MODEL_b0078085f99c4b74a8c4847d7b9fcfbc",
       "max": 1.2000000000000002,
       "min": -0.4,
       "step": 0.1,
       "style": "IPY_MODEL_971ae266cd774b3ab634e2a48b5b16ce",
       "value": 0.4
      }
     },
     "f1aadc6e71da47d793d9240dabe41efb": {
      "model_module": "@jupyter-widgets/controls",
      "model_module_version": "1.0.0",
      "model_name": "DescriptionStyleModel",
      "state": {
       "description_width": ""
      }
     },
     "f25445381ac4400aafa685f03d53367c": {
      "model_module": "@jupyter-widgets/base",
      "model_module_version": "1.0.0",
      "model_name": "LayoutModel",
      "state": {}
     },
     "f3ff9172e47d4c1593e30eac2a09ebaf": {
      "model_module": "@jupyter-widgets/controls",
      "model_module_version": "1.0.0",
      "model_name": "VBoxModel",
      "state": {
       "_dom_classes": [
        "widget-interact"
       ],
       "children": [
        "IPY_MODEL_1c295fc13c7e42b789784b1ef5724df1",
        "IPY_MODEL_8303b479a13c42548d01c1b8bc9f4fa7",
        "IPY_MODEL_1b25a23324304d04a2544687df694e70",
        "IPY_MODEL_a6b80358288d4dacacce14ece1818cfb"
       ],
       "layout": "IPY_MODEL_6f5345a759b04aa9880a6a309efc0ce0"
      }
     },
     "f4150b78e2fc41c1aecdc8fa6062ca83": {
      "model_module": "@jupyter-widgets/base",
      "model_module_version": "1.0.0",
      "model_name": "LayoutModel",
      "state": {}
     },
     "f4780c52ea11459cbc785e2cd605a8ef": {
      "model_module": "@jupyter-widgets/controls",
      "model_module_version": "1.0.0",
      "model_name": "FloatSliderModel",
      "state": {
       "description": "compression_ratio",
       "layout": "IPY_MODEL_9b5ae6cba6a948619e0f6c07b918679e",
       "max": 4,
       "min": 1,
       "step": 0.1,
       "style": "IPY_MODEL_323eb9d3aeaa4577a289e37fdca7bd96",
       "value": 3
      }
     },
     "f4a2dc79e3604aab8ebb90096585e90b": {
      "model_module": "@jupyter-widgets/base",
      "model_module_version": "1.0.0",
      "model_name": "LayoutModel",
      "state": {}
     },
     "f54a3626a6ba4749aaf31918aa2c845e": {
      "model_module": "@jupyter-widgets/controls",
      "model_module_version": "1.0.0",
      "model_name": "DropdownModel",
      "state": {
       "_options_labels": [
        "1",
        "2"
       ],
       "description": "num_gain_channels",
       "index": 0,
       "layout": "IPY_MODEL_dc19084f3af742f0bd7be9115cac4ad6",
       "style": "IPY_MODEL_ca767d96830149ea99dd9ee9f834dcac"
      }
     },
     "f5c1563b94db43a5a5df6ded9f7a0ae4": {
      "model_module": "@jupyter-widgets/base",
      "model_module_version": "1.0.0",
      "model_name": "LayoutModel",
      "state": {}
     },
     "f7085c375c554bb9a0d9a40346cef656": {
      "model_module": "@jupyter-widgets/base",
      "model_module_version": "1.0.0",
      "model_name": "LayoutModel",
      "state": {}
     },
     "f7b46ef2c47b47069464d616b14c5d6e": {
      "model_module": "@jupyter-widgets/controls",
      "model_module_version": "1.0.0",
      "model_name": "FloatSliderModel",
      "state": {
       "description": "compression_ratio",
       "layout": "IPY_MODEL_0c9fed7efe31488ba6e4b2991a28b4f8",
       "max": 1,
       "min": 0.1,
       "step": 0.1,
       "style": "IPY_MODEL_df8e0d7cee56406981456d06de006b52",
       "value": 0.4
      }
     },
     "f7e94ee26d7e4e40a88c8fa479548663": {
      "model_module": "@jupyter-widgets/controls",
      "model_module_version": "1.0.0",
      "model_name": "FloatSliderModel",
      "state": {
       "description": "dvr_fraction",
       "layout": "IPY_MODEL_db152f56681c450c95c21074b8560d72",
       "max": 1,
       "step": 0.1,
       "style": "IPY_MODEL_13f62b85357246daa2bcadeae135d238",
       "value": 0.8
      }
     },
     "f89553a041da44daa63bfe8db41ad66a": {
      "model_module": "@jupyter-widgets/base",
      "model_module_version": "1.0.0",
      "model_name": "LayoutModel",
      "state": {}
     },
     "f8b133117ab84acc9a9262fdc18dc44e": {
      "model_module": "@jupyter-widgets/controls",
      "model_module_version": "1.0.0",
      "model_name": "SliderStyleModel",
      "state": {
       "description_width": ""
      }
     },
     "fbf5ba6249fa4753a18fd9ab51b5ec05": {
      "model_module": "@jupyter-widgets/base",
      "model_module_version": "1.0.0",
      "model_name": "LayoutModel",
      "state": {}
     },
     "fe11375dd8974e07b196f38d1cc9ee9f": {
      "model_module": "@jupyter-widgets/base",
      "model_module_version": "1.0.0",
      "model_name": "LayoutModel",
      "state": {}
     },
     "ff02f25b14194311a9f2e52aae58555c": {
      "model_module": "@jupyter-widgets/base",
      "model_module_version": "1.0.0",
      "model_name": "LayoutModel",
      "state": {}
     },
     "ff42f86c24bc42bc8eb8887c9545ba74": {
      "model_module": "@jupyter-widgets/base",
      "model_module_version": "1.0.0",
      "model_name": "LayoutModel",
      "state": {}
     }
    },
    "version_major": 2,
    "version_minor": 0
   }
  }
 },
 "nbformat": 4,
 "nbformat_minor": 2
}
