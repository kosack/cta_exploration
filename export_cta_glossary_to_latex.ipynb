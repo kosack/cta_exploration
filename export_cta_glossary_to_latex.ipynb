{
 "cells": [
  {
   "cell_type": "markdown",
   "metadata": {},
   "source": [
    "# Convert Jama Glossary to LaTeX\n",
    "\n",
    "1. In Jama, go to the glossary and choose *Export* $\\to$ *Excel* to write out `CTA-Glossary.xls`\n",
    "\n",
    "2. The ID column is not correctly read if you use XLS format, so open the result in Excel or Numbers, and export it in XLSX format\n",
    "\n",
    "3. read it into a Pandas DataFrame:\n",
    "\n",
    "Note that the header is on row 3, so we need to specify that (the rows before that will be ignored)"
   ]
  },
  {
   "cell_type": "code",
   "execution_count": 1,
   "metadata": {
    "collapsed": true
   },
   "outputs": [],
   "source": [
    "import pandas as pd\n",
    "import numpy as np\n",
    "import re"
   ]
  },
  {
   "cell_type": "code",
   "execution_count": 2,
   "metadata": {},
   "outputs": [],
   "source": [
    "glossary = pd.read_excel(\n",
    "    \"CTA-Glossary-2.xlsx\", \n",
    "    header=3, \n",
    "    sheet_name='Sheet1',\n",
    "    usecols=[0,1,2,3,4,5],\n",
    "    converters={'ID': lambda x: str(x)}\n",
    ")  "
   ]
  },
  {
   "cell_type": "markdown",
   "metadata": {},
   "source": [
    "extract the acronyms if available by searching for parentheses, and split the acronym from the expanded version (used later to properly lable acronym-like glossary entries)"
   ]
  },
  {
   "cell_type": "code",
   "execution_count": 3,
   "metadata": {},
   "outputs": [],
   "source": [
    "def is_acronym(name):\n",
    "    match = re.match(pattern='.*(\\(.*\\)).*', string=name)\n",
    "    if not match:\n",
    "        return None\n",
    "    if match:\n",
    "        abbrev = match.group(1)[1:-1]\n",
    "        return abbrev\n",
    "\n",
    "def get_shortname(name):\n",
    "    return re.sub(pattern='\\(.*\\)', repl='', string=name).strip()"
   ]
  },
  {
   "cell_type": "code",
   "execution_count": 4,
   "metadata": {},
   "outputs": [],
   "source": [
    "glossary = glossary.dropna(subset=['Description']) # get rid of undefined terms\n",
    "glossary['Acronym'] = glossary['Name'].apply(is_acronym)\n",
    "glossary['ShortName'] = glossary['Name'].apply(get_shortname)"
   ]
  },
  {
   "cell_type": "code",
   "execution_count": 5,
   "metadata": {},
   "outputs": [
    {
     "data": {
      "text/html": [
       "<div>\n",
       "<style scoped>\n",
       "    .dataframe tbody tr th:only-of-type {\n",
       "        vertical-align: middle;\n",
       "    }\n",
       "\n",
       "    .dataframe tbody tr th {\n",
       "        vertical-align: top;\n",
       "    }\n",
       "\n",
       "    .dataframe thead th {\n",
       "        text-align: right;\n",
       "    }\n",
       "</style>\n",
       "<table border=\"1\" class=\"dataframe\">\n",
       "  <thead>\n",
       "    <tr style=\"text-align: right;\">\n",
       "      <th></th>\n",
       "      <th>Modified Date</th>\n",
       "      <th>Last Activity Date</th>\n",
       "      <th>Name</th>\n",
       "      <th>Description</th>\n",
       "      <th>ID</th>\n",
       "      <th>Status</th>\n",
       "      <th>Acronym</th>\n",
       "      <th>ShortName</th>\n",
       "    </tr>\n",
       "  </thead>\n",
       "  <tbody>\n",
       "    <tr>\n",
       "      <th>1</th>\n",
       "      <td>16/05/2018</td>\n",
       "      <td>30/10/2018</td>\n",
       "      <td>CTAO</td>\n",
       "      <td>The Cherenkov Telescope Array Observatory, an ...</td>\n",
       "      <td>CTA_-GLOS-206</td>\n",
       "      <td>Stable</td>\n",
       "      <td>None</td>\n",
       "      <td>CTAO</td>\n",
       "    </tr>\n",
       "    <tr>\n",
       "      <th>2</th>\n",
       "      <td>16/05/2018</td>\n",
       "      <td>30/10/2018</td>\n",
       "      <td>CTA North</td>\n",
       "      <td>CTA Observation site hosting an Array of Chere...</td>\n",
       "      <td>CTA_-GLOS-207</td>\n",
       "      <td>Stable</td>\n",
       "      <td>None</td>\n",
       "      <td>CTA North</td>\n",
       "    </tr>\n",
       "    <tr>\n",
       "      <th>3</th>\n",
       "      <td>16/05/2018</td>\n",
       "      <td>30/10/2018</td>\n",
       "      <td>CTA South</td>\n",
       "      <td>CTA Observation site hosting an Array of Chere...</td>\n",
       "      <td>CTA_-GLOS-208</td>\n",
       "      <td>Stable</td>\n",
       "      <td>None</td>\n",
       "      <td>CTA South</td>\n",
       "    </tr>\n",
       "    <tr>\n",
       "      <th>4</th>\n",
       "      <td>19/10/2018</td>\n",
       "      <td>30/10/2018</td>\n",
       "      <td>Headquarters</td>\n",
       "      <td>The primary centre for CTAO governance, admini...</td>\n",
       "      <td>CTA_-GLOS-209</td>\n",
       "      <td>Stable</td>\n",
       "      <td>None</td>\n",
       "      <td>Headquarters</td>\n",
       "    </tr>\n",
       "    <tr>\n",
       "      <th>5</th>\n",
       "      <td>19/10/2018</td>\n",
       "      <td>30/10/2018</td>\n",
       "      <td>Science Data Management Centre (SDMC)</td>\n",
       "      <td>The primary centre for the management of CTA d...</td>\n",
       "      <td>CTA_-GLOS-210</td>\n",
       "      <td>Stable</td>\n",
       "      <td>SDMC</td>\n",
       "      <td>Science Data Management Centre</td>\n",
       "    </tr>\n",
       "  </tbody>\n",
       "</table>\n",
       "</div>"
      ],
      "text/plain": [
       "  Modified Date Last Activity Date                                   Name  \\\n",
       "1    16/05/2018         30/10/2018                                  CTAO    \n",
       "2    16/05/2018         30/10/2018                              CTA North   \n",
       "3    16/05/2018         30/10/2018                              CTA South   \n",
       "4    19/10/2018         30/10/2018                           Headquarters   \n",
       "5    19/10/2018         30/10/2018  Science Data Management Centre (SDMC)   \n",
       "\n",
       "                                         Description             ID  Status  \\\n",
       "1  The Cherenkov Telescope Array Observatory, an ...  CTA_-GLOS-206  Stable   \n",
       "2  CTA Observation site hosting an Array of Chere...  CTA_-GLOS-207  Stable   \n",
       "3  CTA Observation site hosting an Array of Chere...  CTA_-GLOS-208  Stable   \n",
       "4  The primary centre for CTAO governance, admini...  CTA_-GLOS-209  Stable   \n",
       "5  The primary centre for the management of CTA d...  CTA_-GLOS-210  Stable   \n",
       "\n",
       "  Acronym                       ShortName  \n",
       "1    None                            CTAO  \n",
       "2    None                       CTA North  \n",
       "3    None                       CTA South  \n",
       "4    None                    Headquarters  \n",
       "5    SDMC  Science Data Management Centre  "
      ]
     },
     "execution_count": 5,
     "metadata": {},
     "output_type": "execute_result"
    }
   ],
   "source": [
    "glossary.head()"
   ]
  },
  {
   "cell_type": "markdown",
   "metadata": {},
   "source": [
    "Define some format strings for glossaries and acronym entries:"
   ]
  },
  {
   "cell_type": "code",
   "execution_count": 6,
   "metadata": {
    "collapsed": true
   },
   "outputs": [],
   "source": [
    "glossary_rec = \"\"\"\n",
    "\\\\newglossaryentry{{{name}}}{{\n",
    "    name={{{name}}}, \n",
    "    description={{{description} (\\emph{{{ident}}})}}\n",
    "}}\n",
    "\"\"\""
   ]
  },
  {
   "cell_type": "code",
   "execution_count": 7,
   "metadata": {
    "collapsed": true
   },
   "outputs": [],
   "source": [
    "# this one uses cross-linking of a glossary and an acronym list, but I coudln't get it to work properly\n",
    "acronym_rec = \"\"\"\n",
    "\\\\newglossaryentry{{gl{label}}}{{\n",
    "    name={{{abbrev}}},\n",
    "    description={{ {description} (\\emph{{{ident}}})}}\n",
    "}}\n",
    "\n",
    "\\\\newglossaryentry{{{label}}}{{\n",
    "    type=\\\\acronymtype, \n",
    "    name={{{abbrev}}}, \n",
    "    description={{{name}}}, \n",
    "    first={{{name} ({abbrev})\\\\glsadd{{gl{label}}}}}, \n",
    "    see=[Glossary:]{{gl{label}}}\n",
    "}}\n",
    "\n",
    "\"\"\""
   ]
  },
  {
   "cell_type": "code",
   "execution_count": 8,
   "metadata": {
    "collapsed": true
   },
   "outputs": [],
   "source": [
    "# a more simplified version for acronyms as glossary entries only\n",
    "acronym_rec = \"\"\"\n",
    "\\\\newglossaryentry{{{label}}}{{\n",
    "    name={{{abbrev}}}, \n",
    "    description={{{description}}}, \n",
    "    first={{{name} ({abbrev})}}, \n",
    "}}\n",
    "\"\"\""
   ]
  },
  {
   "cell_type": "code",
   "execution_count": 9,
   "metadata": {
    "collapsed": true
   },
   "outputs": [],
   "source": [
    "import re\n",
    "def convert_to_glossary(acro, name, description, ident):\n",
    "    \"\"\"\n",
    "    convert a row in the table to a glossary or acronym entry\n",
    "    \"\"\"\n",
    "    name = name.strip()\n",
    "    description= description.strip()\n",
    "    description = description.replace('_', r'\\_')\n",
    "    description = description.replace('%', r'\\%')\n",
    "    description = description.replace('\\n', ' ')\n",
    "    description =  re.sub('[^\\x00-\\x7F]+',' ', description ) # remove non-ascii chars\n",
    "   \n",
    "    ident = ident.strip()\n",
    "    ident = ident.replace('CTA_', 'CTA')\n",
    "    ident = ident.replace('_', r'\\_') \n",
    "    \n",
    "    if acro is not None: # if it's an acronym\n",
    "        return acronym_rec.format(\n",
    "            label=acro, abbrev=acro, name=name, description=f\"({name}) {description}\", ident=ident\n",
    "        )\n",
    "    \n",
    "    # otherwise regular glossary entry\n",
    "    return glossary_rec.format(name=name, description=description, ident=ident)\n",
    "    "
   ]
  },
  {
   "cell_type": "markdown",
   "metadata": {},
   "source": [
    "Loop through the rows and write out a glossary entry as a LaTeX .inc file that you can use by \n",
    "```latex\n",
    "\\input cta-glossary-defs.inc\n",
    "```\n",
    "in the LaTeX file, and then later:\n",
    "```latex\n",
    "This is an example of \\glspl{Dark Pedestal} calculated in the \\gls{OES}\n",
    "```"
   ]
  },
  {
   "cell_type": "code",
   "execution_count": 10,
   "metadata": {},
   "outputs": [],
   "source": [
    "with open(\"cta-glossary-defs.inc\", 'w') as outfile:\n",
    "    for acro, name, description, ident in zip(glossary.Acronym, glossary.ShortName, glossary.Description, glossary.ID):\n",
    "        outfile.write(convert_to_glossary(acro, name, description, ident))\n"
   ]
  },
  {
   "cell_type": "code",
   "execution_count": 11,
   "metadata": {},
   "outputs": [
    {
     "name": "stdout",
     "output_type": "stream",
     "text": [
      "\\newglossaryentry{Availability}{\r\n",
      "    name={Availability}, \r\n",
      "    description={The ability of an item or system to be in a state to perform a required function under given conditions over a given time interval assuming that the required external resources are provided. Generally, the Availability is defined by the formula A = (Uptime) / (Uptime + Downtime), where \"Uptime\" is the total time that the system is performing required functions and \"Downtime\" is the time where the system is not able to perform (can include the \"time off\" if corrective maintenance activities are deferred to be performed during daytime, or \"MTTR\" if corrective maintenance activities can be done during night in safe conditions, see ECA). (\\emph{CTA-GLOS-312})}\r\n",
      "}\r\n",
      "\r\n",
      "\\newglossaryentry{ACMT}{\r\n",
      "    name={ACMT}, \r\n",
      "    description={(Active Corrective Maintenance Time) The direct time spent by maintenance personnel after the arrival at the location of a failure; to troubleshoot, isolate the fault, repair and complete a functional check and verify that the equipment has been restored to operational status. The ACMT assumes that all documentation, spare parts and minimum required tools and test equipment for First Level Maintenance are available at the specialized workshop on site; Note: Maintenance Logistic Time required to obtain any of above items is excluded from the ACMT.}, \r\n",
      "    first={Active Corrective Maintenance Time (ACMT)}, \r\n",
      "}\r\n",
      "\r\n",
      "\\newglossaryentry{NSB}{\r\n",
      "    name={NSB}, \r\n",
      "    description={Night Sky Background (Light) (\\emph{CTA-GLOS-229})}\r\n",
      "}\r\n",
      "\r\n",
      "\\newglossaryentry{pe}{\r\n",
      "    name={pe}, \r\n",
      "    description={photoelectrons(s) (\\emph{CTA-GLOS-241})}\r\n",
      "}\r\n",
      "\r\n",
      "\\newglossaryentry{rms}{\r\n",
      "    name={rms}, \r\n",
      "    description={Root-mean-square (\\emph{CTA-GLOS-242})}\r\n",
      "}\r\n",
      "\r\n",
      "\\newglossaryentry{LRU}{\r\n",
      "    name={LRU}, \r\n",
      "    description={Line Replaceable Unit (\\emph{CTA-GLOS-243})}\r\n",
      "}\r\n",
      "\r\n",
      "\\newglossaryentry{Primary Care}{\r\n",
      "    name={Primary Care}, \r\n",
      "    description={Also known as first aid, the provision of initial care for an illness or injury. Primary care level capability can be said to exist if an individual is present who holds a first aid qualification covering the following aspects: 1) preservation of life, 2) prevention of further harm and 3) promotion of recovery. (\\emph{CTA-GLOS-267})}\r\n",
      "}\r\n",
      "\r\n",
      "\\newglossaryentry{GTI}{\r\n",
      "    name={GTI}, \r\n",
      "    description={Good Time Interval (\\emph{CTA-GLOS-358})}\r\n",
      "}\r\n"
     ]
    }
   ],
   "source": [
    "! tail -n 40 cta-glossary-defs.inc"
   ]
  },
  {
   "cell_type": "code",
   "execution_count": null,
   "metadata": {
    "collapsed": true
   },
   "outputs": [],
   "source": []
  },
  {
   "cell_type": "code",
   "execution_count": null,
   "metadata": {
    "collapsed": true
   },
   "outputs": [],
   "source": []
  }
 ],
 "metadata": {
  "kernelspec": {
   "display_name": "Python 3",
   "language": "python",
   "name": "python3"
  },
  "language_info": {
   "codemirror_mode": {
    "name": "ipython",
    "version": 3
   },
   "file_extension": ".py",
   "mimetype": "text/x-python",
   "name": "python",
   "nbconvert_exporter": "python",
   "pygments_lexer": "ipython3",
   "version": "3.6.2"
  }
 },
 "nbformat": 4,
 "nbformat_minor": 2
}
