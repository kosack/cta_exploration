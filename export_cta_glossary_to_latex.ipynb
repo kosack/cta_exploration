{
 "cells": [
  {
   "cell_type": "markdown",
   "metadata": {},
   "source": [
    "# Convert Jama Glossary to LaTeX\n",
    "\n",
    "Step 1. In Jama, go to the glossary and choose *Export* $\\to$ *Excel* to write out `CTA-Glossary.xls`\n",
    "\n",
    "Step 2. read it into a Pandas DataFrame:\n",
    "\n",
    "Note that the header is on row 3, so we need to specify that (the rows before that will be ignored)"
   ]
  },
  {
   "cell_type": "code",
   "execution_count": 147,
   "metadata": {},
   "outputs": [],
   "source": [
    "import pandas as pd\n",
    "import numpy as np"
   ]
  },
  {
   "cell_type": "code",
   "execution_count": 99,
   "metadata": {},
   "outputs": [],
   "source": [
    "glossary = pd.read_excel(\n",
    "    \"CTA-Glossary.xls\", \n",
    "    header=3, \n",
    "    sheet_name='Sheet1',\n",
    "    usecols=[0,1,2,3,4,5],\n",
    "    converters={'ID': lambda x: str(x)}\n",
    ")  "
   ]
  },
  {
   "cell_type": "code",
   "execution_count": 100,
   "metadata": {},
   "outputs": [
    {
     "data": {
      "text/html": [
       "<div>\n",
       "<style scoped>\n",
       "    .dataframe tbody tr th:only-of-type {\n",
       "        vertical-align: middle;\n",
       "    }\n",
       "\n",
       "    .dataframe tbody tr th {\n",
       "        vertical-align: top;\n",
       "    }\n",
       "\n",
       "    .dataframe thead th {\n",
       "        text-align: right;\n",
       "    }\n",
       "</style>\n",
       "<table border=\"1\" class=\"dataframe\">\n",
       "  <thead>\n",
       "    <tr style=\"text-align: right;\">\n",
       "      <th></th>\n",
       "      <th>Modified Date</th>\n",
       "      <th>Last Activity Date</th>\n",
       "      <th>Name</th>\n",
       "      <th>Description</th>\n",
       "      <th>ID</th>\n",
       "      <th>Status</th>\n",
       "    </tr>\n",
       "  </thead>\n",
       "  <tbody>\n",
       "    <tr>\n",
       "      <th>0</th>\n",
       "      <td>09/06/2017</td>\n",
       "      <td>09/06/2017</td>\n",
       "      <td>CTA Constituents</td>\n",
       "      <td>NaN</td>\n",
       "      <td>NaN</td>\n",
       "      <td>NaN</td>\n",
       "    </tr>\n",
       "    <tr>\n",
       "      <th>1</th>\n",
       "      <td>16/05/2018</td>\n",
       "      <td>16/05/2018</td>\n",
       "      <td>CTAO</td>\n",
       "      <td>The Cherenkov Telescope Array Observatory, an ...</td>\n",
       "      <td>NaN</td>\n",
       "      <td>Stable</td>\n",
       "    </tr>\n",
       "    <tr>\n",
       "      <th>2</th>\n",
       "      <td>16/05/2018</td>\n",
       "      <td>16/05/2018</td>\n",
       "      <td>CTA North</td>\n",
       "      <td>CTA Observation site hosting an Array of Chere...</td>\n",
       "      <td>NaN</td>\n",
       "      <td>Stable</td>\n",
       "    </tr>\n",
       "    <tr>\n",
       "      <th>3</th>\n",
       "      <td>16/05/2018</td>\n",
       "      <td>16/05/2018</td>\n",
       "      <td>CTA South</td>\n",
       "      <td>CTA Observation site hosting an Array of Chere...</td>\n",
       "      <td>NaN</td>\n",
       "      <td>Stable</td>\n",
       "    </tr>\n",
       "    <tr>\n",
       "      <th>4</th>\n",
       "      <td>16/05/2018</td>\n",
       "      <td>16/05/2018</td>\n",
       "      <td>Headquarters</td>\n",
       "      <td>The primary centre for CTAO governance, admini...</td>\n",
       "      <td>NaN</td>\n",
       "      <td>Stable</td>\n",
       "    </tr>\n",
       "  </tbody>\n",
       "</table>\n",
       "</div>"
      ],
      "text/plain": [
       "  Modified Date Last Activity Date              Name  \\\n",
       "0    09/06/2017         09/06/2017  CTA Constituents   \n",
       "1    16/05/2018         16/05/2018             CTAO    \n",
       "2    16/05/2018         16/05/2018         CTA North   \n",
       "3    16/05/2018         16/05/2018         CTA South   \n",
       "4    16/05/2018         16/05/2018      Headquarters   \n",
       "\n",
       "                                         Description   ID  Status  \n",
       "0                                                NaN  NaN     NaN  \n",
       "1  The Cherenkov Telescope Array Observatory, an ...  NaN  Stable  \n",
       "2  CTA Observation site hosting an Array of Chere...  NaN  Stable  \n",
       "3  CTA Observation site hosting an Array of Chere...  NaN  Stable  \n",
       "4  The primary centre for CTAO governance, admini...  NaN  Stable  "
      ]
     },
     "execution_count": 100,
     "metadata": {},
     "output_type": "execute_result"
    }
   ],
   "source": [
    "glossary.head()"
   ]
  },
  {
   "cell_type": "code",
   "execution_count": 142,
   "metadata": {},
   "outputs": [],
   "source": [
    "glossary = glossary.dropna(subset=['Description']) # get rid of undefined terms"
   ]
  },
  {
   "cell_type": "code",
   "execution_count": 143,
   "metadata": {},
   "outputs": [],
   "source": [
    "glossary_rec = \"\\\\newglossaryentry{{{name}}}{{name={{{name}}}, description={{{description}}}}}\\n\\n\""
   ]
  },
  {
   "cell_type": "code",
   "execution_count": 144,
   "metadata": {},
   "outputs": [
    {
     "name": "stdout",
     "output_type": "stream",
     "text": [
      "\\newglossaryentry{thingy}{name={thingy}, description={stuff}}\n",
      "\n",
      "\n"
     ]
    }
   ],
   "source": [
    "print(glossary_rec.format(name=\"thingy\", description=\"stuff\"))"
   ]
  },
  {
   "cell_type": "code",
   "execution_count": 159,
   "metadata": {},
   "outputs": [],
   "source": [
    "with open(\"cta-glossary-defs.inc\", 'w') as outfile:\n",
    "    for name, description in zip(glossary.Name, glossary.Description):\n",
    "        outfile.write(\n",
    "            glossary_rec.format(\n",
    "                name=str(name).strip(), \n",
    "                description=str(description).strip()\n",
    "            )\n",
    "        )\n"
   ]
  },
  {
   "cell_type": "code",
   "execution_count": 161,
   "metadata": {},
   "outputs": [
    {
     "name": "stdout",
     "output_type": "stream",
     "text": [
      "\\newglossaryentry{CTAO}{name={CTAO}, description={The Cherenkov Telescope Array Observatory, an international user facility distributed over four primary sites: a Headquarters, Science Data Management Centre, and two array-sites in the norhtern and southern hemispheres: CTA-N and CTA-S.}}\r\n",
      "\r\n",
      "\\newglossaryentry{CTA North}{name={CTA North}, description={CTA Observation site hosting an Array of Cherenkov Telescopes, in the Northern Hemisphere. The selected CTA North site is Observatorio del Roque de los Muchachos (ORM), La Palma, Spain. CTA North may be abbreviated as CTA-N.}}\r\n",
      "\r\n",
      "\\newglossaryentry{CTA South}{name={CTA South}, description={CTA Observation site hosting an Array of Cherenkov Telescopes, in the Southern Hemisphere. The selected CTA South site is lies between the locations of the Paranal and Armazones ESO telescope sites in Chile. CTA South may be abbreviated as CTA-S.}}\r\n",
      "\r\n",
      "\\newglossaryentry{Headquarters}{name={Headquarters}, description={The primary centre for CTAO governance, administration and management. The CTA Headquarters (HQ) will be sited in Bologna.}}\r\n",
      "\r\n",
      "\\newglossaryentry{Science Data Management Centre (SDMC)}{name={Science Data Management Centre (SDMC)}, description={The primary centre for the management of CTA data products and science user support including proposal handling. The CTA Science Data Management Centre (SDMC) will be sited in Zeuthen, Germany.}}\r\n",
      "\r\n"
     ]
    }
   ],
   "source": [
    "! head cta-glossary-defs.inc"
   ]
  },
  {
   "cell_type": "code",
   "execution_count": null,
   "metadata": {},
   "outputs": [],
   "source": []
  }
 ],
 "metadata": {
  "kernelspec": {
   "display_name": "Python 3",
   "language": "python",
   "name": "python3"
  },
  "language_info": {
   "codemirror_mode": {
    "name": "ipython",
    "version": 3
   },
   "file_extension": ".py",
   "mimetype": "text/x-python",
   "name": "python",
   "nbconvert_exporter": "python",
   "pygments_lexer": "ipython3",
   "version": "3.6.2"
  }
 },
 "nbformat": 4,
 "nbformat_minor": 2
}
