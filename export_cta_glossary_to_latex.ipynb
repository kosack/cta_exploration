{
 "cells": [
  {
   "cell_type": "markdown",
   "metadata": {},
   "source": [
    "# Convert Jama Glossary to LaTeX\n",
    "\n",
    "1. In Jama, go to the glossary and choose *Export* $\\to$ *Excel* to write out `CTA-Glossary.xls`\n",
    "\n",
    "2. The ID column is not correctly read if you use XLS format, so open the result in Excel or Numbers, and export it in XLSX format\n",
    "\n",
    "3. read it into a Pandas DataFrame:\n",
    "\n",
    "Note that the header is on row 3, so we need to specify that (the rows before that will be ignored)"
   ]
  },
  {
   "cell_type": "code",
   "execution_count": 1,
   "metadata": {},
   "outputs": [],
   "source": [
    "import pandas as pd\n",
    "import numpy as np"
   ]
  },
  {
   "cell_type": "code",
   "execution_count": 2,
   "metadata": {},
   "outputs": [],
   "source": [
    "glossary = pd.read_excel(\n",
    "    \"CTA-Glossary.xlsx\", \n",
    "    header=3, \n",
    "    sheet_name='Sheet1',\n",
    "    usecols=[0,1,2,3,4,5],\n",
    "    converters={'ID': lambda x: str(x)}\n",
    ")  "
   ]
  },
  {
   "cell_type": "code",
   "execution_count": 3,
   "metadata": {},
   "outputs": [
    {
     "data": {
      "text/html": [
       "<div>\n",
       "<style scoped>\n",
       "    .dataframe tbody tr th:only-of-type {\n",
       "        vertical-align: middle;\n",
       "    }\n",
       "\n",
       "    .dataframe tbody tr th {\n",
       "        vertical-align: top;\n",
       "    }\n",
       "\n",
       "    .dataframe thead th {\n",
       "        text-align: right;\n",
       "    }\n",
       "</style>\n",
       "<table border=\"1\" class=\"dataframe\">\n",
       "  <thead>\n",
       "    <tr style=\"text-align: right;\">\n",
       "      <th></th>\n",
       "      <th>Modified Date</th>\n",
       "      <th>Last Activity Date</th>\n",
       "      <th>Name</th>\n",
       "      <th>Description</th>\n",
       "      <th>ID</th>\n",
       "      <th>Status</th>\n",
       "    </tr>\n",
       "  </thead>\n",
       "  <tbody>\n",
       "    <tr>\n",
       "      <th>0</th>\n",
       "      <td>09/06/2017</td>\n",
       "      <td>09/06/2017</td>\n",
       "      <td>CTA Constituents</td>\n",
       "      <td>NaN</td>\n",
       "      <td>CTA_-FLD-4</td>\n",
       "      <td>NaN</td>\n",
       "    </tr>\n",
       "    <tr>\n",
       "      <th>1</th>\n",
       "      <td>16/05/2018</td>\n",
       "      <td>16/05/2018</td>\n",
       "      <td>CTAO</td>\n",
       "      <td>The Cherenkov Telescope Array Observatory, an ...</td>\n",
       "      <td>CTA_-GLOS-206</td>\n",
       "      <td>Stable</td>\n",
       "    </tr>\n",
       "    <tr>\n",
       "      <th>2</th>\n",
       "      <td>16/05/2018</td>\n",
       "      <td>16/05/2018</td>\n",
       "      <td>CTA North</td>\n",
       "      <td>CTA Observation site hosting an Array of Chere...</td>\n",
       "      <td>CTA_-GLOS-207</td>\n",
       "      <td>Stable</td>\n",
       "    </tr>\n",
       "    <tr>\n",
       "      <th>3</th>\n",
       "      <td>16/05/2018</td>\n",
       "      <td>16/05/2018</td>\n",
       "      <td>CTA South</td>\n",
       "      <td>CTA Observation site hosting an Array of Chere...</td>\n",
       "      <td>CTA_-GLOS-208</td>\n",
       "      <td>Stable</td>\n",
       "    </tr>\n",
       "    <tr>\n",
       "      <th>4</th>\n",
       "      <td>16/05/2018</td>\n",
       "      <td>16/05/2018</td>\n",
       "      <td>Headquarters</td>\n",
       "      <td>The primary centre for CTAO governance, admini...</td>\n",
       "      <td>CTA_-GLOS-209</td>\n",
       "      <td>Stable</td>\n",
       "    </tr>\n",
       "  </tbody>\n",
       "</table>\n",
       "</div>"
      ],
      "text/plain": [
       "  Modified Date Last Activity Date              Name  \\\n",
       "0    09/06/2017         09/06/2017  CTA Constituents   \n",
       "1    16/05/2018         16/05/2018             CTAO    \n",
       "2    16/05/2018         16/05/2018         CTA North   \n",
       "3    16/05/2018         16/05/2018         CTA South   \n",
       "4    16/05/2018         16/05/2018      Headquarters   \n",
       "\n",
       "                                         Description             ID  Status  \n",
       "0                                                NaN     CTA_-FLD-4     NaN  \n",
       "1  The Cherenkov Telescope Array Observatory, an ...  CTA_-GLOS-206  Stable  \n",
       "2  CTA Observation site hosting an Array of Chere...  CTA_-GLOS-207  Stable  \n",
       "3  CTA Observation site hosting an Array of Chere...  CTA_-GLOS-208  Stable  \n",
       "4  The primary centre for CTAO governance, admini...  CTA_-GLOS-209  Stable  "
      ]
     },
     "execution_count": 3,
     "metadata": {},
     "output_type": "execute_result"
    }
   ],
   "source": [
    "glossary.head()"
   ]
  },
  {
   "cell_type": "code",
   "execution_count": 4,
   "metadata": {},
   "outputs": [],
   "source": [
    "glossary = glossary.dropna(subset=['Description']) # get rid of undefined terms"
   ]
  },
  {
   "cell_type": "code",
   "execution_count": 5,
   "metadata": {},
   "outputs": [],
   "source": [
    "glossary_rec = \"\"\"\n",
    "\\\\newglossaryentry{{{name}}}{{\n",
    "    name={{{name}}}, \n",
    "    description={{{description} (\\emph{{{ident}}})}}\n",
    "}}\n",
    "\"\"\"\n",
    "\n",
    "acronym_rec = \"\"\"\n",
    "\\\\newacronym{{{abbrev}}}{{{name}}}{{{description} (\\emph{{{ident}}})}}\n",
    "\"\"\""
   ]
  },
  {
   "cell_type": "code",
   "execution_count": 7,
   "metadata": {},
   "outputs": [],
   "source": [
    "import re\n",
    "def convert_to_glossary(fullname, description, ident):\n",
    "    \"\"\"\n",
    "    Deals with acronym-like defnitions and normal glossary entries. If the name contains (), it's \n",
    "    assumed to be the acronym\n",
    "    \"\"\"\n",
    "    fullname = fullname.strip()\n",
    "    description= description.strip()\n",
    "    ident=ident.strip()\n",
    "    \n",
    "    is_acro = re.match(pattern='.*(\\(.*\\)).*', string=fullname)\n",
    "    if is_acro: # if it's an acronym\n",
    "        abbrev = is_acro.group(1)[1:-1]\n",
    "        name = re.sub(pattern='\\(.*\\)', repl='', string=fullname).strip()\n",
    "        return acronym_rec.format(\n",
    "            name=name, abbrev=abbrev, description=description, ident=ident\n",
    "        )\n",
    "    \n",
    "    # otherwise regular glossary entry\n",
    "    return glossary_rec.format(name=fullname, description=description, ident=ident)\n",
    "    "
   ]
  },
  {
   "cell_type": "code",
   "execution_count": 8,
   "metadata": {},
   "outputs": [],
   "source": [
    "with open(\"cta-glossary-defs.inc\", 'w') as outfile:\n",
    "    for name, description, ident in zip(glossary.Name, glossary.Description, glossary.ID):\n",
    "        outfile.write(convert_to_glossary(name, description, ident))\n"
   ]
  },
  {
   "cell_type": "code",
   "execution_count": 11,
   "metadata": {},
   "outputs": [
    {
     "name": "stdout",
     "output_type": "stream",
     "text": [
      "\\newacronym{OCC}{Occurrence Ranking}{OCC is a relative numerical scale estimating the probability that the cause, if it occurs, will produce the failure mode and its particular effect. (\\emph{CTA_-GLOS-346})}\r\n",
      "\r\n",
      "\\newacronym{DET}{Detection Ranking}{DET is a relative numerical scale estimating the effectiveness of the controls to prevent or detect the cause or failure mode before the failure reaches the customer. The assumption is that the cause has occurred. (\\emph{CTA_-GLOS-347})}\r\n",
      "\r\n",
      "\\newglossaryentry{Emergency situation}{\r\n",
      "    name={Emergency situation}, \r\n",
      "    description={An immediately hazardous situation that needs to be ended or averted quickly in order to prevent injury or damage. (\\emph{CTA_-GLOS-348})}\r\n",
      "}\r\n",
      "\r\n",
      "\\newacronym{E-Stop}{Emergency stop}{An E-Stop is a function that is intended to avert harm or to reduce existing hazards to persons, machinery, or work in progress. E-Stop is not a safeguard but is considered to be a complementary protective measure. (\\emph{CTA_-GLOS-349})}\r\n",
      "\r\n",
      "\\newglossaryentry{Emergency stop button}{\r\n",
      "    name={Emergency stop button}, \r\n",
      "    description={A red mushroom-headed button that, when activated, will immediately start the emergency stop sequence (\\emph{CTA_-GLOS-350})}\r\n",
      "}\r\n",
      "\r\n",
      "\\newglossaryentry{NSB}{\r\n",
      "    name={NSB}, \r\n",
      "    description={Night Sky Background (Light) (\\emph{CTA_-GLOS-229})}\r\n",
      "}\r\n",
      "\r\n",
      "\\newglossaryentry{pe}{\r\n",
      "    name={pe}, \r\n",
      "    description={photoelectrons(s) (\\emph{CTA_-GLOS-241})}\r\n",
      "}\r\n",
      "\r\n",
      "\\newglossaryentry{rms}{\r\n",
      "    name={rms}, \r\n",
      "    description={Root-mean-square (\\emph{CTA_-GLOS-242})}\r\n",
      "}\r\n",
      "\r\n",
      "\\newglossaryentry{LRU}{\r\n",
      "    name={LRU}, \r\n",
      "    description={Line Replaceable Unit (\\emph{CTA_-GLOS-243})}\r\n",
      "}\r\n",
      "\r\n",
      "\\newglossaryentry{Primary Care}{\r\n",
      "    name={Primary Care}, \r\n",
      "    description={Also known as first aid, the provision of initial care for an illness or injury. Primary care level capability can be said to exist if an individual is present who holds a first aid qualification covering the following aspects: 1) preservation of life, 2) prevention of further harm and 3) promotion of recovery. (\\emph{CTA_-GLOS-267})}\r\n",
      "}\r\n"
     ]
    }
   ],
   "source": [
    "! tail -n 40 cta-glossary-defs.inc"
   ]
  },
  {
   "cell_type": "code",
   "execution_count": null,
   "metadata": {},
   "outputs": [],
   "source": []
  }
 ],
 "metadata": {
  "kernelspec": {
   "display_name": "Python 3",
   "language": "python",
   "name": "python3"
  },
  "language_info": {
   "codemirror_mode": {
    "name": "ipython",
    "version": 3
   },
   "file_extension": ".py",
   "mimetype": "text/x-python",
   "name": "python",
   "nbconvert_exporter": "python",
   "pygments_lexer": "ipython3",
   "version": "3.6.2"
  }
 },
 "nbformat": 4,
 "nbformat_minor": 2
}
